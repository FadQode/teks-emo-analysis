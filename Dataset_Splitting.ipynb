{
  "cells": [
    {
      "cell_type": "markdown",
      "metadata": {
        "colab_type": "text",
        "id": "view-in-github"
      },
      "source": [
        "<a href=\"https://colab.research.google.com/github/FadQode/teks-emo-analysis/blob/main/emotion_analysis.ipynb\" target=\"_parent\"><img src=\"https://colab.research.google.com/assets/colab-badge.svg\" alt=\"Open In Colab\"/></a>"
      ]
    },
    {
      "cell_type": "markdown",
      "metadata": {},
      "source": [
        "read README if stuck, it mights help"
      ]
    },
    {
      "cell_type": "code",
      "execution_count": 66,
      "metadata": {
        "id": "1plQ4ffwHZrT"
      },
      "outputs": [],
      "source": [
        "import pandas as pd\n",
        "import numpy as np\n",
        "import tensorflow as tf\n",
        "from google.colab import userdata\n",
        "from sklearn.model_selection import train_test_split\n",
        "HF_SECRET = userdata.get('HF_SECRET')"
      ]
    },
    {
      "cell_type": "code",
      "execution_count": null,
      "metadata": {
        "id": "-cOsRw9DHmzG"
      },
      "outputs": [],
      "source": [
        "# Load dataset pertama\n",
        "df1 = pd.read_parquet(\"hf://datasets/Alauddin-Ali/emotion_sentiment_dataset/data/train-00000-of-00001.parquet\")\n",
        "\n",
        "# Load dataset kedua\n",
        "splits = {'train': 'train_data.csv', 'validation': 'val_data.csv', 'test': 'test_data.csv'}\n",
        "df2 = pd.read_csv(\"hf://datasets/elvanromp/emosi_tweet/\" + splits[\"train\"])"
      ]
    },
    {
      "cell_type": "code",
      "execution_count": null,
      "metadata": {
        "colab": {
          "base_uri": "https://localhost:8080/"
        },
        "id": "2HytjUp1IQ3A",
        "outputId": "350f2258-170d-4089-97cc-ccfa916f6c6f"
      },
      "outputs": [
        {
          "name": "stdout",
          "output_type": "stream",
          "text": [
            "<class 'pandas.core.frame.DataFrame'>\n",
            "RangeIndex: 3432 entries, 0 to 3431\n",
            "Data columns (total 2 columns):\n",
            " #   Column   Non-Null Count  Dtype \n",
            "---  ------   --------------  ----- \n",
            " 0   text     3432 non-null   object\n",
            " 1   emotion  3432 non-null   object\n",
            "dtypes: object(2)\n",
            "memory usage: 53.8+ KB\n",
            "None\n",
            "<class 'pandas.core.frame.DataFrame'>\n",
            "RangeIndex: 3867 entries, 0 to 3866\n",
            "Data columns (total 2 columns):\n",
            " #   Column  Non-Null Count  Dtype \n",
            "---  ------  --------------  ----- \n",
            " 0   text    3867 non-null   object\n",
            " 1   label   3867 non-null   int64 \n",
            "dtypes: int64(1), object(1)\n",
            "memory usage: 60.5+ KB\n",
            "None\n"
          ]
        }
      ],
      "source": [
        "print(df1.info())\n",
        "print(df2.info())"
      ]
    },
    {
      "cell_type": "code",
      "execution_count": null,
      "metadata": {
        "id": "bJ-gb19DdMhv"
      },
      "outputs": [],
      "source": [
        "emotion_label = {\n",
        "    'anger': 4,\n",
        "    'fear': 5,\n",
        "    'joy': 2,\n",
        "    'love': 3,\n",
        "    'sadness': 0,\n",
        "    'surprise': 1\n",
        "    }\n",
        "\n",
        "df1['emotion'] = df1['emotion'].map(emotion_label).astype(int)\n",
        "df2.rename(columns={\"label\": \"emotion\"}, inplace=True,)\n"
      ]
    },
    {
      "cell_type": "code",
      "execution_count": null,
      "metadata": {
        "colab": {
          "base_uri": "https://localhost:8080/"
        },
        "id": "6zimIA73evMx",
        "outputId": "6eb60c40-6525-41c7-d4cd-33f0f1456236"
      },
      "outputs": [
        {
          "name": "stdout",
          "output_type": "stream",
          "text": [
            "<class 'pandas.core.frame.DataFrame'>\n",
            "RangeIndex: 3432 entries, 0 to 3431\n",
            "Data columns (total 2 columns):\n",
            " #   Column   Non-Null Count  Dtype \n",
            "---  ------   --------------  ----- \n",
            " 0   text     3432 non-null   object\n",
            " 1   emotion  3432 non-null   int64 \n",
            "dtypes: int64(1), object(1)\n",
            "memory usage: 53.8+ KB\n",
            "None\n",
            "<class 'pandas.core.frame.DataFrame'>\n",
            "RangeIndex: 3867 entries, 0 to 3866\n",
            "Data columns (total 2 columns):\n",
            " #   Column   Non-Null Count  Dtype \n",
            "---  ------   --------------  ----- \n",
            " 0   text     3867 non-null   object\n",
            " 1   emotion  3867 non-null   int64 \n",
            "dtypes: int64(1), object(1)\n",
            "memory usage: 60.5+ KB\n",
            "None\n"
          ]
        }
      ],
      "source": [
        "print(df1.info())\n",
        "print(df2.info())"
      ]
    },
    {
      "cell_type": "code",
      "execution_count": null,
      "metadata": {
        "colab": {
          "base_uri": "https://localhost:8080/"
        },
        "id": "13BPteatc0Ln",
        "outputId": "007a9b6b-9b72-43c0-9016-318a5e1a22b7"
      },
      "outputs": [
        {
          "name": "stdout",
          "output_type": "stream",
          "text": [
            "emotion\n",
            "0    1101\n",
            "1    1737\n",
            "2    1015\n",
            "3    1204\n",
            "4    1194\n",
            "5    1048\n",
            "dtype: int64\n"
          ]
        }
      ],
      "source": [
        "emotions = df1.groupby('emotion').size() + df2.groupby('emotion').size()\n",
        "print(emotions)"
      ]
    },
    {
      "cell_type": "code",
      "execution_count": null,
      "metadata": {
        "id": "XNXTIVrdgz65"
      },
      "outputs": [],
      "source": [
        "df1_train, df1_temp = train_test_split(df1, test_size=0.15, random_state=42, stratify=df1['emotion'])\n",
        "df1_val, df1_test = train_test_split(df1_temp, test_size=0.5, random_state=42, stratify=df1_temp['emotion'])"
      ]
    },
    {
      "cell_type": "code",
      "execution_count": null,
      "metadata": {
        "id": "4MnIkeNfj5zA"
      },
      "outputs": [],
      "source": [
        "df2_val = pd.read_csv(\"hf://datasets/elvanromp/emosi_tweet/\" + splits[\"validation\"])\n",
        "df2_test = pd.read_csv(\"hf://datasets/elvanromp/emosi_tweet/\" + splits[\"test\"])"
      ]
    },
    {
      "cell_type": "code",
      "execution_count": null,
      "metadata": {
        "id": "D_xosGkwkgQF"
      },
      "outputs": [],
      "source": [
        "df2_val.rename(columns={\"label\": \"emotion\"}, inplace=True,)\n",
        "df2_test.rename(columns={\"label\": \"emotion\"}, inplace=True,)"
      ]
    },
    {
      "cell_type": "code",
      "execution_count": null,
      "metadata": {
        "id": "7XaKwSxjkCnx"
      },
      "outputs": [],
      "source": [
        "combined_train = pd.concat([df1_train, df2], ignore_index=True)\n",
        "combined_val = pd.concat([df1_val, df2_val], ignore_index=True)\n",
        "combined_test = pd.concat([df1_test, df2_test], ignore_index=True)"
      ]
    },
    {
      "cell_type": "code",
      "execution_count": null,
      "metadata": {
        "colab": {
          "base_uri": "https://localhost:8080/"
        },
        "id": "_O9O6H4qkMGm",
        "outputId": "6cfe8afb-b476-49b7-e8ca-31f4694f0e3e"
      },
      "outputs": [
        {
          "name": "stdout",
          "output_type": "stream",
          "text": [
            "<class 'pandas.core.frame.DataFrame'>\n",
            "RangeIndex: 6784 entries, 0 to 6783\n",
            "Data columns (total 2 columns):\n",
            " #   Column   Non-Null Count  Dtype \n",
            "---  ------   --------------  ----- \n",
            " 0   text     6784 non-null   object\n",
            " 1   emotion  6784 non-null   int64 \n",
            "dtypes: int64(1), object(1)\n",
            "memory usage: 106.1+ KB\n",
            "<class 'pandas.core.frame.DataFrame'>\n",
            "RangeIndex: 1547 entries, 0 to 1546\n",
            "Data columns (total 2 columns):\n",
            " #   Column   Non-Null Count  Dtype \n",
            "---  ------   --------------  ----- \n",
            " 0   text     1547 non-null   object\n",
            " 1   emotion  1547 non-null   int64 \n",
            "dtypes: int64(1), object(1)\n",
            "memory usage: 24.3+ KB\n",
            "<class 'pandas.core.frame.DataFrame'>\n",
            "RangeIndex: 1547 entries, 0 to 1546\n",
            "Data columns (total 2 columns):\n",
            " #   Column   Non-Null Count  Dtype \n",
            "---  ------   --------------  ----- \n",
            " 0   text     1547 non-null   object\n",
            " 1   emotion  1547 non-null   int64 \n",
            "dtypes: int64(1), object(1)\n",
            "memory usage: 24.3+ KB\n"
          ]
        }
      ],
      "source": [
        "combined_train.info()\n",
        "combined_val.info()\n",
        "combined_test.info()"
      ]
    },
    {
      "cell_type": "code",
      "execution_count": null,
      "metadata": {
        "id": "C3kBPSv5LJ-o"
      },
      "outputs": [],
      "source": [
        "combined_train.to_csv(\"emotion_train.csv\", index=False)\n",
        "combined_val.to_csv(\"emotion_val.csv\", index=False)\n",
        "combined_test.to_csv(\"emotion_test.csv\", index=False)"
      ]
    },
    {
      "cell_type": "code",
      "execution_count": null,
      "metadata": {
        "id": "yR4_dLkMqku5"
      },
      "outputs": [],
      "source": []
    }
  ],
  "metadata": {
    "colab": {
      "authorship_tag": "ABX9TyNvMD1zkcOfQ81Jme6eD1sE",
      "include_colab_link": true,
      "provenance": []
    },
    "kernelspec": {
      "display_name": "Python 3",
      "name": "python3"
    },
    "language_info": {
      "name": "python"
    }
  },
  "nbformat": 4,
  "nbformat_minor": 0
}
