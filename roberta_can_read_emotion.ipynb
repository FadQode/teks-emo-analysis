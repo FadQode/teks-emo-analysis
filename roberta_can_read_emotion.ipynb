{
  "nbformat": 4,
  "nbformat_minor": 0,
  "metadata": {
    "colab": {
      "provenance": [],
      "toc_visible": true,
      "include_colab_link": true
    },
    "kernelspec": {
      "name": "python3",
      "display_name": "Python 3"
    },
    "language_info": {
      "name": "python"
    },
    "widgets": {
      "application/vnd.jupyter.widget-state+json": {
        "ec3cd50b7c5b4dc28b6ad497e8a3c2d4": {
          "model_module": "@jupyter-widgets/controls",
          "model_name": "HBoxModel",
          "model_module_version": "1.5.0",
          "state": {
            "_dom_classes": [],
            "_model_module": "@jupyter-widgets/controls",
            "_model_module_version": "1.5.0",
            "_model_name": "HBoxModel",
            "_view_count": null,
            "_view_module": "@jupyter-widgets/controls",
            "_view_module_version": "1.5.0",
            "_view_name": "HBoxView",
            "box_style": "",
            "children": [
              "IPY_MODEL_32033942288d41a3a569edbb38456962",
              "IPY_MODEL_655d511c0c0547e29b9b24dad17c5419",
              "IPY_MODEL_72deede60cea4efb90c48d5286aa77df"
            ],
            "layout": "IPY_MODEL_82e3c26acb2742b6a17165e0f6469a2f"
          }
        },
        "32033942288d41a3a569edbb38456962": {
          "model_module": "@jupyter-widgets/controls",
          "model_name": "HTMLModel",
          "model_module_version": "1.5.0",
          "state": {
            "_dom_classes": [],
            "_model_module": "@jupyter-widgets/controls",
            "_model_module_version": "1.5.0",
            "_model_name": "HTMLModel",
            "_view_count": null,
            "_view_module": "@jupyter-widgets/controls",
            "_view_module_version": "1.5.0",
            "_view_name": "HTMLView",
            "description": "",
            "description_tooltip": null,
            "layout": "IPY_MODEL_604f1600dbb6467983936a0aa6b24680",
            "placeholder": "​",
            "style": "IPY_MODEL_6b1eb044326b40d7ab347fc815026abf",
            "value": "config.json: 100%"
          }
        },
        "655d511c0c0547e29b9b24dad17c5419": {
          "model_module": "@jupyter-widgets/controls",
          "model_name": "FloatProgressModel",
          "model_module_version": "1.5.0",
          "state": {
            "_dom_classes": [],
            "_model_module": "@jupyter-widgets/controls",
            "_model_module_version": "1.5.0",
            "_model_name": "FloatProgressModel",
            "_view_count": null,
            "_view_module": "@jupyter-widgets/controls",
            "_view_module_version": "1.5.0",
            "_view_name": "ProgressView",
            "bar_style": "success",
            "description": "",
            "description_tooltip": null,
            "layout": "IPY_MODEL_b7f80d767fd24154a2f89c267fed1eb4",
            "max": 627,
            "min": 0,
            "orientation": "horizontal",
            "style": "IPY_MODEL_7c3ff6af1aad4e3f96b7353fe7a85e74",
            "value": 627
          }
        },
        "72deede60cea4efb90c48d5286aa77df": {
          "model_module": "@jupyter-widgets/controls",
          "model_name": "HTMLModel",
          "model_module_version": "1.5.0",
          "state": {
            "_dom_classes": [],
            "_model_module": "@jupyter-widgets/controls",
            "_model_module_version": "1.5.0",
            "_model_name": "HTMLModel",
            "_view_count": null,
            "_view_module": "@jupyter-widgets/controls",
            "_view_module_version": "1.5.0",
            "_view_name": "HTMLView",
            "description": "",
            "description_tooltip": null,
            "layout": "IPY_MODEL_3c099087c92045e2af597a148ac8174a",
            "placeholder": "​",
            "style": "IPY_MODEL_1dcab174cb334a80823ab7a03bf98c52",
            "value": " 627/627 [00:00&lt;00:00, 43.9kB/s]"
          }
        },
        "82e3c26acb2742b6a17165e0f6469a2f": {
          "model_module": "@jupyter-widgets/base",
          "model_name": "LayoutModel",
          "model_module_version": "1.2.0",
          "state": {
            "_model_module": "@jupyter-widgets/base",
            "_model_module_version": "1.2.0",
            "_model_name": "LayoutModel",
            "_view_count": null,
            "_view_module": "@jupyter-widgets/base",
            "_view_module_version": "1.2.0",
            "_view_name": "LayoutView",
            "align_content": null,
            "align_items": null,
            "align_self": null,
            "border": null,
            "bottom": null,
            "display": null,
            "flex": null,
            "flex_flow": null,
            "grid_area": null,
            "grid_auto_columns": null,
            "grid_auto_flow": null,
            "grid_auto_rows": null,
            "grid_column": null,
            "grid_gap": null,
            "grid_row": null,
            "grid_template_areas": null,
            "grid_template_columns": null,
            "grid_template_rows": null,
            "height": null,
            "justify_content": null,
            "justify_items": null,
            "left": null,
            "margin": null,
            "max_height": null,
            "max_width": null,
            "min_height": null,
            "min_width": null,
            "object_fit": null,
            "object_position": null,
            "order": null,
            "overflow": null,
            "overflow_x": null,
            "overflow_y": null,
            "padding": null,
            "right": null,
            "top": null,
            "visibility": null,
            "width": null
          }
        },
        "604f1600dbb6467983936a0aa6b24680": {
          "model_module": "@jupyter-widgets/base",
          "model_name": "LayoutModel",
          "model_module_version": "1.2.0",
          "state": {
            "_model_module": "@jupyter-widgets/base",
            "_model_module_version": "1.2.0",
            "_model_name": "LayoutModel",
            "_view_count": null,
            "_view_module": "@jupyter-widgets/base",
            "_view_module_version": "1.2.0",
            "_view_name": "LayoutView",
            "align_content": null,
            "align_items": null,
            "align_self": null,
            "border": null,
            "bottom": null,
            "display": null,
            "flex": null,
            "flex_flow": null,
            "grid_area": null,
            "grid_auto_columns": null,
            "grid_auto_flow": null,
            "grid_auto_rows": null,
            "grid_column": null,
            "grid_gap": null,
            "grid_row": null,
            "grid_template_areas": null,
            "grid_template_columns": null,
            "grid_template_rows": null,
            "height": null,
            "justify_content": null,
            "justify_items": null,
            "left": null,
            "margin": null,
            "max_height": null,
            "max_width": null,
            "min_height": null,
            "min_width": null,
            "object_fit": null,
            "object_position": null,
            "order": null,
            "overflow": null,
            "overflow_x": null,
            "overflow_y": null,
            "padding": null,
            "right": null,
            "top": null,
            "visibility": null,
            "width": null
          }
        },
        "6b1eb044326b40d7ab347fc815026abf": {
          "model_module": "@jupyter-widgets/controls",
          "model_name": "DescriptionStyleModel",
          "model_module_version": "1.5.0",
          "state": {
            "_model_module": "@jupyter-widgets/controls",
            "_model_module_version": "1.5.0",
            "_model_name": "DescriptionStyleModel",
            "_view_count": null,
            "_view_module": "@jupyter-widgets/base",
            "_view_module_version": "1.2.0",
            "_view_name": "StyleView",
            "description_width": ""
          }
        },
        "b7f80d767fd24154a2f89c267fed1eb4": {
          "model_module": "@jupyter-widgets/base",
          "model_name": "LayoutModel",
          "model_module_version": "1.2.0",
          "state": {
            "_model_module": "@jupyter-widgets/base",
            "_model_module_version": "1.2.0",
            "_model_name": "LayoutModel",
            "_view_count": null,
            "_view_module": "@jupyter-widgets/base",
            "_view_module_version": "1.2.0",
            "_view_name": "LayoutView",
            "align_content": null,
            "align_items": null,
            "align_self": null,
            "border": null,
            "bottom": null,
            "display": null,
            "flex": null,
            "flex_flow": null,
            "grid_area": null,
            "grid_auto_columns": null,
            "grid_auto_flow": null,
            "grid_auto_rows": null,
            "grid_column": null,
            "grid_gap": null,
            "grid_row": null,
            "grid_template_areas": null,
            "grid_template_columns": null,
            "grid_template_rows": null,
            "height": null,
            "justify_content": null,
            "justify_items": null,
            "left": null,
            "margin": null,
            "max_height": null,
            "max_width": null,
            "min_height": null,
            "min_width": null,
            "object_fit": null,
            "object_position": null,
            "order": null,
            "overflow": null,
            "overflow_x": null,
            "overflow_y": null,
            "padding": null,
            "right": null,
            "top": null,
            "visibility": null,
            "width": null
          }
        },
        "7c3ff6af1aad4e3f96b7353fe7a85e74": {
          "model_module": "@jupyter-widgets/controls",
          "model_name": "ProgressStyleModel",
          "model_module_version": "1.5.0",
          "state": {
            "_model_module": "@jupyter-widgets/controls",
            "_model_module_version": "1.5.0",
            "_model_name": "ProgressStyleModel",
            "_view_count": null,
            "_view_module": "@jupyter-widgets/base",
            "_view_module_version": "1.2.0",
            "_view_name": "StyleView",
            "bar_color": null,
            "description_width": ""
          }
        },
        "3c099087c92045e2af597a148ac8174a": {
          "model_module": "@jupyter-widgets/base",
          "model_name": "LayoutModel",
          "model_module_version": "1.2.0",
          "state": {
            "_model_module": "@jupyter-widgets/base",
            "_model_module_version": "1.2.0",
            "_model_name": "LayoutModel",
            "_view_count": null,
            "_view_module": "@jupyter-widgets/base",
            "_view_module_version": "1.2.0",
            "_view_name": "LayoutView",
            "align_content": null,
            "align_items": null,
            "align_self": null,
            "border": null,
            "bottom": null,
            "display": null,
            "flex": null,
            "flex_flow": null,
            "grid_area": null,
            "grid_auto_columns": null,
            "grid_auto_flow": null,
            "grid_auto_rows": null,
            "grid_column": null,
            "grid_gap": null,
            "grid_row": null,
            "grid_template_areas": null,
            "grid_template_columns": null,
            "grid_template_rows": null,
            "height": null,
            "justify_content": null,
            "justify_items": null,
            "left": null,
            "margin": null,
            "max_height": null,
            "max_width": null,
            "min_height": null,
            "min_width": null,
            "object_fit": null,
            "object_position": null,
            "order": null,
            "overflow": null,
            "overflow_x": null,
            "overflow_y": null,
            "padding": null,
            "right": null,
            "top": null,
            "visibility": null,
            "width": null
          }
        },
        "1dcab174cb334a80823ab7a03bf98c52": {
          "model_module": "@jupyter-widgets/controls",
          "model_name": "DescriptionStyleModel",
          "model_module_version": "1.5.0",
          "state": {
            "_model_module": "@jupyter-widgets/controls",
            "_model_module_version": "1.5.0",
            "_model_name": "DescriptionStyleModel",
            "_view_count": null,
            "_view_module": "@jupyter-widgets/base",
            "_view_module_version": "1.2.0",
            "_view_name": "StyleView",
            "description_width": ""
          }
        },
        "2638071eb4cd4505b9d1fb893e6a92e8": {
          "model_module": "@jupyter-widgets/controls",
          "model_name": "HBoxModel",
          "model_module_version": "1.5.0",
          "state": {
            "_dom_classes": [],
            "_model_module": "@jupyter-widgets/controls",
            "_model_module_version": "1.5.0",
            "_model_name": "HBoxModel",
            "_view_count": null,
            "_view_module": "@jupyter-widgets/controls",
            "_view_module_version": "1.5.0",
            "_view_name": "HBoxView",
            "box_style": "",
            "children": [
              "IPY_MODEL_8db8c29e088a42d1ab5cbd9cc663d46c",
              "IPY_MODEL_94b09df556be47f98fb43aa7663e52fd",
              "IPY_MODEL_8a5c978d7d2d459ea2ee1eb4e6f8e089"
            ],
            "layout": "IPY_MODEL_034212e664db4c12b37bb42101c528fe"
          }
        },
        "8db8c29e088a42d1ab5cbd9cc663d46c": {
          "model_module": "@jupyter-widgets/controls",
          "model_name": "HTMLModel",
          "model_module_version": "1.5.0",
          "state": {
            "_dom_classes": [],
            "_model_module": "@jupyter-widgets/controls",
            "_model_module_version": "1.5.0",
            "_model_name": "HTMLModel",
            "_view_count": null,
            "_view_module": "@jupyter-widgets/controls",
            "_view_module_version": "1.5.0",
            "_view_name": "HTMLView",
            "description": "",
            "description_tooltip": null,
            "layout": "IPY_MODEL_b1cba2f4d5d84f6b8b5b3b2e3e073d9c",
            "placeholder": "​",
            "style": "IPY_MODEL_69a3a2be8a2d48ffb653d6d9e6bdc46b",
            "value": "model.safetensors.index.json: 100%"
          }
        },
        "94b09df556be47f98fb43aa7663e52fd": {
          "model_module": "@jupyter-widgets/controls",
          "model_name": "FloatProgressModel",
          "model_module_version": "1.5.0",
          "state": {
            "_dom_classes": [],
            "_model_module": "@jupyter-widgets/controls",
            "_model_module_version": "1.5.0",
            "_model_name": "FloatProgressModel",
            "_view_count": null,
            "_view_module": "@jupyter-widgets/controls",
            "_view_module_version": "1.5.0",
            "_view_name": "ProgressView",
            "bar_style": "success",
            "description": "",
            "description_tooltip": null,
            "layout": "IPY_MODEL_3caa14e02fb5428297104e9e436027fc",
            "max": 13489,
            "min": 0,
            "orientation": "horizontal",
            "style": "IPY_MODEL_8fcd3faf40aa43239c43bc5d9d9b0fac",
            "value": 13489
          }
        },
        "8a5c978d7d2d459ea2ee1eb4e6f8e089": {
          "model_module": "@jupyter-widgets/controls",
          "model_name": "HTMLModel",
          "model_module_version": "1.5.0",
          "state": {
            "_dom_classes": [],
            "_model_module": "@jupyter-widgets/controls",
            "_model_module_version": "1.5.0",
            "_model_name": "HTMLModel",
            "_view_count": null,
            "_view_module": "@jupyter-widgets/controls",
            "_view_module_version": "1.5.0",
            "_view_name": "HTMLView",
            "description": "",
            "description_tooltip": null,
            "layout": "IPY_MODEL_cd7aee800b574d32bcb034f6720a6159",
            "placeholder": "​",
            "style": "IPY_MODEL_c7ba4efee37441a59a79eb50f2aab163",
            "value": " 13.5k/13.5k [00:00&lt;00:00, 924kB/s]"
          }
        },
        "034212e664db4c12b37bb42101c528fe": {
          "model_module": "@jupyter-widgets/base",
          "model_name": "LayoutModel",
          "model_module_version": "1.2.0",
          "state": {
            "_model_module": "@jupyter-widgets/base",
            "_model_module_version": "1.2.0",
            "_model_name": "LayoutModel",
            "_view_count": null,
            "_view_module": "@jupyter-widgets/base",
            "_view_module_version": "1.2.0",
            "_view_name": "LayoutView",
            "align_content": null,
            "align_items": null,
            "align_self": null,
            "border": null,
            "bottom": null,
            "display": null,
            "flex": null,
            "flex_flow": null,
            "grid_area": null,
            "grid_auto_columns": null,
            "grid_auto_flow": null,
            "grid_auto_rows": null,
            "grid_column": null,
            "grid_gap": null,
            "grid_row": null,
            "grid_template_areas": null,
            "grid_template_columns": null,
            "grid_template_rows": null,
            "height": null,
            "justify_content": null,
            "justify_items": null,
            "left": null,
            "margin": null,
            "max_height": null,
            "max_width": null,
            "min_height": null,
            "min_width": null,
            "object_fit": null,
            "object_position": null,
            "order": null,
            "overflow": null,
            "overflow_x": null,
            "overflow_y": null,
            "padding": null,
            "right": null,
            "top": null,
            "visibility": null,
            "width": null
          }
        },
        "b1cba2f4d5d84f6b8b5b3b2e3e073d9c": {
          "model_module": "@jupyter-widgets/base",
          "model_name": "LayoutModel",
          "model_module_version": "1.2.0",
          "state": {
            "_model_module": "@jupyter-widgets/base",
            "_model_module_version": "1.2.0",
            "_model_name": "LayoutModel",
            "_view_count": null,
            "_view_module": "@jupyter-widgets/base",
            "_view_module_version": "1.2.0",
            "_view_name": "LayoutView",
            "align_content": null,
            "align_items": null,
            "align_self": null,
            "border": null,
            "bottom": null,
            "display": null,
            "flex": null,
            "flex_flow": null,
            "grid_area": null,
            "grid_auto_columns": null,
            "grid_auto_flow": null,
            "grid_auto_rows": null,
            "grid_column": null,
            "grid_gap": null,
            "grid_row": null,
            "grid_template_areas": null,
            "grid_template_columns": null,
            "grid_template_rows": null,
            "height": null,
            "justify_content": null,
            "justify_items": null,
            "left": null,
            "margin": null,
            "max_height": null,
            "max_width": null,
            "min_height": null,
            "min_width": null,
            "object_fit": null,
            "object_position": null,
            "order": null,
            "overflow": null,
            "overflow_x": null,
            "overflow_y": null,
            "padding": null,
            "right": null,
            "top": null,
            "visibility": null,
            "width": null
          }
        },
        "69a3a2be8a2d48ffb653d6d9e6bdc46b": {
          "model_module": "@jupyter-widgets/controls",
          "model_name": "DescriptionStyleModel",
          "model_module_version": "1.5.0",
          "state": {
            "_model_module": "@jupyter-widgets/controls",
            "_model_module_version": "1.5.0",
            "_model_name": "DescriptionStyleModel",
            "_view_count": null,
            "_view_module": "@jupyter-widgets/base",
            "_view_module_version": "1.2.0",
            "_view_name": "StyleView",
            "description_width": ""
          }
        },
        "3caa14e02fb5428297104e9e436027fc": {
          "model_module": "@jupyter-widgets/base",
          "model_name": "LayoutModel",
          "model_module_version": "1.2.0",
          "state": {
            "_model_module": "@jupyter-widgets/base",
            "_model_module_version": "1.2.0",
            "_model_name": "LayoutModel",
            "_view_count": null,
            "_view_module": "@jupyter-widgets/base",
            "_view_module_version": "1.2.0",
            "_view_name": "LayoutView",
            "align_content": null,
            "align_items": null,
            "align_self": null,
            "border": null,
            "bottom": null,
            "display": null,
            "flex": null,
            "flex_flow": null,
            "grid_area": null,
            "grid_auto_columns": null,
            "grid_auto_flow": null,
            "grid_auto_rows": null,
            "grid_column": null,
            "grid_gap": null,
            "grid_row": null,
            "grid_template_areas": null,
            "grid_template_columns": null,
            "grid_template_rows": null,
            "height": null,
            "justify_content": null,
            "justify_items": null,
            "left": null,
            "margin": null,
            "max_height": null,
            "max_width": null,
            "min_height": null,
            "min_width": null,
            "object_fit": null,
            "object_position": null,
            "order": null,
            "overflow": null,
            "overflow_x": null,
            "overflow_y": null,
            "padding": null,
            "right": null,
            "top": null,
            "visibility": null,
            "width": null
          }
        },
        "8fcd3faf40aa43239c43bc5d9d9b0fac": {
          "model_module": "@jupyter-widgets/controls",
          "model_name": "ProgressStyleModel",
          "model_module_version": "1.5.0",
          "state": {
            "_model_module": "@jupyter-widgets/controls",
            "_model_module_version": "1.5.0",
            "_model_name": "ProgressStyleModel",
            "_view_count": null,
            "_view_module": "@jupyter-widgets/base",
            "_view_module_version": "1.2.0",
            "_view_name": "StyleView",
            "bar_color": null,
            "description_width": ""
          }
        },
        "cd7aee800b574d32bcb034f6720a6159": {
          "model_module": "@jupyter-widgets/base",
          "model_name": "LayoutModel",
          "model_module_version": "1.2.0",
          "state": {
            "_model_module": "@jupyter-widgets/base",
            "_model_module_version": "1.2.0",
            "_model_name": "LayoutModel",
            "_view_count": null,
            "_view_module": "@jupyter-widgets/base",
            "_view_module_version": "1.2.0",
            "_view_name": "LayoutView",
            "align_content": null,
            "align_items": null,
            "align_self": null,
            "border": null,
            "bottom": null,
            "display": null,
            "flex": null,
            "flex_flow": null,
            "grid_area": null,
            "grid_auto_columns": null,
            "grid_auto_flow": null,
            "grid_auto_rows": null,
            "grid_column": null,
            "grid_gap": null,
            "grid_row": null,
            "grid_template_areas": null,
            "grid_template_columns": null,
            "grid_template_rows": null,
            "height": null,
            "justify_content": null,
            "justify_items": null,
            "left": null,
            "margin": null,
            "max_height": null,
            "max_width": null,
            "min_height": null,
            "min_width": null,
            "object_fit": null,
            "object_position": null,
            "order": null,
            "overflow": null,
            "overflow_x": null,
            "overflow_y": null,
            "padding": null,
            "right": null,
            "top": null,
            "visibility": null,
            "width": null
          }
        },
        "c7ba4efee37441a59a79eb50f2aab163": {
          "model_module": "@jupyter-widgets/controls",
          "model_name": "DescriptionStyleModel",
          "model_module_version": "1.5.0",
          "state": {
            "_model_module": "@jupyter-widgets/controls",
            "_model_module_version": "1.5.0",
            "_model_name": "DescriptionStyleModel",
            "_view_count": null,
            "_view_module": "@jupyter-widgets/base",
            "_view_module_version": "1.2.0",
            "_view_name": "StyleView",
            "description_width": ""
          }
        },
        "287fe0f4a680411d8fab566fa34658ca": {
          "model_module": "@jupyter-widgets/controls",
          "model_name": "HBoxModel",
          "model_module_version": "1.5.0",
          "state": {
            "_dom_classes": [],
            "_model_module": "@jupyter-widgets/controls",
            "_model_module_version": "1.5.0",
            "_model_name": "HBoxModel",
            "_view_count": null,
            "_view_module": "@jupyter-widgets/controls",
            "_view_module_version": "1.5.0",
            "_view_name": "HBoxView",
            "box_style": "",
            "children": [
              "IPY_MODEL_829964cb55c14234ad20b971552ced79",
              "IPY_MODEL_76a3ddf1ae9344d89c0a25e0cb0baa62",
              "IPY_MODEL_95297fc335804814ad3e2ca59fee5039"
            ],
            "layout": "IPY_MODEL_5064a2106fd74c7c91461f89d3a71b4b"
          }
        },
        "829964cb55c14234ad20b971552ced79": {
          "model_module": "@jupyter-widgets/controls",
          "model_name": "HTMLModel",
          "model_module_version": "1.5.0",
          "state": {
            "_dom_classes": [],
            "_model_module": "@jupyter-widgets/controls",
            "_model_module_version": "1.5.0",
            "_model_name": "HTMLModel",
            "_view_count": null,
            "_view_module": "@jupyter-widgets/controls",
            "_view_module_version": "1.5.0",
            "_view_name": "HTMLView",
            "description": "",
            "description_tooltip": null,
            "layout": "IPY_MODEL_f262cf283abf4c15a1a52de1821718a7",
            "placeholder": "​",
            "style": "IPY_MODEL_72ebee838ff64d68b1feee5b532f8c06",
            "value": "Downloading shards: 100%"
          }
        },
        "76a3ddf1ae9344d89c0a25e0cb0baa62": {
          "model_module": "@jupyter-widgets/controls",
          "model_name": "FloatProgressModel",
          "model_module_version": "1.5.0",
          "state": {
            "_dom_classes": [],
            "_model_module": "@jupyter-widgets/controls",
            "_model_module_version": "1.5.0",
            "_model_name": "FloatProgressModel",
            "_view_count": null,
            "_view_module": "@jupyter-widgets/controls",
            "_view_module_version": "1.5.0",
            "_view_name": "ProgressView",
            "bar_style": "success",
            "description": "",
            "description_tooltip": null,
            "layout": "IPY_MODEL_d37fa704bbd54a799a2c8dc30382e7b4",
            "max": 2,
            "min": 0,
            "orientation": "horizontal",
            "style": "IPY_MODEL_6d29f96c9c984a14a7daaad3e8c7a6e8",
            "value": 2
          }
        },
        "95297fc335804814ad3e2ca59fee5039": {
          "model_module": "@jupyter-widgets/controls",
          "model_name": "HTMLModel",
          "model_module_version": "1.5.0",
          "state": {
            "_dom_classes": [],
            "_model_module": "@jupyter-widgets/controls",
            "_model_module_version": "1.5.0",
            "_model_name": "HTMLModel",
            "_view_count": null,
            "_view_module": "@jupyter-widgets/controls",
            "_view_module_version": "1.5.0",
            "_view_name": "HTMLView",
            "description": "",
            "description_tooltip": null,
            "layout": "IPY_MODEL_57cba901e62e4c39b0f552bb82196de3",
            "placeholder": "​",
            "style": "IPY_MODEL_8ff809f2fb244e46989f2a830cfd7ad9",
            "value": " 2/2 [01:59&lt;00:00, 49.53s/it]"
          }
        },
        "5064a2106fd74c7c91461f89d3a71b4b": {
          "model_module": "@jupyter-widgets/base",
          "model_name": "LayoutModel",
          "model_module_version": "1.2.0",
          "state": {
            "_model_module": "@jupyter-widgets/base",
            "_model_module_version": "1.2.0",
            "_model_name": "LayoutModel",
            "_view_count": null,
            "_view_module": "@jupyter-widgets/base",
            "_view_module_version": "1.2.0",
            "_view_name": "LayoutView",
            "align_content": null,
            "align_items": null,
            "align_self": null,
            "border": null,
            "bottom": null,
            "display": null,
            "flex": null,
            "flex_flow": null,
            "grid_area": null,
            "grid_auto_columns": null,
            "grid_auto_flow": null,
            "grid_auto_rows": null,
            "grid_column": null,
            "grid_gap": null,
            "grid_row": null,
            "grid_template_areas": null,
            "grid_template_columns": null,
            "grid_template_rows": null,
            "height": null,
            "justify_content": null,
            "justify_items": null,
            "left": null,
            "margin": null,
            "max_height": null,
            "max_width": null,
            "min_height": null,
            "min_width": null,
            "object_fit": null,
            "object_position": null,
            "order": null,
            "overflow": null,
            "overflow_x": null,
            "overflow_y": null,
            "padding": null,
            "right": null,
            "top": null,
            "visibility": null,
            "width": null
          }
        },
        "f262cf283abf4c15a1a52de1821718a7": {
          "model_module": "@jupyter-widgets/base",
          "model_name": "LayoutModel",
          "model_module_version": "1.2.0",
          "state": {
            "_model_module": "@jupyter-widgets/base",
            "_model_module_version": "1.2.0",
            "_model_name": "LayoutModel",
            "_view_count": null,
            "_view_module": "@jupyter-widgets/base",
            "_view_module_version": "1.2.0",
            "_view_name": "LayoutView",
            "align_content": null,
            "align_items": null,
            "align_self": null,
            "border": null,
            "bottom": null,
            "display": null,
            "flex": null,
            "flex_flow": null,
            "grid_area": null,
            "grid_auto_columns": null,
            "grid_auto_flow": null,
            "grid_auto_rows": null,
            "grid_column": null,
            "grid_gap": null,
            "grid_row": null,
            "grid_template_areas": null,
            "grid_template_columns": null,
            "grid_template_rows": null,
            "height": null,
            "justify_content": null,
            "justify_items": null,
            "left": null,
            "margin": null,
            "max_height": null,
            "max_width": null,
            "min_height": null,
            "min_width": null,
            "object_fit": null,
            "object_position": null,
            "order": null,
            "overflow": null,
            "overflow_x": null,
            "overflow_y": null,
            "padding": null,
            "right": null,
            "top": null,
            "visibility": null,
            "width": null
          }
        },
        "72ebee838ff64d68b1feee5b532f8c06": {
          "model_module": "@jupyter-widgets/controls",
          "model_name": "DescriptionStyleModel",
          "model_module_version": "1.5.0",
          "state": {
            "_model_module": "@jupyter-widgets/controls",
            "_model_module_version": "1.5.0",
            "_model_name": "DescriptionStyleModel",
            "_view_count": null,
            "_view_module": "@jupyter-widgets/base",
            "_view_module_version": "1.2.0",
            "_view_name": "StyleView",
            "description_width": ""
          }
        },
        "d37fa704bbd54a799a2c8dc30382e7b4": {
          "model_module": "@jupyter-widgets/base",
          "model_name": "LayoutModel",
          "model_module_version": "1.2.0",
          "state": {
            "_model_module": "@jupyter-widgets/base",
            "_model_module_version": "1.2.0",
            "_model_name": "LayoutModel",
            "_view_count": null,
            "_view_module": "@jupyter-widgets/base",
            "_view_module_version": "1.2.0",
            "_view_name": "LayoutView",
            "align_content": null,
            "align_items": null,
            "align_self": null,
            "border": null,
            "bottom": null,
            "display": null,
            "flex": null,
            "flex_flow": null,
            "grid_area": null,
            "grid_auto_columns": null,
            "grid_auto_flow": null,
            "grid_auto_rows": null,
            "grid_column": null,
            "grid_gap": null,
            "grid_row": null,
            "grid_template_areas": null,
            "grid_template_columns": null,
            "grid_template_rows": null,
            "height": null,
            "justify_content": null,
            "justify_items": null,
            "left": null,
            "margin": null,
            "max_height": null,
            "max_width": null,
            "min_height": null,
            "min_width": null,
            "object_fit": null,
            "object_position": null,
            "order": null,
            "overflow": null,
            "overflow_x": null,
            "overflow_y": null,
            "padding": null,
            "right": null,
            "top": null,
            "visibility": null,
            "width": null
          }
        },
        "6d29f96c9c984a14a7daaad3e8c7a6e8": {
          "model_module": "@jupyter-widgets/controls",
          "model_name": "ProgressStyleModel",
          "model_module_version": "1.5.0",
          "state": {
            "_model_module": "@jupyter-widgets/controls",
            "_model_module_version": "1.5.0",
            "_model_name": "ProgressStyleModel",
            "_view_count": null,
            "_view_module": "@jupyter-widgets/base",
            "_view_module_version": "1.2.0",
            "_view_name": "StyleView",
            "bar_color": null,
            "description_width": ""
          }
        },
        "57cba901e62e4c39b0f552bb82196de3": {
          "model_module": "@jupyter-widgets/base",
          "model_name": "LayoutModel",
          "model_module_version": "1.2.0",
          "state": {
            "_model_module": "@jupyter-widgets/base",
            "_model_module_version": "1.2.0",
            "_model_name": "LayoutModel",
            "_view_count": null,
            "_view_module": "@jupyter-widgets/base",
            "_view_module_version": "1.2.0",
            "_view_name": "LayoutView",
            "align_content": null,
            "align_items": null,
            "align_self": null,
            "border": null,
            "bottom": null,
            "display": null,
            "flex": null,
            "flex_flow": null,
            "grid_area": null,
            "grid_auto_columns": null,
            "grid_auto_flow": null,
            "grid_auto_rows": null,
            "grid_column": null,
            "grid_gap": null,
            "grid_row": null,
            "grid_template_areas": null,
            "grid_template_columns": null,
            "grid_template_rows": null,
            "height": null,
            "justify_content": null,
            "justify_items": null,
            "left": null,
            "margin": null,
            "max_height": null,
            "max_width": null,
            "min_height": null,
            "min_width": null,
            "object_fit": null,
            "object_position": null,
            "order": null,
            "overflow": null,
            "overflow_x": null,
            "overflow_y": null,
            "padding": null,
            "right": null,
            "top": null,
            "visibility": null,
            "width": null
          }
        },
        "8ff809f2fb244e46989f2a830cfd7ad9": {
          "model_module": "@jupyter-widgets/controls",
          "model_name": "DescriptionStyleModel",
          "model_module_version": "1.5.0",
          "state": {
            "_model_module": "@jupyter-widgets/controls",
            "_model_module_version": "1.5.0",
            "_model_name": "DescriptionStyleModel",
            "_view_count": null,
            "_view_module": "@jupyter-widgets/base",
            "_view_module_version": "1.2.0",
            "_view_name": "StyleView",
            "description_width": ""
          }
        },
        "2208e016a1844095b3f6b16d948adbed": {
          "model_module": "@jupyter-widgets/controls",
          "model_name": "HBoxModel",
          "model_module_version": "1.5.0",
          "state": {
            "_dom_classes": [],
            "_model_module": "@jupyter-widgets/controls",
            "_model_module_version": "1.5.0",
            "_model_name": "HBoxModel",
            "_view_count": null,
            "_view_module": "@jupyter-widgets/controls",
            "_view_module_version": "1.5.0",
            "_view_name": "HBoxView",
            "box_style": "",
            "children": [
              "IPY_MODEL_e444193725764cf69e2fbb7d1281084b",
              "IPY_MODEL_1a3f3997f3114bacb962c5c8e6f0285e",
              "IPY_MODEL_e307f64329ad46188677b60f7f330c9f"
            ],
            "layout": "IPY_MODEL_8334022196a149f998bbad5377fec2cf"
          }
        },
        "e444193725764cf69e2fbb7d1281084b": {
          "model_module": "@jupyter-widgets/controls",
          "model_name": "HTMLModel",
          "model_module_version": "1.5.0",
          "state": {
            "_dom_classes": [],
            "_model_module": "@jupyter-widgets/controls",
            "_model_module_version": "1.5.0",
            "_model_name": "HTMLModel",
            "_view_count": null,
            "_view_module": "@jupyter-widgets/controls",
            "_view_module_version": "1.5.0",
            "_view_name": "HTMLView",
            "description": "",
            "description_tooltip": null,
            "layout": "IPY_MODEL_56095d5a917e47b58d48065689117a44",
            "placeholder": "​",
            "style": "IPY_MODEL_4b31d36b77ff40b596858778ebd15197",
            "value": "model-00001-of-00002.safetensors: 100%"
          }
        },
        "1a3f3997f3114bacb962c5c8e6f0285e": {
          "model_module": "@jupyter-widgets/controls",
          "model_name": "FloatProgressModel",
          "model_module_version": "1.5.0",
          "state": {
            "_dom_classes": [],
            "_model_module": "@jupyter-widgets/controls",
            "_model_module_version": "1.5.0",
            "_model_name": "FloatProgressModel",
            "_view_count": null,
            "_view_module": "@jupyter-widgets/controls",
            "_view_module_version": "1.5.0",
            "_view_name": "ProgressView",
            "bar_style": "success",
            "description": "",
            "description_tooltip": null,
            "layout": "IPY_MODEL_7fe43a96e7494269bedcb1811fe3857a",
            "max": 4945242264,
            "min": 0,
            "orientation": "horizontal",
            "style": "IPY_MODEL_f34296c09f0f468791927105c5120101",
            "value": 4945242264
          }
        },
        "e307f64329ad46188677b60f7f330c9f": {
          "model_module": "@jupyter-widgets/controls",
          "model_name": "HTMLModel",
          "model_module_version": "1.5.0",
          "state": {
            "_dom_classes": [],
            "_model_module": "@jupyter-widgets/controls",
            "_model_module_version": "1.5.0",
            "_model_name": "HTMLModel",
            "_view_count": null,
            "_view_module": "@jupyter-widgets/controls",
            "_view_module_version": "1.5.0",
            "_view_name": "HTMLView",
            "description": "",
            "description_tooltip": null,
            "layout": "IPY_MODEL_77e62e15268e4ed0b4c7fdedde1bc4cf",
            "placeholder": "​",
            "style": "IPY_MODEL_42fd497ab2b14c739ce535b7a767421e",
            "value": " 4.95G/4.95G [01:57&lt;00:00, 42.7MB/s]"
          }
        },
        "8334022196a149f998bbad5377fec2cf": {
          "model_module": "@jupyter-widgets/base",
          "model_name": "LayoutModel",
          "model_module_version": "1.2.0",
          "state": {
            "_model_module": "@jupyter-widgets/base",
            "_model_module_version": "1.2.0",
            "_model_name": "LayoutModel",
            "_view_count": null,
            "_view_module": "@jupyter-widgets/base",
            "_view_module_version": "1.2.0",
            "_view_name": "LayoutView",
            "align_content": null,
            "align_items": null,
            "align_self": null,
            "border": null,
            "bottom": null,
            "display": null,
            "flex": null,
            "flex_flow": null,
            "grid_area": null,
            "grid_auto_columns": null,
            "grid_auto_flow": null,
            "grid_auto_rows": null,
            "grid_column": null,
            "grid_gap": null,
            "grid_row": null,
            "grid_template_areas": null,
            "grid_template_columns": null,
            "grid_template_rows": null,
            "height": null,
            "justify_content": null,
            "justify_items": null,
            "left": null,
            "margin": null,
            "max_height": null,
            "max_width": null,
            "min_height": null,
            "min_width": null,
            "object_fit": null,
            "object_position": null,
            "order": null,
            "overflow": null,
            "overflow_x": null,
            "overflow_y": null,
            "padding": null,
            "right": null,
            "top": null,
            "visibility": null,
            "width": null
          }
        },
        "56095d5a917e47b58d48065689117a44": {
          "model_module": "@jupyter-widgets/base",
          "model_name": "LayoutModel",
          "model_module_version": "1.2.0",
          "state": {
            "_model_module": "@jupyter-widgets/base",
            "_model_module_version": "1.2.0",
            "_model_name": "LayoutModel",
            "_view_count": null,
            "_view_module": "@jupyter-widgets/base",
            "_view_module_version": "1.2.0",
            "_view_name": "LayoutView",
            "align_content": null,
            "align_items": null,
            "align_self": null,
            "border": null,
            "bottom": null,
            "display": null,
            "flex": null,
            "flex_flow": null,
            "grid_area": null,
            "grid_auto_columns": null,
            "grid_auto_flow": null,
            "grid_auto_rows": null,
            "grid_column": null,
            "grid_gap": null,
            "grid_row": null,
            "grid_template_areas": null,
            "grid_template_columns": null,
            "grid_template_rows": null,
            "height": null,
            "justify_content": null,
            "justify_items": null,
            "left": null,
            "margin": null,
            "max_height": null,
            "max_width": null,
            "min_height": null,
            "min_width": null,
            "object_fit": null,
            "object_position": null,
            "order": null,
            "overflow": null,
            "overflow_x": null,
            "overflow_y": null,
            "padding": null,
            "right": null,
            "top": null,
            "visibility": null,
            "width": null
          }
        },
        "4b31d36b77ff40b596858778ebd15197": {
          "model_module": "@jupyter-widgets/controls",
          "model_name": "DescriptionStyleModel",
          "model_module_version": "1.5.0",
          "state": {
            "_model_module": "@jupyter-widgets/controls",
            "_model_module_version": "1.5.0",
            "_model_name": "DescriptionStyleModel",
            "_view_count": null,
            "_view_module": "@jupyter-widgets/base",
            "_view_module_version": "1.2.0",
            "_view_name": "StyleView",
            "description_width": ""
          }
        },
        "7fe43a96e7494269bedcb1811fe3857a": {
          "model_module": "@jupyter-widgets/base",
          "model_name": "LayoutModel",
          "model_module_version": "1.2.0",
          "state": {
            "_model_module": "@jupyter-widgets/base",
            "_model_module_version": "1.2.0",
            "_model_name": "LayoutModel",
            "_view_count": null,
            "_view_module": "@jupyter-widgets/base",
            "_view_module_version": "1.2.0",
            "_view_name": "LayoutView",
            "align_content": null,
            "align_items": null,
            "align_self": null,
            "border": null,
            "bottom": null,
            "display": null,
            "flex": null,
            "flex_flow": null,
            "grid_area": null,
            "grid_auto_columns": null,
            "grid_auto_flow": null,
            "grid_auto_rows": null,
            "grid_column": null,
            "grid_gap": null,
            "grid_row": null,
            "grid_template_areas": null,
            "grid_template_columns": null,
            "grid_template_rows": null,
            "height": null,
            "justify_content": null,
            "justify_items": null,
            "left": null,
            "margin": null,
            "max_height": null,
            "max_width": null,
            "min_height": null,
            "min_width": null,
            "object_fit": null,
            "object_position": null,
            "order": null,
            "overflow": null,
            "overflow_x": null,
            "overflow_y": null,
            "padding": null,
            "right": null,
            "top": null,
            "visibility": null,
            "width": null
          }
        },
        "f34296c09f0f468791927105c5120101": {
          "model_module": "@jupyter-widgets/controls",
          "model_name": "ProgressStyleModel",
          "model_module_version": "1.5.0",
          "state": {
            "_model_module": "@jupyter-widgets/controls",
            "_model_module_version": "1.5.0",
            "_model_name": "ProgressStyleModel",
            "_view_count": null,
            "_view_module": "@jupyter-widgets/base",
            "_view_module_version": "1.2.0",
            "_view_name": "StyleView",
            "bar_color": null,
            "description_width": ""
          }
        },
        "77e62e15268e4ed0b4c7fdedde1bc4cf": {
          "model_module": "@jupyter-widgets/base",
          "model_name": "LayoutModel",
          "model_module_version": "1.2.0",
          "state": {
            "_model_module": "@jupyter-widgets/base",
            "_model_module_version": "1.2.0",
            "_model_name": "LayoutModel",
            "_view_count": null,
            "_view_module": "@jupyter-widgets/base",
            "_view_module_version": "1.2.0",
            "_view_name": "LayoutView",
            "align_content": null,
            "align_items": null,
            "align_self": null,
            "border": null,
            "bottom": null,
            "display": null,
            "flex": null,
            "flex_flow": null,
            "grid_area": null,
            "grid_auto_columns": null,
            "grid_auto_flow": null,
            "grid_auto_rows": null,
            "grid_column": null,
            "grid_gap": null,
            "grid_row": null,
            "grid_template_areas": null,
            "grid_template_columns": null,
            "grid_template_rows": null,
            "height": null,
            "justify_content": null,
            "justify_items": null,
            "left": null,
            "margin": null,
            "max_height": null,
            "max_width": null,
            "min_height": null,
            "min_width": null,
            "object_fit": null,
            "object_position": null,
            "order": null,
            "overflow": null,
            "overflow_x": null,
            "overflow_y": null,
            "padding": null,
            "right": null,
            "top": null,
            "visibility": null,
            "width": null
          }
        },
        "42fd497ab2b14c739ce535b7a767421e": {
          "model_module": "@jupyter-widgets/controls",
          "model_name": "DescriptionStyleModel",
          "model_module_version": "1.5.0",
          "state": {
            "_model_module": "@jupyter-widgets/controls",
            "_model_module_version": "1.5.0",
            "_model_name": "DescriptionStyleModel",
            "_view_count": null,
            "_view_module": "@jupyter-widgets/base",
            "_view_module_version": "1.2.0",
            "_view_name": "StyleView",
            "description_width": ""
          }
        },
        "81ea63e43be148829a76fff3af1ee976": {
          "model_module": "@jupyter-widgets/controls",
          "model_name": "HBoxModel",
          "model_module_version": "1.5.0",
          "state": {
            "_dom_classes": [],
            "_model_module": "@jupyter-widgets/controls",
            "_model_module_version": "1.5.0",
            "_model_name": "HBoxModel",
            "_view_count": null,
            "_view_module": "@jupyter-widgets/controls",
            "_view_module_version": "1.5.0",
            "_view_name": "HBoxView",
            "box_style": "",
            "children": [
              "IPY_MODEL_7a6d2fac07f8490386b3f4a7d8f33eed",
              "IPY_MODEL_16db3da6eb6246b987a56f2ed4ec22f6",
              "IPY_MODEL_9539fd9701194a99b0f602ef8941a8b1"
            ],
            "layout": "IPY_MODEL_36d9401eeb4541cc9fdd8bf45fac2b31"
          }
        },
        "7a6d2fac07f8490386b3f4a7d8f33eed": {
          "model_module": "@jupyter-widgets/controls",
          "model_name": "HTMLModel",
          "model_module_version": "1.5.0",
          "state": {
            "_dom_classes": [],
            "_model_module": "@jupyter-widgets/controls",
            "_model_module_version": "1.5.0",
            "_model_name": "HTMLModel",
            "_view_count": null,
            "_view_module": "@jupyter-widgets/controls",
            "_view_module_version": "1.5.0",
            "_view_name": "HTMLView",
            "description": "",
            "description_tooltip": null,
            "layout": "IPY_MODEL_60a7490f417d4d99b59691ae8fb1e971",
            "placeholder": "​",
            "style": "IPY_MODEL_3a824fb2fd0a4475a5fb68d35bc7b660",
            "value": "model-00002-of-00002.safetensors: 100%"
          }
        },
        "16db3da6eb6246b987a56f2ed4ec22f6": {
          "model_module": "@jupyter-widgets/controls",
          "model_name": "FloatProgressModel",
          "model_module_version": "1.5.0",
          "state": {
            "_dom_classes": [],
            "_model_module": "@jupyter-widgets/controls",
            "_model_module_version": "1.5.0",
            "_model_name": "FloatProgressModel",
            "_view_count": null,
            "_view_module": "@jupyter-widgets/controls",
            "_view_module_version": "1.5.0",
            "_view_name": "ProgressView",
            "bar_style": "success",
            "description": "",
            "description_tooltip": null,
            "layout": "IPY_MODEL_97d04879c3b24723a4d2da495341d0bf",
            "max": 67121608,
            "min": 0,
            "orientation": "horizontal",
            "style": "IPY_MODEL_6f923b52748f4abcbc1ef155cc1677ce",
            "value": 67121608
          }
        },
        "9539fd9701194a99b0f602ef8941a8b1": {
          "model_module": "@jupyter-widgets/controls",
          "model_name": "HTMLModel",
          "model_module_version": "1.5.0",
          "state": {
            "_dom_classes": [],
            "_model_module": "@jupyter-widgets/controls",
            "_model_module_version": "1.5.0",
            "_model_name": "HTMLModel",
            "_view_count": null,
            "_view_module": "@jupyter-widgets/controls",
            "_view_module_version": "1.5.0",
            "_view_name": "HTMLView",
            "description": "",
            "description_tooltip": null,
            "layout": "IPY_MODEL_2f272fb87a3848989f7b0811004d3154",
            "placeholder": "​",
            "style": "IPY_MODEL_0a46218f3d6742a2a2a13f08c9d5afd8",
            "value": " 67.1M/67.1M [00:01&lt;00:00, 41.9MB/s]"
          }
        },
        "36d9401eeb4541cc9fdd8bf45fac2b31": {
          "model_module": "@jupyter-widgets/base",
          "model_name": "LayoutModel",
          "model_module_version": "1.2.0",
          "state": {
            "_model_module": "@jupyter-widgets/base",
            "_model_module_version": "1.2.0",
            "_model_name": "LayoutModel",
            "_view_count": null,
            "_view_module": "@jupyter-widgets/base",
            "_view_module_version": "1.2.0",
            "_view_name": "LayoutView",
            "align_content": null,
            "align_items": null,
            "align_self": null,
            "border": null,
            "bottom": null,
            "display": null,
            "flex": null,
            "flex_flow": null,
            "grid_area": null,
            "grid_auto_columns": null,
            "grid_auto_flow": null,
            "grid_auto_rows": null,
            "grid_column": null,
            "grid_gap": null,
            "grid_row": null,
            "grid_template_areas": null,
            "grid_template_columns": null,
            "grid_template_rows": null,
            "height": null,
            "justify_content": null,
            "justify_items": null,
            "left": null,
            "margin": null,
            "max_height": null,
            "max_width": null,
            "min_height": null,
            "min_width": null,
            "object_fit": null,
            "object_position": null,
            "order": null,
            "overflow": null,
            "overflow_x": null,
            "overflow_y": null,
            "padding": null,
            "right": null,
            "top": null,
            "visibility": null,
            "width": null
          }
        },
        "60a7490f417d4d99b59691ae8fb1e971": {
          "model_module": "@jupyter-widgets/base",
          "model_name": "LayoutModel",
          "model_module_version": "1.2.0",
          "state": {
            "_model_module": "@jupyter-widgets/base",
            "_model_module_version": "1.2.0",
            "_model_name": "LayoutModel",
            "_view_count": null,
            "_view_module": "@jupyter-widgets/base",
            "_view_module_version": "1.2.0",
            "_view_name": "LayoutView",
            "align_content": null,
            "align_items": null,
            "align_self": null,
            "border": null,
            "bottom": null,
            "display": null,
            "flex": null,
            "flex_flow": null,
            "grid_area": null,
            "grid_auto_columns": null,
            "grid_auto_flow": null,
            "grid_auto_rows": null,
            "grid_column": null,
            "grid_gap": null,
            "grid_row": null,
            "grid_template_areas": null,
            "grid_template_columns": null,
            "grid_template_rows": null,
            "height": null,
            "justify_content": null,
            "justify_items": null,
            "left": null,
            "margin": null,
            "max_height": null,
            "max_width": null,
            "min_height": null,
            "min_width": null,
            "object_fit": null,
            "object_position": null,
            "order": null,
            "overflow": null,
            "overflow_x": null,
            "overflow_y": null,
            "padding": null,
            "right": null,
            "top": null,
            "visibility": null,
            "width": null
          }
        },
        "3a824fb2fd0a4475a5fb68d35bc7b660": {
          "model_module": "@jupyter-widgets/controls",
          "model_name": "DescriptionStyleModel",
          "model_module_version": "1.5.0",
          "state": {
            "_model_module": "@jupyter-widgets/controls",
            "_model_module_version": "1.5.0",
            "_model_name": "DescriptionStyleModel",
            "_view_count": null,
            "_view_module": "@jupyter-widgets/base",
            "_view_module_version": "1.2.0",
            "_view_name": "StyleView",
            "description_width": ""
          }
        },
        "97d04879c3b24723a4d2da495341d0bf": {
          "model_module": "@jupyter-widgets/base",
          "model_name": "LayoutModel",
          "model_module_version": "1.2.0",
          "state": {
            "_model_module": "@jupyter-widgets/base",
            "_model_module_version": "1.2.0",
            "_model_name": "LayoutModel",
            "_view_count": null,
            "_view_module": "@jupyter-widgets/base",
            "_view_module_version": "1.2.0",
            "_view_name": "LayoutView",
            "align_content": null,
            "align_items": null,
            "align_self": null,
            "border": null,
            "bottom": null,
            "display": null,
            "flex": null,
            "flex_flow": null,
            "grid_area": null,
            "grid_auto_columns": null,
            "grid_auto_flow": null,
            "grid_auto_rows": null,
            "grid_column": null,
            "grid_gap": null,
            "grid_row": null,
            "grid_template_areas": null,
            "grid_template_columns": null,
            "grid_template_rows": null,
            "height": null,
            "justify_content": null,
            "justify_items": null,
            "left": null,
            "margin": null,
            "max_height": null,
            "max_width": null,
            "min_height": null,
            "min_width": null,
            "object_fit": null,
            "object_position": null,
            "order": null,
            "overflow": null,
            "overflow_x": null,
            "overflow_y": null,
            "padding": null,
            "right": null,
            "top": null,
            "visibility": null,
            "width": null
          }
        },
        "6f923b52748f4abcbc1ef155cc1677ce": {
          "model_module": "@jupyter-widgets/controls",
          "model_name": "ProgressStyleModel",
          "model_module_version": "1.5.0",
          "state": {
            "_model_module": "@jupyter-widgets/controls",
            "_model_module_version": "1.5.0",
            "_model_name": "ProgressStyleModel",
            "_view_count": null,
            "_view_module": "@jupyter-widgets/base",
            "_view_module_version": "1.2.0",
            "_view_name": "StyleView",
            "bar_color": null,
            "description_width": ""
          }
        },
        "2f272fb87a3848989f7b0811004d3154": {
          "model_module": "@jupyter-widgets/base",
          "model_name": "LayoutModel",
          "model_module_version": "1.2.0",
          "state": {
            "_model_module": "@jupyter-widgets/base",
            "_model_module_version": "1.2.0",
            "_model_name": "LayoutModel",
            "_view_count": null,
            "_view_module": "@jupyter-widgets/base",
            "_view_module_version": "1.2.0",
            "_view_name": "LayoutView",
            "align_content": null,
            "align_items": null,
            "align_self": null,
            "border": null,
            "bottom": null,
            "display": null,
            "flex": null,
            "flex_flow": null,
            "grid_area": null,
            "grid_auto_columns": null,
            "grid_auto_flow": null,
            "grid_auto_rows": null,
            "grid_column": null,
            "grid_gap": null,
            "grid_row": null,
            "grid_template_areas": null,
            "grid_template_columns": null,
            "grid_template_rows": null,
            "height": null,
            "justify_content": null,
            "justify_items": null,
            "left": null,
            "margin": null,
            "max_height": null,
            "max_width": null,
            "min_height": null,
            "min_width": null,
            "object_fit": null,
            "object_position": null,
            "order": null,
            "overflow": null,
            "overflow_x": null,
            "overflow_y": null,
            "padding": null,
            "right": null,
            "top": null,
            "visibility": null,
            "width": null
          }
        },
        "0a46218f3d6742a2a2a13f08c9d5afd8": {
          "model_module": "@jupyter-widgets/controls",
          "model_name": "DescriptionStyleModel",
          "model_module_version": "1.5.0",
          "state": {
            "_model_module": "@jupyter-widgets/controls",
            "_model_module_version": "1.5.0",
            "_model_name": "DescriptionStyleModel",
            "_view_count": null,
            "_view_module": "@jupyter-widgets/base",
            "_view_module_version": "1.2.0",
            "_view_name": "StyleView",
            "description_width": ""
          }
        },
        "8c84042fa1954135962c2c05fc8c7806": {
          "model_module": "@jupyter-widgets/controls",
          "model_name": "HBoxModel",
          "model_module_version": "1.5.0",
          "state": {
            "_dom_classes": [],
            "_model_module": "@jupyter-widgets/controls",
            "_model_module_version": "1.5.0",
            "_model_name": "HBoxModel",
            "_view_count": null,
            "_view_module": "@jupyter-widgets/controls",
            "_view_module_version": "1.5.0",
            "_view_name": "HBoxView",
            "box_style": "",
            "children": [
              "IPY_MODEL_49847f49d0ad4ba3aae01225dfc1adf7",
              "IPY_MODEL_51b748df43c547ecbc623f0696cbf265",
              "IPY_MODEL_58e07cb377f144f4b1cf7621536936aa"
            ],
            "layout": "IPY_MODEL_1a672970de9b4216ac52894bbac4d4c4"
          }
        },
        "49847f49d0ad4ba3aae01225dfc1adf7": {
          "model_module": "@jupyter-widgets/controls",
          "model_name": "HTMLModel",
          "model_module_version": "1.5.0",
          "state": {
            "_dom_classes": [],
            "_model_module": "@jupyter-widgets/controls",
            "_model_module_version": "1.5.0",
            "_model_name": "HTMLModel",
            "_view_count": null,
            "_view_module": "@jupyter-widgets/controls",
            "_view_module_version": "1.5.0",
            "_view_name": "HTMLView",
            "description": "",
            "description_tooltip": null,
            "layout": "IPY_MODEL_6d29da3e01774780b3a2b1cb9db98011",
            "placeholder": "​",
            "style": "IPY_MODEL_e0198def3b4541089d72afc8d6b1c2d9",
            "value": "Loading checkpoint shards: 100%"
          }
        },
        "51b748df43c547ecbc623f0696cbf265": {
          "model_module": "@jupyter-widgets/controls",
          "model_name": "FloatProgressModel",
          "model_module_version": "1.5.0",
          "state": {
            "_dom_classes": [],
            "_model_module": "@jupyter-widgets/controls",
            "_model_module_version": "1.5.0",
            "_model_name": "FloatProgressModel",
            "_view_count": null,
            "_view_module": "@jupyter-widgets/controls",
            "_view_module_version": "1.5.0",
            "_view_name": "ProgressView",
            "bar_style": "success",
            "description": "",
            "description_tooltip": null,
            "layout": "IPY_MODEL_46db8f4541f74253bc81a87133f95c73",
            "max": 2,
            "min": 0,
            "orientation": "horizontal",
            "style": "IPY_MODEL_1ae2a06e82bd47fd8f9b4c884ca5efb9",
            "value": 2
          }
        },
        "58e07cb377f144f4b1cf7621536936aa": {
          "model_module": "@jupyter-widgets/controls",
          "model_name": "HTMLModel",
          "model_module_version": "1.5.0",
          "state": {
            "_dom_classes": [],
            "_model_module": "@jupyter-widgets/controls",
            "_model_module_version": "1.5.0",
            "_model_name": "HTMLModel",
            "_view_count": null,
            "_view_module": "@jupyter-widgets/controls",
            "_view_module_version": "1.5.0",
            "_view_name": "HTMLView",
            "description": "",
            "description_tooltip": null,
            "layout": "IPY_MODEL_fb7c806de0c34c2881aa6af3ee007d55",
            "placeholder": "​",
            "style": "IPY_MODEL_4a20299ef6a94e99ab870250902c587f",
            "value": " 2/2 [00:28&lt;00:00, 11.82s/it]"
          }
        },
        "1a672970de9b4216ac52894bbac4d4c4": {
          "model_module": "@jupyter-widgets/base",
          "model_name": "LayoutModel",
          "model_module_version": "1.2.0",
          "state": {
            "_model_module": "@jupyter-widgets/base",
            "_model_module_version": "1.2.0",
            "_model_name": "LayoutModel",
            "_view_count": null,
            "_view_module": "@jupyter-widgets/base",
            "_view_module_version": "1.2.0",
            "_view_name": "LayoutView",
            "align_content": null,
            "align_items": null,
            "align_self": null,
            "border": null,
            "bottom": null,
            "display": null,
            "flex": null,
            "flex_flow": null,
            "grid_area": null,
            "grid_auto_columns": null,
            "grid_auto_flow": null,
            "grid_auto_rows": null,
            "grid_column": null,
            "grid_gap": null,
            "grid_row": null,
            "grid_template_areas": null,
            "grid_template_columns": null,
            "grid_template_rows": null,
            "height": null,
            "justify_content": null,
            "justify_items": null,
            "left": null,
            "margin": null,
            "max_height": null,
            "max_width": null,
            "min_height": null,
            "min_width": null,
            "object_fit": null,
            "object_position": null,
            "order": null,
            "overflow": null,
            "overflow_x": null,
            "overflow_y": null,
            "padding": null,
            "right": null,
            "top": null,
            "visibility": null,
            "width": null
          }
        },
        "6d29da3e01774780b3a2b1cb9db98011": {
          "model_module": "@jupyter-widgets/base",
          "model_name": "LayoutModel",
          "model_module_version": "1.2.0",
          "state": {
            "_model_module": "@jupyter-widgets/base",
            "_model_module_version": "1.2.0",
            "_model_name": "LayoutModel",
            "_view_count": null,
            "_view_module": "@jupyter-widgets/base",
            "_view_module_version": "1.2.0",
            "_view_name": "LayoutView",
            "align_content": null,
            "align_items": null,
            "align_self": null,
            "border": null,
            "bottom": null,
            "display": null,
            "flex": null,
            "flex_flow": null,
            "grid_area": null,
            "grid_auto_columns": null,
            "grid_auto_flow": null,
            "grid_auto_rows": null,
            "grid_column": null,
            "grid_gap": null,
            "grid_row": null,
            "grid_template_areas": null,
            "grid_template_columns": null,
            "grid_template_rows": null,
            "height": null,
            "justify_content": null,
            "justify_items": null,
            "left": null,
            "margin": null,
            "max_height": null,
            "max_width": null,
            "min_height": null,
            "min_width": null,
            "object_fit": null,
            "object_position": null,
            "order": null,
            "overflow": null,
            "overflow_x": null,
            "overflow_y": null,
            "padding": null,
            "right": null,
            "top": null,
            "visibility": null,
            "width": null
          }
        },
        "e0198def3b4541089d72afc8d6b1c2d9": {
          "model_module": "@jupyter-widgets/controls",
          "model_name": "DescriptionStyleModel",
          "model_module_version": "1.5.0",
          "state": {
            "_model_module": "@jupyter-widgets/controls",
            "_model_module_version": "1.5.0",
            "_model_name": "DescriptionStyleModel",
            "_view_count": null,
            "_view_module": "@jupyter-widgets/base",
            "_view_module_version": "1.2.0",
            "_view_name": "StyleView",
            "description_width": ""
          }
        },
        "46db8f4541f74253bc81a87133f95c73": {
          "model_module": "@jupyter-widgets/base",
          "model_name": "LayoutModel",
          "model_module_version": "1.2.0",
          "state": {
            "_model_module": "@jupyter-widgets/base",
            "_model_module_version": "1.2.0",
            "_model_name": "LayoutModel",
            "_view_count": null,
            "_view_module": "@jupyter-widgets/base",
            "_view_module_version": "1.2.0",
            "_view_name": "LayoutView",
            "align_content": null,
            "align_items": null,
            "align_self": null,
            "border": null,
            "bottom": null,
            "display": null,
            "flex": null,
            "flex_flow": null,
            "grid_area": null,
            "grid_auto_columns": null,
            "grid_auto_flow": null,
            "grid_auto_rows": null,
            "grid_column": null,
            "grid_gap": null,
            "grid_row": null,
            "grid_template_areas": null,
            "grid_template_columns": null,
            "grid_template_rows": null,
            "height": null,
            "justify_content": null,
            "justify_items": null,
            "left": null,
            "margin": null,
            "max_height": null,
            "max_width": null,
            "min_height": null,
            "min_width": null,
            "object_fit": null,
            "object_position": null,
            "order": null,
            "overflow": null,
            "overflow_x": null,
            "overflow_y": null,
            "padding": null,
            "right": null,
            "top": null,
            "visibility": null,
            "width": null
          }
        },
        "1ae2a06e82bd47fd8f9b4c884ca5efb9": {
          "model_module": "@jupyter-widgets/controls",
          "model_name": "ProgressStyleModel",
          "model_module_version": "1.5.0",
          "state": {
            "_model_module": "@jupyter-widgets/controls",
            "_model_module_version": "1.5.0",
            "_model_name": "ProgressStyleModel",
            "_view_count": null,
            "_view_module": "@jupyter-widgets/base",
            "_view_module_version": "1.2.0",
            "_view_name": "StyleView",
            "bar_color": null,
            "description_width": ""
          }
        },
        "fb7c806de0c34c2881aa6af3ee007d55": {
          "model_module": "@jupyter-widgets/base",
          "model_name": "LayoutModel",
          "model_module_version": "1.2.0",
          "state": {
            "_model_module": "@jupyter-widgets/base",
            "_model_module_version": "1.2.0",
            "_model_name": "LayoutModel",
            "_view_count": null,
            "_view_module": "@jupyter-widgets/base",
            "_view_module_version": "1.2.0",
            "_view_name": "LayoutView",
            "align_content": null,
            "align_items": null,
            "align_self": null,
            "border": null,
            "bottom": null,
            "display": null,
            "flex": null,
            "flex_flow": null,
            "grid_area": null,
            "grid_auto_columns": null,
            "grid_auto_flow": null,
            "grid_auto_rows": null,
            "grid_column": null,
            "grid_gap": null,
            "grid_row": null,
            "grid_template_areas": null,
            "grid_template_columns": null,
            "grid_template_rows": null,
            "height": null,
            "justify_content": null,
            "justify_items": null,
            "left": null,
            "margin": null,
            "max_height": null,
            "max_width": null,
            "min_height": null,
            "min_width": null,
            "object_fit": null,
            "object_position": null,
            "order": null,
            "overflow": null,
            "overflow_x": null,
            "overflow_y": null,
            "padding": null,
            "right": null,
            "top": null,
            "visibility": null,
            "width": null
          }
        },
        "4a20299ef6a94e99ab870250902c587f": {
          "model_module": "@jupyter-widgets/controls",
          "model_name": "DescriptionStyleModel",
          "model_module_version": "1.5.0",
          "state": {
            "_model_module": "@jupyter-widgets/controls",
            "_model_module_version": "1.5.0",
            "_model_name": "DescriptionStyleModel",
            "_view_count": null,
            "_view_module": "@jupyter-widgets/base",
            "_view_module_version": "1.2.0",
            "_view_name": "StyleView",
            "description_width": ""
          }
        },
        "0fa68d58bf104cd2863983e61825a386": {
          "model_module": "@jupyter-widgets/controls",
          "model_name": "HBoxModel",
          "model_module_version": "1.5.0",
          "state": {
            "_dom_classes": [],
            "_model_module": "@jupyter-widgets/controls",
            "_model_module_version": "1.5.0",
            "_model_name": "HBoxModel",
            "_view_count": null,
            "_view_module": "@jupyter-widgets/controls",
            "_view_module_version": "1.5.0",
            "_view_name": "HBoxView",
            "box_style": "",
            "children": [
              "IPY_MODEL_8ddc5d9d71b44f628649350124057ca5",
              "IPY_MODEL_fa2daba7c3a347999dca258f3ef7f52b",
              "IPY_MODEL_9fd9bf91179d491480fdabf97913a4c9"
            ],
            "layout": "IPY_MODEL_66041136232d4cf4a97d125b6bb55b11"
          }
        },
        "8ddc5d9d71b44f628649350124057ca5": {
          "model_module": "@jupyter-widgets/controls",
          "model_name": "HTMLModel",
          "model_module_version": "1.5.0",
          "state": {
            "_dom_classes": [],
            "_model_module": "@jupyter-widgets/controls",
            "_model_module_version": "1.5.0",
            "_model_name": "HTMLModel",
            "_view_count": null,
            "_view_module": "@jupyter-widgets/controls",
            "_view_module_version": "1.5.0",
            "_view_name": "HTMLView",
            "description": "",
            "description_tooltip": null,
            "layout": "IPY_MODEL_4d9a3c8bc50243bda0748e6509462160",
            "placeholder": "​",
            "style": "IPY_MODEL_71609778a9274ea9b1335bb92bc26a6e",
            "value": "generation_config.json: 100%"
          }
        },
        "fa2daba7c3a347999dca258f3ef7f52b": {
          "model_module": "@jupyter-widgets/controls",
          "model_name": "FloatProgressModel",
          "model_module_version": "1.5.0",
          "state": {
            "_dom_classes": [],
            "_model_module": "@jupyter-widgets/controls",
            "_model_module_version": "1.5.0",
            "_model_name": "FloatProgressModel",
            "_view_count": null,
            "_view_module": "@jupyter-widgets/controls",
            "_view_module_version": "1.5.0",
            "_view_name": "ProgressView",
            "bar_style": "success",
            "description": "",
            "description_tooltip": null,
            "layout": "IPY_MODEL_bc0c2176685a4cf796419223498ae457",
            "max": 137,
            "min": 0,
            "orientation": "horizontal",
            "style": "IPY_MODEL_7196af95d142452a81af0164fb88e2f8",
            "value": 137
          }
        },
        "9fd9bf91179d491480fdabf97913a4c9": {
          "model_module": "@jupyter-widgets/controls",
          "model_name": "HTMLModel",
          "model_module_version": "1.5.0",
          "state": {
            "_dom_classes": [],
            "_model_module": "@jupyter-widgets/controls",
            "_model_module_version": "1.5.0",
            "_model_name": "HTMLModel",
            "_view_count": null,
            "_view_module": "@jupyter-widgets/controls",
            "_view_module_version": "1.5.0",
            "_view_name": "HTMLView",
            "description": "",
            "description_tooltip": null,
            "layout": "IPY_MODEL_aa45cc135c0b407f81bbd0a31d3c5863",
            "placeholder": "​",
            "style": "IPY_MODEL_617a8c17ba5a4b6780ee913c154773d6",
            "value": " 137/137 [00:00&lt;00:00, 3.77kB/s]"
          }
        },
        "66041136232d4cf4a97d125b6bb55b11": {
          "model_module": "@jupyter-widgets/base",
          "model_name": "LayoutModel",
          "model_module_version": "1.2.0",
          "state": {
            "_model_module": "@jupyter-widgets/base",
            "_model_module_version": "1.2.0",
            "_model_name": "LayoutModel",
            "_view_count": null,
            "_view_module": "@jupyter-widgets/base",
            "_view_module_version": "1.2.0",
            "_view_name": "LayoutView",
            "align_content": null,
            "align_items": null,
            "align_self": null,
            "border": null,
            "bottom": null,
            "display": null,
            "flex": null,
            "flex_flow": null,
            "grid_area": null,
            "grid_auto_columns": null,
            "grid_auto_flow": null,
            "grid_auto_rows": null,
            "grid_column": null,
            "grid_gap": null,
            "grid_row": null,
            "grid_template_areas": null,
            "grid_template_columns": null,
            "grid_template_rows": null,
            "height": null,
            "justify_content": null,
            "justify_items": null,
            "left": null,
            "margin": null,
            "max_height": null,
            "max_width": null,
            "min_height": null,
            "min_width": null,
            "object_fit": null,
            "object_position": null,
            "order": null,
            "overflow": null,
            "overflow_x": null,
            "overflow_y": null,
            "padding": null,
            "right": null,
            "top": null,
            "visibility": null,
            "width": null
          }
        },
        "4d9a3c8bc50243bda0748e6509462160": {
          "model_module": "@jupyter-widgets/base",
          "model_name": "LayoutModel",
          "model_module_version": "1.2.0",
          "state": {
            "_model_module": "@jupyter-widgets/base",
            "_model_module_version": "1.2.0",
            "_model_name": "LayoutModel",
            "_view_count": null,
            "_view_module": "@jupyter-widgets/base",
            "_view_module_version": "1.2.0",
            "_view_name": "LayoutView",
            "align_content": null,
            "align_items": null,
            "align_self": null,
            "border": null,
            "bottom": null,
            "display": null,
            "flex": null,
            "flex_flow": null,
            "grid_area": null,
            "grid_auto_columns": null,
            "grid_auto_flow": null,
            "grid_auto_rows": null,
            "grid_column": null,
            "grid_gap": null,
            "grid_row": null,
            "grid_template_areas": null,
            "grid_template_columns": null,
            "grid_template_rows": null,
            "height": null,
            "justify_content": null,
            "justify_items": null,
            "left": null,
            "margin": null,
            "max_height": null,
            "max_width": null,
            "min_height": null,
            "min_width": null,
            "object_fit": null,
            "object_position": null,
            "order": null,
            "overflow": null,
            "overflow_x": null,
            "overflow_y": null,
            "padding": null,
            "right": null,
            "top": null,
            "visibility": null,
            "width": null
          }
        },
        "71609778a9274ea9b1335bb92bc26a6e": {
          "model_module": "@jupyter-widgets/controls",
          "model_name": "DescriptionStyleModel",
          "model_module_version": "1.5.0",
          "state": {
            "_model_module": "@jupyter-widgets/controls",
            "_model_module_version": "1.5.0",
            "_model_name": "DescriptionStyleModel",
            "_view_count": null,
            "_view_module": "@jupyter-widgets/base",
            "_view_module_version": "1.2.0",
            "_view_name": "StyleView",
            "description_width": ""
          }
        },
        "bc0c2176685a4cf796419223498ae457": {
          "model_module": "@jupyter-widgets/base",
          "model_name": "LayoutModel",
          "model_module_version": "1.2.0",
          "state": {
            "_model_module": "@jupyter-widgets/base",
            "_model_module_version": "1.2.0",
            "_model_name": "LayoutModel",
            "_view_count": null,
            "_view_module": "@jupyter-widgets/base",
            "_view_module_version": "1.2.0",
            "_view_name": "LayoutView",
            "align_content": null,
            "align_items": null,
            "align_self": null,
            "border": null,
            "bottom": null,
            "display": null,
            "flex": null,
            "flex_flow": null,
            "grid_area": null,
            "grid_auto_columns": null,
            "grid_auto_flow": null,
            "grid_auto_rows": null,
            "grid_column": null,
            "grid_gap": null,
            "grid_row": null,
            "grid_template_areas": null,
            "grid_template_columns": null,
            "grid_template_rows": null,
            "height": null,
            "justify_content": null,
            "justify_items": null,
            "left": null,
            "margin": null,
            "max_height": null,
            "max_width": null,
            "min_height": null,
            "min_width": null,
            "object_fit": null,
            "object_position": null,
            "order": null,
            "overflow": null,
            "overflow_x": null,
            "overflow_y": null,
            "padding": null,
            "right": null,
            "top": null,
            "visibility": null,
            "width": null
          }
        },
        "7196af95d142452a81af0164fb88e2f8": {
          "model_module": "@jupyter-widgets/controls",
          "model_name": "ProgressStyleModel",
          "model_module_version": "1.5.0",
          "state": {
            "_model_module": "@jupyter-widgets/controls",
            "_model_module_version": "1.5.0",
            "_model_name": "ProgressStyleModel",
            "_view_count": null,
            "_view_module": "@jupyter-widgets/base",
            "_view_module_version": "1.2.0",
            "_view_name": "StyleView",
            "bar_color": null,
            "description_width": ""
          }
        },
        "aa45cc135c0b407f81bbd0a31d3c5863": {
          "model_module": "@jupyter-widgets/base",
          "model_name": "LayoutModel",
          "model_module_version": "1.2.0",
          "state": {
            "_model_module": "@jupyter-widgets/base",
            "_model_module_version": "1.2.0",
            "_model_name": "LayoutModel",
            "_view_count": null,
            "_view_module": "@jupyter-widgets/base",
            "_view_module_version": "1.2.0",
            "_view_name": "LayoutView",
            "align_content": null,
            "align_items": null,
            "align_self": null,
            "border": null,
            "bottom": null,
            "display": null,
            "flex": null,
            "flex_flow": null,
            "grid_area": null,
            "grid_auto_columns": null,
            "grid_auto_flow": null,
            "grid_auto_rows": null,
            "grid_column": null,
            "grid_gap": null,
            "grid_row": null,
            "grid_template_areas": null,
            "grid_template_columns": null,
            "grid_template_rows": null,
            "height": null,
            "justify_content": null,
            "justify_items": null,
            "left": null,
            "margin": null,
            "max_height": null,
            "max_width": null,
            "min_height": null,
            "min_width": null,
            "object_fit": null,
            "object_position": null,
            "order": null,
            "overflow": null,
            "overflow_x": null,
            "overflow_y": null,
            "padding": null,
            "right": null,
            "top": null,
            "visibility": null,
            "width": null
          }
        },
        "617a8c17ba5a4b6780ee913c154773d6": {
          "model_module": "@jupyter-widgets/controls",
          "model_name": "DescriptionStyleModel",
          "model_module_version": "1.5.0",
          "state": {
            "_model_module": "@jupyter-widgets/controls",
            "_model_module_version": "1.5.0",
            "_model_name": "DescriptionStyleModel",
            "_view_count": null,
            "_view_module": "@jupyter-widgets/base",
            "_view_module_version": "1.2.0",
            "_view_name": "StyleView",
            "description_width": ""
          }
        },
        "d91472eb96a941bc92b1ce520a35a088": {
          "model_module": "@jupyter-widgets/controls",
          "model_name": "HBoxModel",
          "model_module_version": "1.5.0",
          "state": {
            "_dom_classes": [],
            "_model_module": "@jupyter-widgets/controls",
            "_model_module_version": "1.5.0",
            "_model_name": "HBoxModel",
            "_view_count": null,
            "_view_module": "@jupyter-widgets/controls",
            "_view_module_version": "1.5.0",
            "_view_name": "HBoxView",
            "box_style": "",
            "children": [
              "IPY_MODEL_c9f1a693e7004e9b8b673126c734d833",
              "IPY_MODEL_01398e0b26b84478b6ef587873f048c9",
              "IPY_MODEL_5961009271ec493fa2d824b3cd71a9a1"
            ],
            "layout": "IPY_MODEL_7af04a0509ca49749f14a32306ff85d1"
          }
        },
        "c9f1a693e7004e9b8b673126c734d833": {
          "model_module": "@jupyter-widgets/controls",
          "model_name": "HTMLModel",
          "model_module_version": "1.5.0",
          "state": {
            "_dom_classes": [],
            "_model_module": "@jupyter-widgets/controls",
            "_model_module_version": "1.5.0",
            "_model_name": "HTMLModel",
            "_view_count": null,
            "_view_module": "@jupyter-widgets/controls",
            "_view_module_version": "1.5.0",
            "_view_name": "HTMLView",
            "description": "",
            "description_tooltip": null,
            "layout": "IPY_MODEL_066a6417252142f5b11594be7fc48650",
            "placeholder": "​",
            "style": "IPY_MODEL_a7ecb9e447574df5bbb94e4074ba7f00",
            "value": "tokenizer_config.json: 100%"
          }
        },
        "01398e0b26b84478b6ef587873f048c9": {
          "model_module": "@jupyter-widgets/controls",
          "model_name": "FloatProgressModel",
          "model_module_version": "1.5.0",
          "state": {
            "_dom_classes": [],
            "_model_module": "@jupyter-widgets/controls",
            "_model_module_version": "1.5.0",
            "_model_name": "FloatProgressModel",
            "_view_count": null,
            "_view_module": "@jupyter-widgets/controls",
            "_view_module_version": "1.5.0",
            "_view_name": "ProgressView",
            "bar_style": "success",
            "description": "",
            "description_tooltip": null,
            "layout": "IPY_MODEL_76e690c5c0134d4696c152914c2e180f",
            "max": 34173,
            "min": 0,
            "orientation": "horizontal",
            "style": "IPY_MODEL_8e1dbc74e1804c52ad38d6b591864420",
            "value": 34173
          }
        },
        "5961009271ec493fa2d824b3cd71a9a1": {
          "model_module": "@jupyter-widgets/controls",
          "model_name": "HTMLModel",
          "model_module_version": "1.5.0",
          "state": {
            "_dom_classes": [],
            "_model_module": "@jupyter-widgets/controls",
            "_model_module_version": "1.5.0",
            "_model_name": "HTMLModel",
            "_view_count": null,
            "_view_module": "@jupyter-widgets/controls",
            "_view_module_version": "1.5.0",
            "_view_name": "HTMLView",
            "description": "",
            "description_tooltip": null,
            "layout": "IPY_MODEL_cde461ffd20049b8891194df59810eef",
            "placeholder": "​",
            "style": "IPY_MODEL_aef017dc743b4076959fcf479e5440cd",
            "value": " 34.2k/34.2k [00:00&lt;00:00, 2.12MB/s]"
          }
        },
        "7af04a0509ca49749f14a32306ff85d1": {
          "model_module": "@jupyter-widgets/base",
          "model_name": "LayoutModel",
          "model_module_version": "1.2.0",
          "state": {
            "_model_module": "@jupyter-widgets/base",
            "_model_module_version": "1.2.0",
            "_model_name": "LayoutModel",
            "_view_count": null,
            "_view_module": "@jupyter-widgets/base",
            "_view_module_version": "1.2.0",
            "_view_name": "LayoutView",
            "align_content": null,
            "align_items": null,
            "align_self": null,
            "border": null,
            "bottom": null,
            "display": null,
            "flex": null,
            "flex_flow": null,
            "grid_area": null,
            "grid_auto_columns": null,
            "grid_auto_flow": null,
            "grid_auto_rows": null,
            "grid_column": null,
            "grid_gap": null,
            "grid_row": null,
            "grid_template_areas": null,
            "grid_template_columns": null,
            "grid_template_rows": null,
            "height": null,
            "justify_content": null,
            "justify_items": null,
            "left": null,
            "margin": null,
            "max_height": null,
            "max_width": null,
            "min_height": null,
            "min_width": null,
            "object_fit": null,
            "object_position": null,
            "order": null,
            "overflow": null,
            "overflow_x": null,
            "overflow_y": null,
            "padding": null,
            "right": null,
            "top": null,
            "visibility": null,
            "width": null
          }
        },
        "066a6417252142f5b11594be7fc48650": {
          "model_module": "@jupyter-widgets/base",
          "model_name": "LayoutModel",
          "model_module_version": "1.2.0",
          "state": {
            "_model_module": "@jupyter-widgets/base",
            "_model_module_version": "1.2.0",
            "_model_name": "LayoutModel",
            "_view_count": null,
            "_view_module": "@jupyter-widgets/base",
            "_view_module_version": "1.2.0",
            "_view_name": "LayoutView",
            "align_content": null,
            "align_items": null,
            "align_self": null,
            "border": null,
            "bottom": null,
            "display": null,
            "flex": null,
            "flex_flow": null,
            "grid_area": null,
            "grid_auto_columns": null,
            "grid_auto_flow": null,
            "grid_auto_rows": null,
            "grid_column": null,
            "grid_gap": null,
            "grid_row": null,
            "grid_template_areas": null,
            "grid_template_columns": null,
            "grid_template_rows": null,
            "height": null,
            "justify_content": null,
            "justify_items": null,
            "left": null,
            "margin": null,
            "max_height": null,
            "max_width": null,
            "min_height": null,
            "min_width": null,
            "object_fit": null,
            "object_position": null,
            "order": null,
            "overflow": null,
            "overflow_x": null,
            "overflow_y": null,
            "padding": null,
            "right": null,
            "top": null,
            "visibility": null,
            "width": null
          }
        },
        "a7ecb9e447574df5bbb94e4074ba7f00": {
          "model_module": "@jupyter-widgets/controls",
          "model_name": "DescriptionStyleModel",
          "model_module_version": "1.5.0",
          "state": {
            "_model_module": "@jupyter-widgets/controls",
            "_model_module_version": "1.5.0",
            "_model_name": "DescriptionStyleModel",
            "_view_count": null,
            "_view_module": "@jupyter-widgets/base",
            "_view_module_version": "1.2.0",
            "_view_name": "StyleView",
            "description_width": ""
          }
        },
        "76e690c5c0134d4696c152914c2e180f": {
          "model_module": "@jupyter-widgets/base",
          "model_name": "LayoutModel",
          "model_module_version": "1.2.0",
          "state": {
            "_model_module": "@jupyter-widgets/base",
            "_model_module_version": "1.2.0",
            "_model_name": "LayoutModel",
            "_view_count": null,
            "_view_module": "@jupyter-widgets/base",
            "_view_module_version": "1.2.0",
            "_view_name": "LayoutView",
            "align_content": null,
            "align_items": null,
            "align_self": null,
            "border": null,
            "bottom": null,
            "display": null,
            "flex": null,
            "flex_flow": null,
            "grid_area": null,
            "grid_auto_columns": null,
            "grid_auto_flow": null,
            "grid_auto_rows": null,
            "grid_column": null,
            "grid_gap": null,
            "grid_row": null,
            "grid_template_areas": null,
            "grid_template_columns": null,
            "grid_template_rows": null,
            "height": null,
            "justify_content": null,
            "justify_items": null,
            "left": null,
            "margin": null,
            "max_height": null,
            "max_width": null,
            "min_height": null,
            "min_width": null,
            "object_fit": null,
            "object_position": null,
            "order": null,
            "overflow": null,
            "overflow_x": null,
            "overflow_y": null,
            "padding": null,
            "right": null,
            "top": null,
            "visibility": null,
            "width": null
          }
        },
        "8e1dbc74e1804c52ad38d6b591864420": {
          "model_module": "@jupyter-widgets/controls",
          "model_name": "ProgressStyleModel",
          "model_module_version": "1.5.0",
          "state": {
            "_model_module": "@jupyter-widgets/controls",
            "_model_module_version": "1.5.0",
            "_model_name": "ProgressStyleModel",
            "_view_count": null,
            "_view_module": "@jupyter-widgets/base",
            "_view_module_version": "1.2.0",
            "_view_name": "StyleView",
            "bar_color": null,
            "description_width": ""
          }
        },
        "cde461ffd20049b8891194df59810eef": {
          "model_module": "@jupyter-widgets/base",
          "model_name": "LayoutModel",
          "model_module_version": "1.2.0",
          "state": {
            "_model_module": "@jupyter-widgets/base",
            "_model_module_version": "1.2.0",
            "_model_name": "LayoutModel",
            "_view_count": null,
            "_view_module": "@jupyter-widgets/base",
            "_view_module_version": "1.2.0",
            "_view_name": "LayoutView",
            "align_content": null,
            "align_items": null,
            "align_self": null,
            "border": null,
            "bottom": null,
            "display": null,
            "flex": null,
            "flex_flow": null,
            "grid_area": null,
            "grid_auto_columns": null,
            "grid_auto_flow": null,
            "grid_auto_rows": null,
            "grid_column": null,
            "grid_gap": null,
            "grid_row": null,
            "grid_template_areas": null,
            "grid_template_columns": null,
            "grid_template_rows": null,
            "height": null,
            "justify_content": null,
            "justify_items": null,
            "left": null,
            "margin": null,
            "max_height": null,
            "max_width": null,
            "min_height": null,
            "min_width": null,
            "object_fit": null,
            "object_position": null,
            "order": null,
            "overflow": null,
            "overflow_x": null,
            "overflow_y": null,
            "padding": null,
            "right": null,
            "top": null,
            "visibility": null,
            "width": null
          }
        },
        "aef017dc743b4076959fcf479e5440cd": {
          "model_module": "@jupyter-widgets/controls",
          "model_name": "DescriptionStyleModel",
          "model_module_version": "1.5.0",
          "state": {
            "_model_module": "@jupyter-widgets/controls",
            "_model_module_version": "1.5.0",
            "_model_name": "DescriptionStyleModel",
            "_view_count": null,
            "_view_module": "@jupyter-widgets/base",
            "_view_module_version": "1.2.0",
            "_view_name": "StyleView",
            "description_width": ""
          }
        },
        "d892a18d4d1348d6978b86b0e0065e72": {
          "model_module": "@jupyter-widgets/controls",
          "model_name": "HBoxModel",
          "model_module_version": "1.5.0",
          "state": {
            "_dom_classes": [],
            "_model_module": "@jupyter-widgets/controls",
            "_model_module_version": "1.5.0",
            "_model_name": "HBoxModel",
            "_view_count": null,
            "_view_module": "@jupyter-widgets/controls",
            "_view_module_version": "1.5.0",
            "_view_name": "HBoxView",
            "box_style": "",
            "children": [
              "IPY_MODEL_cb8172c2b5c0454983653c12a45b8dcb",
              "IPY_MODEL_b9320db944b1495ca4220bbaa8aaae50",
              "IPY_MODEL_453fda0cbc474ab2878bedac1eb52b75"
            ],
            "layout": "IPY_MODEL_8583d9af42ea499dbe76be07190ab570"
          }
        },
        "cb8172c2b5c0454983653c12a45b8dcb": {
          "model_module": "@jupyter-widgets/controls",
          "model_name": "HTMLModel",
          "model_module_version": "1.5.0",
          "state": {
            "_dom_classes": [],
            "_model_module": "@jupyter-widgets/controls",
            "_model_module_version": "1.5.0",
            "_model_name": "HTMLModel",
            "_view_count": null,
            "_view_module": "@jupyter-widgets/controls",
            "_view_module_version": "1.5.0",
            "_view_name": "HTMLView",
            "description": "",
            "description_tooltip": null,
            "layout": "IPY_MODEL_2dce5989b856402ebfdf4ce5245b2d2d",
            "placeholder": "​",
            "style": "IPY_MODEL_10e5472c16324f82b83add9c895d258a",
            "value": "tokenizer.model: 100%"
          }
        },
        "b9320db944b1495ca4220bbaa8aaae50": {
          "model_module": "@jupyter-widgets/controls",
          "model_name": "FloatProgressModel",
          "model_module_version": "1.5.0",
          "state": {
            "_dom_classes": [],
            "_model_module": "@jupyter-widgets/controls",
            "_model_module_version": "1.5.0",
            "_model_name": "FloatProgressModel",
            "_view_count": null,
            "_view_module": "@jupyter-widgets/controls",
            "_view_module_version": "1.5.0",
            "_view_name": "ProgressView",
            "bar_style": "success",
            "description": "",
            "description_tooltip": null,
            "layout": "IPY_MODEL_4cc08d35af814ef0a060395447b06847",
            "max": 4241003,
            "min": 0,
            "orientation": "horizontal",
            "style": "IPY_MODEL_d3773995f2814c0b8119b4add45812bb",
            "value": 4241003
          }
        },
        "453fda0cbc474ab2878bedac1eb52b75": {
          "model_module": "@jupyter-widgets/controls",
          "model_name": "HTMLModel",
          "model_module_version": "1.5.0",
          "state": {
            "_dom_classes": [],
            "_model_module": "@jupyter-widgets/controls",
            "_model_module_version": "1.5.0",
            "_model_name": "HTMLModel",
            "_view_count": null,
            "_view_module": "@jupyter-widgets/controls",
            "_view_module_version": "1.5.0",
            "_view_name": "HTMLView",
            "description": "",
            "description_tooltip": null,
            "layout": "IPY_MODEL_32fedfd67f53412581a87eaaead1e52b",
            "placeholder": "​",
            "style": "IPY_MODEL_b5a9b6724fcf446b8d46ae91ba0862fa",
            "value": " 4.24M/4.24M [00:00&lt;00:00, 17.6MB/s]"
          }
        },
        "8583d9af42ea499dbe76be07190ab570": {
          "model_module": "@jupyter-widgets/base",
          "model_name": "LayoutModel",
          "model_module_version": "1.2.0",
          "state": {
            "_model_module": "@jupyter-widgets/base",
            "_model_module_version": "1.2.0",
            "_model_name": "LayoutModel",
            "_view_count": null,
            "_view_module": "@jupyter-widgets/base",
            "_view_module_version": "1.2.0",
            "_view_name": "LayoutView",
            "align_content": null,
            "align_items": null,
            "align_self": null,
            "border": null,
            "bottom": null,
            "display": null,
            "flex": null,
            "flex_flow": null,
            "grid_area": null,
            "grid_auto_columns": null,
            "grid_auto_flow": null,
            "grid_auto_rows": null,
            "grid_column": null,
            "grid_gap": null,
            "grid_row": null,
            "grid_template_areas": null,
            "grid_template_columns": null,
            "grid_template_rows": null,
            "height": null,
            "justify_content": null,
            "justify_items": null,
            "left": null,
            "margin": null,
            "max_height": null,
            "max_width": null,
            "min_height": null,
            "min_width": null,
            "object_fit": null,
            "object_position": null,
            "order": null,
            "overflow": null,
            "overflow_x": null,
            "overflow_y": null,
            "padding": null,
            "right": null,
            "top": null,
            "visibility": null,
            "width": null
          }
        },
        "2dce5989b856402ebfdf4ce5245b2d2d": {
          "model_module": "@jupyter-widgets/base",
          "model_name": "LayoutModel",
          "model_module_version": "1.2.0",
          "state": {
            "_model_module": "@jupyter-widgets/base",
            "_model_module_version": "1.2.0",
            "_model_name": "LayoutModel",
            "_view_count": null,
            "_view_module": "@jupyter-widgets/base",
            "_view_module_version": "1.2.0",
            "_view_name": "LayoutView",
            "align_content": null,
            "align_items": null,
            "align_self": null,
            "border": null,
            "bottom": null,
            "display": null,
            "flex": null,
            "flex_flow": null,
            "grid_area": null,
            "grid_auto_columns": null,
            "grid_auto_flow": null,
            "grid_auto_rows": null,
            "grid_column": null,
            "grid_gap": null,
            "grid_row": null,
            "grid_template_areas": null,
            "grid_template_columns": null,
            "grid_template_rows": null,
            "height": null,
            "justify_content": null,
            "justify_items": null,
            "left": null,
            "margin": null,
            "max_height": null,
            "max_width": null,
            "min_height": null,
            "min_width": null,
            "object_fit": null,
            "object_position": null,
            "order": null,
            "overflow": null,
            "overflow_x": null,
            "overflow_y": null,
            "padding": null,
            "right": null,
            "top": null,
            "visibility": null,
            "width": null
          }
        },
        "10e5472c16324f82b83add9c895d258a": {
          "model_module": "@jupyter-widgets/controls",
          "model_name": "DescriptionStyleModel",
          "model_module_version": "1.5.0",
          "state": {
            "_model_module": "@jupyter-widgets/controls",
            "_model_module_version": "1.5.0",
            "_model_name": "DescriptionStyleModel",
            "_view_count": null,
            "_view_module": "@jupyter-widgets/base",
            "_view_module_version": "1.2.0",
            "_view_name": "StyleView",
            "description_width": ""
          }
        },
        "4cc08d35af814ef0a060395447b06847": {
          "model_module": "@jupyter-widgets/base",
          "model_name": "LayoutModel",
          "model_module_version": "1.2.0",
          "state": {
            "_model_module": "@jupyter-widgets/base",
            "_model_module_version": "1.2.0",
            "_model_name": "LayoutModel",
            "_view_count": null,
            "_view_module": "@jupyter-widgets/base",
            "_view_module_version": "1.2.0",
            "_view_name": "LayoutView",
            "align_content": null,
            "align_items": null,
            "align_self": null,
            "border": null,
            "bottom": null,
            "display": null,
            "flex": null,
            "flex_flow": null,
            "grid_area": null,
            "grid_auto_columns": null,
            "grid_auto_flow": null,
            "grid_auto_rows": null,
            "grid_column": null,
            "grid_gap": null,
            "grid_row": null,
            "grid_template_areas": null,
            "grid_template_columns": null,
            "grid_template_rows": null,
            "height": null,
            "justify_content": null,
            "justify_items": null,
            "left": null,
            "margin": null,
            "max_height": null,
            "max_width": null,
            "min_height": null,
            "min_width": null,
            "object_fit": null,
            "object_position": null,
            "order": null,
            "overflow": null,
            "overflow_x": null,
            "overflow_y": null,
            "padding": null,
            "right": null,
            "top": null,
            "visibility": null,
            "width": null
          }
        },
        "d3773995f2814c0b8119b4add45812bb": {
          "model_module": "@jupyter-widgets/controls",
          "model_name": "ProgressStyleModel",
          "model_module_version": "1.5.0",
          "state": {
            "_model_module": "@jupyter-widgets/controls",
            "_model_module_version": "1.5.0",
            "_model_name": "ProgressStyleModel",
            "_view_count": null,
            "_view_module": "@jupyter-widgets/base",
            "_view_module_version": "1.2.0",
            "_view_name": "StyleView",
            "bar_color": null,
            "description_width": ""
          }
        },
        "32fedfd67f53412581a87eaaead1e52b": {
          "model_module": "@jupyter-widgets/base",
          "model_name": "LayoutModel",
          "model_module_version": "1.2.0",
          "state": {
            "_model_module": "@jupyter-widgets/base",
            "_model_module_version": "1.2.0",
            "_model_name": "LayoutModel",
            "_view_count": null,
            "_view_module": "@jupyter-widgets/base",
            "_view_module_version": "1.2.0",
            "_view_name": "LayoutView",
            "align_content": null,
            "align_items": null,
            "align_self": null,
            "border": null,
            "bottom": null,
            "display": null,
            "flex": null,
            "flex_flow": null,
            "grid_area": null,
            "grid_auto_columns": null,
            "grid_auto_flow": null,
            "grid_auto_rows": null,
            "grid_column": null,
            "grid_gap": null,
            "grid_row": null,
            "grid_template_areas": null,
            "grid_template_columns": null,
            "grid_template_rows": null,
            "height": null,
            "justify_content": null,
            "justify_items": null,
            "left": null,
            "margin": null,
            "max_height": null,
            "max_width": null,
            "min_height": null,
            "min_width": null,
            "object_fit": null,
            "object_position": null,
            "order": null,
            "overflow": null,
            "overflow_x": null,
            "overflow_y": null,
            "padding": null,
            "right": null,
            "top": null,
            "visibility": null,
            "width": null
          }
        },
        "b5a9b6724fcf446b8d46ae91ba0862fa": {
          "model_module": "@jupyter-widgets/controls",
          "model_name": "DescriptionStyleModel",
          "model_module_version": "1.5.0",
          "state": {
            "_model_module": "@jupyter-widgets/controls",
            "_model_module_version": "1.5.0",
            "_model_name": "DescriptionStyleModel",
            "_view_count": null,
            "_view_module": "@jupyter-widgets/base",
            "_view_module_version": "1.2.0",
            "_view_name": "StyleView",
            "description_width": ""
          }
        },
        "5f72296e46a843f784094c9d7b773507": {
          "model_module": "@jupyter-widgets/controls",
          "model_name": "HBoxModel",
          "model_module_version": "1.5.0",
          "state": {
            "_dom_classes": [],
            "_model_module": "@jupyter-widgets/controls",
            "_model_module_version": "1.5.0",
            "_model_name": "HBoxModel",
            "_view_count": null,
            "_view_module": "@jupyter-widgets/controls",
            "_view_module_version": "1.5.0",
            "_view_name": "HBoxView",
            "box_style": "",
            "children": [
              "IPY_MODEL_56b2c41ef9194994a9fd11b19246c779",
              "IPY_MODEL_f85713d43d6c4328b4e8c561d06f8af9",
              "IPY_MODEL_056d2e644c2245d8aed47a8106d60eeb"
            ],
            "layout": "IPY_MODEL_f5c1001613c248d9af02d1369dc854fa"
          }
        },
        "56b2c41ef9194994a9fd11b19246c779": {
          "model_module": "@jupyter-widgets/controls",
          "model_name": "HTMLModel",
          "model_module_version": "1.5.0",
          "state": {
            "_dom_classes": [],
            "_model_module": "@jupyter-widgets/controls",
            "_model_module_version": "1.5.0",
            "_model_name": "HTMLModel",
            "_view_count": null,
            "_view_module": "@jupyter-widgets/controls",
            "_view_module_version": "1.5.0",
            "_view_name": "HTMLView",
            "description": "",
            "description_tooltip": null,
            "layout": "IPY_MODEL_cd7bf64072fe426682c77e37b61c2f6c",
            "placeholder": "​",
            "style": "IPY_MODEL_4e08081151d943028fce9f4a7ceba1e9",
            "value": "tokenizer.json: 100%"
          }
        },
        "f85713d43d6c4328b4e8c561d06f8af9": {
          "model_module": "@jupyter-widgets/controls",
          "model_name": "FloatProgressModel",
          "model_module_version": "1.5.0",
          "state": {
            "_dom_classes": [],
            "_model_module": "@jupyter-widgets/controls",
            "_model_module_version": "1.5.0",
            "_model_name": "FloatProgressModel",
            "_view_count": null,
            "_view_module": "@jupyter-widgets/controls",
            "_view_module_version": "1.5.0",
            "_view_name": "ProgressView",
            "bar_style": "success",
            "description": "",
            "description_tooltip": null,
            "layout": "IPY_MODEL_76b09952d2184360b23fdb117d0dacb3",
            "max": 17518497,
            "min": 0,
            "orientation": "horizontal",
            "style": "IPY_MODEL_05d1afcbc06c44e78e15fd307c171375",
            "value": 17518497
          }
        },
        "056d2e644c2245d8aed47a8106d60eeb": {
          "model_module": "@jupyter-widgets/controls",
          "model_name": "HTMLModel",
          "model_module_version": "1.5.0",
          "state": {
            "_dom_classes": [],
            "_model_module": "@jupyter-widgets/controls",
            "_model_module_version": "1.5.0",
            "_model_name": "HTMLModel",
            "_view_count": null,
            "_view_module": "@jupyter-widgets/controls",
            "_view_module_version": "1.5.0",
            "_view_name": "HTMLView",
            "description": "",
            "description_tooltip": null,
            "layout": "IPY_MODEL_4a9d4af5ca8a4eb98a6136a8d52c84fa",
            "placeholder": "​",
            "style": "IPY_MODEL_4f6e02ed666549ed9846c0109c7f9af7",
            "value": " 17.5M/17.5M [00:00&lt;00:00, 43.1MB/s]"
          }
        },
        "f5c1001613c248d9af02d1369dc854fa": {
          "model_module": "@jupyter-widgets/base",
          "model_name": "LayoutModel",
          "model_module_version": "1.2.0",
          "state": {
            "_model_module": "@jupyter-widgets/base",
            "_model_module_version": "1.2.0",
            "_model_name": "LayoutModel",
            "_view_count": null,
            "_view_module": "@jupyter-widgets/base",
            "_view_module_version": "1.2.0",
            "_view_name": "LayoutView",
            "align_content": null,
            "align_items": null,
            "align_self": null,
            "border": null,
            "bottom": null,
            "display": null,
            "flex": null,
            "flex_flow": null,
            "grid_area": null,
            "grid_auto_columns": null,
            "grid_auto_flow": null,
            "grid_auto_rows": null,
            "grid_column": null,
            "grid_gap": null,
            "grid_row": null,
            "grid_template_areas": null,
            "grid_template_columns": null,
            "grid_template_rows": null,
            "height": null,
            "justify_content": null,
            "justify_items": null,
            "left": null,
            "margin": null,
            "max_height": null,
            "max_width": null,
            "min_height": null,
            "min_width": null,
            "object_fit": null,
            "object_position": null,
            "order": null,
            "overflow": null,
            "overflow_x": null,
            "overflow_y": null,
            "padding": null,
            "right": null,
            "top": null,
            "visibility": null,
            "width": null
          }
        },
        "cd7bf64072fe426682c77e37b61c2f6c": {
          "model_module": "@jupyter-widgets/base",
          "model_name": "LayoutModel",
          "model_module_version": "1.2.0",
          "state": {
            "_model_module": "@jupyter-widgets/base",
            "_model_module_version": "1.2.0",
            "_model_name": "LayoutModel",
            "_view_count": null,
            "_view_module": "@jupyter-widgets/base",
            "_view_module_version": "1.2.0",
            "_view_name": "LayoutView",
            "align_content": null,
            "align_items": null,
            "align_self": null,
            "border": null,
            "bottom": null,
            "display": null,
            "flex": null,
            "flex_flow": null,
            "grid_area": null,
            "grid_auto_columns": null,
            "grid_auto_flow": null,
            "grid_auto_rows": null,
            "grid_column": null,
            "grid_gap": null,
            "grid_row": null,
            "grid_template_areas": null,
            "grid_template_columns": null,
            "grid_template_rows": null,
            "height": null,
            "justify_content": null,
            "justify_items": null,
            "left": null,
            "margin": null,
            "max_height": null,
            "max_width": null,
            "min_height": null,
            "min_width": null,
            "object_fit": null,
            "object_position": null,
            "order": null,
            "overflow": null,
            "overflow_x": null,
            "overflow_y": null,
            "padding": null,
            "right": null,
            "top": null,
            "visibility": null,
            "width": null
          }
        },
        "4e08081151d943028fce9f4a7ceba1e9": {
          "model_module": "@jupyter-widgets/controls",
          "model_name": "DescriptionStyleModel",
          "model_module_version": "1.5.0",
          "state": {
            "_model_module": "@jupyter-widgets/controls",
            "_model_module_version": "1.5.0",
            "_model_name": "DescriptionStyleModel",
            "_view_count": null,
            "_view_module": "@jupyter-widgets/base",
            "_view_module_version": "1.2.0",
            "_view_name": "StyleView",
            "description_width": ""
          }
        },
        "76b09952d2184360b23fdb117d0dacb3": {
          "model_module": "@jupyter-widgets/base",
          "model_name": "LayoutModel",
          "model_module_version": "1.2.0",
          "state": {
            "_model_module": "@jupyter-widgets/base",
            "_model_module_version": "1.2.0",
            "_model_name": "LayoutModel",
            "_view_count": null,
            "_view_module": "@jupyter-widgets/base",
            "_view_module_version": "1.2.0",
            "_view_name": "LayoutView",
            "align_content": null,
            "align_items": null,
            "align_self": null,
            "border": null,
            "bottom": null,
            "display": null,
            "flex": null,
            "flex_flow": null,
            "grid_area": null,
            "grid_auto_columns": null,
            "grid_auto_flow": null,
            "grid_auto_rows": null,
            "grid_column": null,
            "grid_gap": null,
            "grid_row": null,
            "grid_template_areas": null,
            "grid_template_columns": null,
            "grid_template_rows": null,
            "height": null,
            "justify_content": null,
            "justify_items": null,
            "left": null,
            "margin": null,
            "max_height": null,
            "max_width": null,
            "min_height": null,
            "min_width": null,
            "object_fit": null,
            "object_position": null,
            "order": null,
            "overflow": null,
            "overflow_x": null,
            "overflow_y": null,
            "padding": null,
            "right": null,
            "top": null,
            "visibility": null,
            "width": null
          }
        },
        "05d1afcbc06c44e78e15fd307c171375": {
          "model_module": "@jupyter-widgets/controls",
          "model_name": "ProgressStyleModel",
          "model_module_version": "1.5.0",
          "state": {
            "_model_module": "@jupyter-widgets/controls",
            "_model_module_version": "1.5.0",
            "_model_name": "ProgressStyleModel",
            "_view_count": null,
            "_view_module": "@jupyter-widgets/base",
            "_view_module_version": "1.2.0",
            "_view_name": "StyleView",
            "bar_color": null,
            "description_width": ""
          }
        },
        "4a9d4af5ca8a4eb98a6136a8d52c84fa": {
          "model_module": "@jupyter-widgets/base",
          "model_name": "LayoutModel",
          "model_module_version": "1.2.0",
          "state": {
            "_model_module": "@jupyter-widgets/base",
            "_model_module_version": "1.2.0",
            "_model_name": "LayoutModel",
            "_view_count": null,
            "_view_module": "@jupyter-widgets/base",
            "_view_module_version": "1.2.0",
            "_view_name": "LayoutView",
            "align_content": null,
            "align_items": null,
            "align_self": null,
            "border": null,
            "bottom": null,
            "display": null,
            "flex": null,
            "flex_flow": null,
            "grid_area": null,
            "grid_auto_columns": null,
            "grid_auto_flow": null,
            "grid_auto_rows": null,
            "grid_column": null,
            "grid_gap": null,
            "grid_row": null,
            "grid_template_areas": null,
            "grid_template_columns": null,
            "grid_template_rows": null,
            "height": null,
            "justify_content": null,
            "justify_items": null,
            "left": null,
            "margin": null,
            "max_height": null,
            "max_width": null,
            "min_height": null,
            "min_width": null,
            "object_fit": null,
            "object_position": null,
            "order": null,
            "overflow": null,
            "overflow_x": null,
            "overflow_y": null,
            "padding": null,
            "right": null,
            "top": null,
            "visibility": null,
            "width": null
          }
        },
        "4f6e02ed666549ed9846c0109c7f9af7": {
          "model_module": "@jupyter-widgets/controls",
          "model_name": "DescriptionStyleModel",
          "model_module_version": "1.5.0",
          "state": {
            "_model_module": "@jupyter-widgets/controls",
            "_model_module_version": "1.5.0",
            "_model_name": "DescriptionStyleModel",
            "_view_count": null,
            "_view_module": "@jupyter-widgets/base",
            "_view_module_version": "1.2.0",
            "_view_name": "StyleView",
            "description_width": ""
          }
        },
        "1c698ea79c194ed0bf6bf36d7c949503": {
          "model_module": "@jupyter-widgets/controls",
          "model_name": "HBoxModel",
          "model_module_version": "1.5.0",
          "state": {
            "_dom_classes": [],
            "_model_module": "@jupyter-widgets/controls",
            "_model_module_version": "1.5.0",
            "_model_name": "HBoxModel",
            "_view_count": null,
            "_view_module": "@jupyter-widgets/controls",
            "_view_module_version": "1.5.0",
            "_view_name": "HBoxView",
            "box_style": "",
            "children": [
              "IPY_MODEL_818fde5f28db436d80e41b6aa4a756a9",
              "IPY_MODEL_b35f7416e0f646acaad2fd13a179f4f6",
              "IPY_MODEL_6a07f68874e044fd8ab7d9725af0e505"
            ],
            "layout": "IPY_MODEL_0cd36035b85343cfb70a3eec3f3b5668"
          }
        },
        "818fde5f28db436d80e41b6aa4a756a9": {
          "model_module": "@jupyter-widgets/controls",
          "model_name": "HTMLModel",
          "model_module_version": "1.5.0",
          "state": {
            "_dom_classes": [],
            "_model_module": "@jupyter-widgets/controls",
            "_model_module_version": "1.5.0",
            "_model_name": "HTMLModel",
            "_view_count": null,
            "_view_module": "@jupyter-widgets/controls",
            "_view_module_version": "1.5.0",
            "_view_name": "HTMLView",
            "description": "",
            "description_tooltip": null,
            "layout": "IPY_MODEL_85ff0ea829ae4cb7bc5cf5b7590a9f26",
            "placeholder": "​",
            "style": "IPY_MODEL_b7fdb6648d0349a7b52f9f0c5301fe53",
            "value": "special_tokens_map.json: 100%"
          }
        },
        "b35f7416e0f646acaad2fd13a179f4f6": {
          "model_module": "@jupyter-widgets/controls",
          "model_name": "FloatProgressModel",
          "model_module_version": "1.5.0",
          "state": {
            "_dom_classes": [],
            "_model_module": "@jupyter-widgets/controls",
            "_model_module_version": "1.5.0",
            "_model_name": "FloatProgressModel",
            "_view_count": null,
            "_view_module": "@jupyter-widgets/controls",
            "_view_module_version": "1.5.0",
            "_view_name": "ProgressView",
            "bar_style": "success",
            "description": "",
            "description_tooltip": null,
            "layout": "IPY_MODEL_776a002524254954b9ba95ff6fb90389",
            "max": 636,
            "min": 0,
            "orientation": "horizontal",
            "style": "IPY_MODEL_95821c475ad64aad8f2620f7888a91cb",
            "value": 636
          }
        },
        "6a07f68874e044fd8ab7d9725af0e505": {
          "model_module": "@jupyter-widgets/controls",
          "model_name": "HTMLModel",
          "model_module_version": "1.5.0",
          "state": {
            "_dom_classes": [],
            "_model_module": "@jupyter-widgets/controls",
            "_model_module_version": "1.5.0",
            "_model_name": "HTMLModel",
            "_view_count": null,
            "_view_module": "@jupyter-widgets/controls",
            "_view_module_version": "1.5.0",
            "_view_name": "HTMLView",
            "description": "",
            "description_tooltip": null,
            "layout": "IPY_MODEL_12584b09be8c44e19e1600032b4b3fd0",
            "placeholder": "​",
            "style": "IPY_MODEL_ab64c8914d534a0da02736ee08b2de9b",
            "value": " 636/636 [00:00&lt;00:00, 36.2kB/s]"
          }
        },
        "0cd36035b85343cfb70a3eec3f3b5668": {
          "model_module": "@jupyter-widgets/base",
          "model_name": "LayoutModel",
          "model_module_version": "1.2.0",
          "state": {
            "_model_module": "@jupyter-widgets/base",
            "_model_module_version": "1.2.0",
            "_model_name": "LayoutModel",
            "_view_count": null,
            "_view_module": "@jupyter-widgets/base",
            "_view_module_version": "1.2.0",
            "_view_name": "LayoutView",
            "align_content": null,
            "align_items": null,
            "align_self": null,
            "border": null,
            "bottom": null,
            "display": null,
            "flex": null,
            "flex_flow": null,
            "grid_area": null,
            "grid_auto_columns": null,
            "grid_auto_flow": null,
            "grid_auto_rows": null,
            "grid_column": null,
            "grid_gap": null,
            "grid_row": null,
            "grid_template_areas": null,
            "grid_template_columns": null,
            "grid_template_rows": null,
            "height": null,
            "justify_content": null,
            "justify_items": null,
            "left": null,
            "margin": null,
            "max_height": null,
            "max_width": null,
            "min_height": null,
            "min_width": null,
            "object_fit": null,
            "object_position": null,
            "order": null,
            "overflow": null,
            "overflow_x": null,
            "overflow_y": null,
            "padding": null,
            "right": null,
            "top": null,
            "visibility": null,
            "width": null
          }
        },
        "85ff0ea829ae4cb7bc5cf5b7590a9f26": {
          "model_module": "@jupyter-widgets/base",
          "model_name": "LayoutModel",
          "model_module_version": "1.2.0",
          "state": {
            "_model_module": "@jupyter-widgets/base",
            "_model_module_version": "1.2.0",
            "_model_name": "LayoutModel",
            "_view_count": null,
            "_view_module": "@jupyter-widgets/base",
            "_view_module_version": "1.2.0",
            "_view_name": "LayoutView",
            "align_content": null,
            "align_items": null,
            "align_self": null,
            "border": null,
            "bottom": null,
            "display": null,
            "flex": null,
            "flex_flow": null,
            "grid_area": null,
            "grid_auto_columns": null,
            "grid_auto_flow": null,
            "grid_auto_rows": null,
            "grid_column": null,
            "grid_gap": null,
            "grid_row": null,
            "grid_template_areas": null,
            "grid_template_columns": null,
            "grid_template_rows": null,
            "height": null,
            "justify_content": null,
            "justify_items": null,
            "left": null,
            "margin": null,
            "max_height": null,
            "max_width": null,
            "min_height": null,
            "min_width": null,
            "object_fit": null,
            "object_position": null,
            "order": null,
            "overflow": null,
            "overflow_x": null,
            "overflow_y": null,
            "padding": null,
            "right": null,
            "top": null,
            "visibility": null,
            "width": null
          }
        },
        "b7fdb6648d0349a7b52f9f0c5301fe53": {
          "model_module": "@jupyter-widgets/controls",
          "model_name": "DescriptionStyleModel",
          "model_module_version": "1.5.0",
          "state": {
            "_model_module": "@jupyter-widgets/controls",
            "_model_module_version": "1.5.0",
            "_model_name": "DescriptionStyleModel",
            "_view_count": null,
            "_view_module": "@jupyter-widgets/base",
            "_view_module_version": "1.2.0",
            "_view_name": "StyleView",
            "description_width": ""
          }
        },
        "776a002524254954b9ba95ff6fb90389": {
          "model_module": "@jupyter-widgets/base",
          "model_name": "LayoutModel",
          "model_module_version": "1.2.0",
          "state": {
            "_model_module": "@jupyter-widgets/base",
            "_model_module_version": "1.2.0",
            "_model_name": "LayoutModel",
            "_view_count": null,
            "_view_module": "@jupyter-widgets/base",
            "_view_module_version": "1.2.0",
            "_view_name": "LayoutView",
            "align_content": null,
            "align_items": null,
            "align_self": null,
            "border": null,
            "bottom": null,
            "display": null,
            "flex": null,
            "flex_flow": null,
            "grid_area": null,
            "grid_auto_columns": null,
            "grid_auto_flow": null,
            "grid_auto_rows": null,
            "grid_column": null,
            "grid_gap": null,
            "grid_row": null,
            "grid_template_areas": null,
            "grid_template_columns": null,
            "grid_template_rows": null,
            "height": null,
            "justify_content": null,
            "justify_items": null,
            "left": null,
            "margin": null,
            "max_height": null,
            "max_width": null,
            "min_height": null,
            "min_width": null,
            "object_fit": null,
            "object_position": null,
            "order": null,
            "overflow": null,
            "overflow_x": null,
            "overflow_y": null,
            "padding": null,
            "right": null,
            "top": null,
            "visibility": null,
            "width": null
          }
        },
        "95821c475ad64aad8f2620f7888a91cb": {
          "model_module": "@jupyter-widgets/controls",
          "model_name": "ProgressStyleModel",
          "model_module_version": "1.5.0",
          "state": {
            "_model_module": "@jupyter-widgets/controls",
            "_model_module_version": "1.5.0",
            "_model_name": "ProgressStyleModel",
            "_view_count": null,
            "_view_module": "@jupyter-widgets/base",
            "_view_module_version": "1.2.0",
            "_view_name": "StyleView",
            "bar_color": null,
            "description_width": ""
          }
        },
        "12584b09be8c44e19e1600032b4b3fd0": {
          "model_module": "@jupyter-widgets/base",
          "model_name": "LayoutModel",
          "model_module_version": "1.2.0",
          "state": {
            "_model_module": "@jupyter-widgets/base",
            "_model_module_version": "1.2.0",
            "_model_name": "LayoutModel",
            "_view_count": null,
            "_view_module": "@jupyter-widgets/base",
            "_view_module_version": "1.2.0",
            "_view_name": "LayoutView",
            "align_content": null,
            "align_items": null,
            "align_self": null,
            "border": null,
            "bottom": null,
            "display": null,
            "flex": null,
            "flex_flow": null,
            "grid_area": null,
            "grid_auto_columns": null,
            "grid_auto_flow": null,
            "grid_auto_rows": null,
            "grid_column": null,
            "grid_gap": null,
            "grid_row": null,
            "grid_template_areas": null,
            "grid_template_columns": null,
            "grid_template_rows": null,
            "height": null,
            "justify_content": null,
            "justify_items": null,
            "left": null,
            "margin": null,
            "max_height": null,
            "max_width": null,
            "min_height": null,
            "min_width": null,
            "object_fit": null,
            "object_position": null,
            "order": null,
            "overflow": null,
            "overflow_x": null,
            "overflow_y": null,
            "padding": null,
            "right": null,
            "top": null,
            "visibility": null,
            "width": null
          }
        },
        "ab64c8914d534a0da02736ee08b2de9b": {
          "model_module": "@jupyter-widgets/controls",
          "model_name": "DescriptionStyleModel",
          "model_module_version": "1.5.0",
          "state": {
            "_model_module": "@jupyter-widgets/controls",
            "_model_module_version": "1.5.0",
            "_model_name": "DescriptionStyleModel",
            "_view_count": null,
            "_view_module": "@jupyter-widgets/base",
            "_view_module_version": "1.2.0",
            "_view_name": "StyleView",
            "description_width": ""
          }
        },
        "38f31ffa412c4800ab922ce847f15452": {
          "model_module": "@jupyter-widgets/controls",
          "model_name": "HBoxModel",
          "model_module_version": "1.5.0",
          "state": {
            "_dom_classes": [],
            "_model_module": "@jupyter-widgets/controls",
            "_model_module_version": "1.5.0",
            "_model_name": "HBoxModel",
            "_view_count": null,
            "_view_module": "@jupyter-widgets/controls",
            "_view_module_version": "1.5.0",
            "_view_name": "HBoxView",
            "box_style": "",
            "children": [
              "IPY_MODEL_4385b6b9df51476fbba1028838215fab",
              "IPY_MODEL_330d6885d4ce48e996fa3f1927756155",
              "IPY_MODEL_1122a2d6aea04bf59b064431fbfee022"
            ],
            "layout": "IPY_MODEL_9cbf3a9172cd4780bcbcb4ea2d4c983f"
          }
        },
        "4385b6b9df51476fbba1028838215fab": {
          "model_module": "@jupyter-widgets/controls",
          "model_name": "HTMLModel",
          "model_module_version": "1.5.0",
          "state": {
            "_dom_classes": [],
            "_model_module": "@jupyter-widgets/controls",
            "_model_module_version": "1.5.0",
            "_model_name": "HTMLModel",
            "_view_count": null,
            "_view_module": "@jupyter-widgets/controls",
            "_view_module_version": "1.5.0",
            "_view_name": "HTMLView",
            "description": "",
            "description_tooltip": null,
            "layout": "IPY_MODEL_827ac8fd99b4489bb99e5a23d72f65ae",
            "placeholder": "​",
            "style": "IPY_MODEL_4f395f0158254a5a8df68df3205dd3ab",
            "value": "Generating train split: "
          }
        },
        "330d6885d4ce48e996fa3f1927756155": {
          "model_module": "@jupyter-widgets/controls",
          "model_name": "FloatProgressModel",
          "model_module_version": "1.5.0",
          "state": {
            "_dom_classes": [],
            "_model_module": "@jupyter-widgets/controls",
            "_model_module_version": "1.5.0",
            "_model_name": "FloatProgressModel",
            "_view_count": null,
            "_view_module": "@jupyter-widgets/controls",
            "_view_module_version": "1.5.0",
            "_view_name": "ProgressView",
            "bar_style": "success",
            "description": "",
            "description_tooltip": null,
            "layout": "IPY_MODEL_bd135ae73bec4c07879133f0c01899cb",
            "max": 1,
            "min": 0,
            "orientation": "horizontal",
            "style": "IPY_MODEL_04905eb952424a98a71a4f113ded5cf5",
            "value": 1
          }
        },
        "1122a2d6aea04bf59b064431fbfee022": {
          "model_module": "@jupyter-widgets/controls",
          "model_name": "HTMLModel",
          "model_module_version": "1.5.0",
          "state": {
            "_dom_classes": [],
            "_model_module": "@jupyter-widgets/controls",
            "_model_module_version": "1.5.0",
            "_model_name": "HTMLModel",
            "_view_count": null,
            "_view_module": "@jupyter-widgets/controls",
            "_view_module_version": "1.5.0",
            "_view_name": "HTMLView",
            "description": "",
            "description_tooltip": null,
            "layout": "IPY_MODEL_1c2b44d9a6414801b4298299212002a1",
            "placeholder": "​",
            "style": "IPY_MODEL_93c3438225d143708bb809627f3c5e1e",
            "value": " 2775/0 [00:00&lt;00:00, 31148.91 examples/s]"
          }
        },
        "9cbf3a9172cd4780bcbcb4ea2d4c983f": {
          "model_module": "@jupyter-widgets/base",
          "model_name": "LayoutModel",
          "model_module_version": "1.2.0",
          "state": {
            "_model_module": "@jupyter-widgets/base",
            "_model_module_version": "1.2.0",
            "_model_name": "LayoutModel",
            "_view_count": null,
            "_view_module": "@jupyter-widgets/base",
            "_view_module_version": "1.2.0",
            "_view_name": "LayoutView",
            "align_content": null,
            "align_items": null,
            "align_self": null,
            "border": null,
            "bottom": null,
            "display": null,
            "flex": null,
            "flex_flow": null,
            "grid_area": null,
            "grid_auto_columns": null,
            "grid_auto_flow": null,
            "grid_auto_rows": null,
            "grid_column": null,
            "grid_gap": null,
            "grid_row": null,
            "grid_template_areas": null,
            "grid_template_columns": null,
            "grid_template_rows": null,
            "height": null,
            "justify_content": null,
            "justify_items": null,
            "left": null,
            "margin": null,
            "max_height": null,
            "max_width": null,
            "min_height": null,
            "min_width": null,
            "object_fit": null,
            "object_position": null,
            "order": null,
            "overflow": null,
            "overflow_x": null,
            "overflow_y": null,
            "padding": null,
            "right": null,
            "top": null,
            "visibility": null,
            "width": null
          }
        },
        "827ac8fd99b4489bb99e5a23d72f65ae": {
          "model_module": "@jupyter-widgets/base",
          "model_name": "LayoutModel",
          "model_module_version": "1.2.0",
          "state": {
            "_model_module": "@jupyter-widgets/base",
            "_model_module_version": "1.2.0",
            "_model_name": "LayoutModel",
            "_view_count": null,
            "_view_module": "@jupyter-widgets/base",
            "_view_module_version": "1.2.0",
            "_view_name": "LayoutView",
            "align_content": null,
            "align_items": null,
            "align_self": null,
            "border": null,
            "bottom": null,
            "display": null,
            "flex": null,
            "flex_flow": null,
            "grid_area": null,
            "grid_auto_columns": null,
            "grid_auto_flow": null,
            "grid_auto_rows": null,
            "grid_column": null,
            "grid_gap": null,
            "grid_row": null,
            "grid_template_areas": null,
            "grid_template_columns": null,
            "grid_template_rows": null,
            "height": null,
            "justify_content": null,
            "justify_items": null,
            "left": null,
            "margin": null,
            "max_height": null,
            "max_width": null,
            "min_height": null,
            "min_width": null,
            "object_fit": null,
            "object_position": null,
            "order": null,
            "overflow": null,
            "overflow_x": null,
            "overflow_y": null,
            "padding": null,
            "right": null,
            "top": null,
            "visibility": null,
            "width": null
          }
        },
        "4f395f0158254a5a8df68df3205dd3ab": {
          "model_module": "@jupyter-widgets/controls",
          "model_name": "DescriptionStyleModel",
          "model_module_version": "1.5.0",
          "state": {
            "_model_module": "@jupyter-widgets/controls",
            "_model_module_version": "1.5.0",
            "_model_name": "DescriptionStyleModel",
            "_view_count": null,
            "_view_module": "@jupyter-widgets/base",
            "_view_module_version": "1.2.0",
            "_view_name": "StyleView",
            "description_width": ""
          }
        },
        "bd135ae73bec4c07879133f0c01899cb": {
          "model_module": "@jupyter-widgets/base",
          "model_name": "LayoutModel",
          "model_module_version": "1.2.0",
          "state": {
            "_model_module": "@jupyter-widgets/base",
            "_model_module_version": "1.2.0",
            "_model_name": "LayoutModel",
            "_view_count": null,
            "_view_module": "@jupyter-widgets/base",
            "_view_module_version": "1.2.0",
            "_view_name": "LayoutView",
            "align_content": null,
            "align_items": null,
            "align_self": null,
            "border": null,
            "bottom": null,
            "display": null,
            "flex": null,
            "flex_flow": null,
            "grid_area": null,
            "grid_auto_columns": null,
            "grid_auto_flow": null,
            "grid_auto_rows": null,
            "grid_column": null,
            "grid_gap": null,
            "grid_row": null,
            "grid_template_areas": null,
            "grid_template_columns": null,
            "grid_template_rows": null,
            "height": null,
            "justify_content": null,
            "justify_items": null,
            "left": null,
            "margin": null,
            "max_height": null,
            "max_width": null,
            "min_height": null,
            "min_width": null,
            "object_fit": null,
            "object_position": null,
            "order": null,
            "overflow": null,
            "overflow_x": null,
            "overflow_y": null,
            "padding": null,
            "right": null,
            "top": null,
            "visibility": null,
            "width": "20px"
          }
        },
        "04905eb952424a98a71a4f113ded5cf5": {
          "model_module": "@jupyter-widgets/controls",
          "model_name": "ProgressStyleModel",
          "model_module_version": "1.5.0",
          "state": {
            "_model_module": "@jupyter-widgets/controls",
            "_model_module_version": "1.5.0",
            "_model_name": "ProgressStyleModel",
            "_view_count": null,
            "_view_module": "@jupyter-widgets/base",
            "_view_module_version": "1.2.0",
            "_view_name": "StyleView",
            "bar_color": null,
            "description_width": ""
          }
        },
        "1c2b44d9a6414801b4298299212002a1": {
          "model_module": "@jupyter-widgets/base",
          "model_name": "LayoutModel",
          "model_module_version": "1.2.0",
          "state": {
            "_model_module": "@jupyter-widgets/base",
            "_model_module_version": "1.2.0",
            "_model_name": "LayoutModel",
            "_view_count": null,
            "_view_module": "@jupyter-widgets/base",
            "_view_module_version": "1.2.0",
            "_view_name": "LayoutView",
            "align_content": null,
            "align_items": null,
            "align_self": null,
            "border": null,
            "bottom": null,
            "display": null,
            "flex": null,
            "flex_flow": null,
            "grid_area": null,
            "grid_auto_columns": null,
            "grid_auto_flow": null,
            "grid_auto_rows": null,
            "grid_column": null,
            "grid_gap": null,
            "grid_row": null,
            "grid_template_areas": null,
            "grid_template_columns": null,
            "grid_template_rows": null,
            "height": null,
            "justify_content": null,
            "justify_items": null,
            "left": null,
            "margin": null,
            "max_height": null,
            "max_width": null,
            "min_height": null,
            "min_width": null,
            "object_fit": null,
            "object_position": null,
            "order": null,
            "overflow": null,
            "overflow_x": null,
            "overflow_y": null,
            "padding": null,
            "right": null,
            "top": null,
            "visibility": null,
            "width": null
          }
        },
        "93c3438225d143708bb809627f3c5e1e": {
          "model_module": "@jupyter-widgets/controls",
          "model_name": "DescriptionStyleModel",
          "model_module_version": "1.5.0",
          "state": {
            "_model_module": "@jupyter-widgets/controls",
            "_model_module_version": "1.5.0",
            "_model_name": "DescriptionStyleModel",
            "_view_count": null,
            "_view_module": "@jupyter-widgets/base",
            "_view_module_version": "1.2.0",
            "_view_name": "StyleView",
            "description_width": ""
          }
        },
        "279f6220f668497e9c2cf3e6f0ad0dd7": {
          "model_module": "@jupyter-widgets/controls",
          "model_name": "HBoxModel",
          "model_module_version": "1.5.0",
          "state": {
            "_dom_classes": [],
            "_model_module": "@jupyter-widgets/controls",
            "_model_module_version": "1.5.0",
            "_model_name": "HBoxModel",
            "_view_count": null,
            "_view_module": "@jupyter-widgets/controls",
            "_view_module_version": "1.5.0",
            "_view_name": "HBoxView",
            "box_style": "",
            "children": [
              "IPY_MODEL_674d83ca446d4ef595dcd9920f8ff95f",
              "IPY_MODEL_b20a91df9ea44d5f88801db091b5f0be",
              "IPY_MODEL_288967835e664135b0c90346ddc339a0"
            ],
            "layout": "IPY_MODEL_0ee65c37ad664cb0b661f77f19614766"
          }
        },
        "674d83ca446d4ef595dcd9920f8ff95f": {
          "model_module": "@jupyter-widgets/controls",
          "model_name": "HTMLModel",
          "model_module_version": "1.5.0",
          "state": {
            "_dom_classes": [],
            "_model_module": "@jupyter-widgets/controls",
            "_model_module_version": "1.5.0",
            "_model_name": "HTMLModel",
            "_view_count": null,
            "_view_module": "@jupyter-widgets/controls",
            "_view_module_version": "1.5.0",
            "_view_name": "HTMLView",
            "description": "",
            "description_tooltip": null,
            "layout": "IPY_MODEL_d5aff8d2d80c42db9771c7f1e659cf69",
            "placeholder": "​",
            "style": "IPY_MODEL_f30c789672ca46009e335482c3aa2475",
            "value": "Map (num_proc=4): 100%"
          }
        },
        "b20a91df9ea44d5f88801db091b5f0be": {
          "model_module": "@jupyter-widgets/controls",
          "model_name": "FloatProgressModel",
          "model_module_version": "1.5.0",
          "state": {
            "_dom_classes": [],
            "_model_module": "@jupyter-widgets/controls",
            "_model_module_version": "1.5.0",
            "_model_name": "FloatProgressModel",
            "_view_count": null,
            "_view_module": "@jupyter-widgets/controls",
            "_view_module_version": "1.5.0",
            "_view_name": "ProgressView",
            "bar_style": "success",
            "description": "",
            "description_tooltip": null,
            "layout": "IPY_MODEL_a57535dc8c5d4374a3810e2cd0fbdd71",
            "max": 1000,
            "min": 0,
            "orientation": "horizontal",
            "style": "IPY_MODEL_a68be63d51d84e2e962cb73fc2abc1f0",
            "value": 1000
          }
        },
        "288967835e664135b0c90346ddc339a0": {
          "model_module": "@jupyter-widgets/controls",
          "model_name": "HTMLModel",
          "model_module_version": "1.5.0",
          "state": {
            "_dom_classes": [],
            "_model_module": "@jupyter-widgets/controls",
            "_model_module_version": "1.5.0",
            "_model_name": "HTMLModel",
            "_view_count": null,
            "_view_module": "@jupyter-widgets/controls",
            "_view_module_version": "1.5.0",
            "_view_name": "HTMLView",
            "description": "",
            "description_tooltip": null,
            "layout": "IPY_MODEL_263d4409696d417eaabf01f9ef30c958",
            "placeholder": "​",
            "style": "IPY_MODEL_06651acf05d04a97938f3dc740af3ddc",
            "value": " 1000/1000 [00:00&lt;00:00, 2469.44 examples/s]"
          }
        },
        "0ee65c37ad664cb0b661f77f19614766": {
          "model_module": "@jupyter-widgets/base",
          "model_name": "LayoutModel",
          "model_module_version": "1.2.0",
          "state": {
            "_model_module": "@jupyter-widgets/base",
            "_model_module_version": "1.2.0",
            "_model_name": "LayoutModel",
            "_view_count": null,
            "_view_module": "@jupyter-widgets/base",
            "_view_module_version": "1.2.0",
            "_view_name": "LayoutView",
            "align_content": null,
            "align_items": null,
            "align_self": null,
            "border": null,
            "bottom": null,
            "display": null,
            "flex": null,
            "flex_flow": null,
            "grid_area": null,
            "grid_auto_columns": null,
            "grid_auto_flow": null,
            "grid_auto_rows": null,
            "grid_column": null,
            "grid_gap": null,
            "grid_row": null,
            "grid_template_areas": null,
            "grid_template_columns": null,
            "grid_template_rows": null,
            "height": null,
            "justify_content": null,
            "justify_items": null,
            "left": null,
            "margin": null,
            "max_height": null,
            "max_width": null,
            "min_height": null,
            "min_width": null,
            "object_fit": null,
            "object_position": null,
            "order": null,
            "overflow": null,
            "overflow_x": null,
            "overflow_y": null,
            "padding": null,
            "right": null,
            "top": null,
            "visibility": null,
            "width": null
          }
        },
        "d5aff8d2d80c42db9771c7f1e659cf69": {
          "model_module": "@jupyter-widgets/base",
          "model_name": "LayoutModel",
          "model_module_version": "1.2.0",
          "state": {
            "_model_module": "@jupyter-widgets/base",
            "_model_module_version": "1.2.0",
            "_model_name": "LayoutModel",
            "_view_count": null,
            "_view_module": "@jupyter-widgets/base",
            "_view_module_version": "1.2.0",
            "_view_name": "LayoutView",
            "align_content": null,
            "align_items": null,
            "align_self": null,
            "border": null,
            "bottom": null,
            "display": null,
            "flex": null,
            "flex_flow": null,
            "grid_area": null,
            "grid_auto_columns": null,
            "grid_auto_flow": null,
            "grid_auto_rows": null,
            "grid_column": null,
            "grid_gap": null,
            "grid_row": null,
            "grid_template_areas": null,
            "grid_template_columns": null,
            "grid_template_rows": null,
            "height": null,
            "justify_content": null,
            "justify_items": null,
            "left": null,
            "margin": null,
            "max_height": null,
            "max_width": null,
            "min_height": null,
            "min_width": null,
            "object_fit": null,
            "object_position": null,
            "order": null,
            "overflow": null,
            "overflow_x": null,
            "overflow_y": null,
            "padding": null,
            "right": null,
            "top": null,
            "visibility": null,
            "width": null
          }
        },
        "f30c789672ca46009e335482c3aa2475": {
          "model_module": "@jupyter-widgets/controls",
          "model_name": "DescriptionStyleModel",
          "model_module_version": "1.5.0",
          "state": {
            "_model_module": "@jupyter-widgets/controls",
            "_model_module_version": "1.5.0",
            "_model_name": "DescriptionStyleModel",
            "_view_count": null,
            "_view_module": "@jupyter-widgets/base",
            "_view_module_version": "1.2.0",
            "_view_name": "StyleView",
            "description_width": ""
          }
        },
        "a57535dc8c5d4374a3810e2cd0fbdd71": {
          "model_module": "@jupyter-widgets/base",
          "model_name": "LayoutModel",
          "model_module_version": "1.2.0",
          "state": {
            "_model_module": "@jupyter-widgets/base",
            "_model_module_version": "1.2.0",
            "_model_name": "LayoutModel",
            "_view_count": null,
            "_view_module": "@jupyter-widgets/base",
            "_view_module_version": "1.2.0",
            "_view_name": "LayoutView",
            "align_content": null,
            "align_items": null,
            "align_self": null,
            "border": null,
            "bottom": null,
            "display": null,
            "flex": null,
            "flex_flow": null,
            "grid_area": null,
            "grid_auto_columns": null,
            "grid_auto_flow": null,
            "grid_auto_rows": null,
            "grid_column": null,
            "grid_gap": null,
            "grid_row": null,
            "grid_template_areas": null,
            "grid_template_columns": null,
            "grid_template_rows": null,
            "height": null,
            "justify_content": null,
            "justify_items": null,
            "left": null,
            "margin": null,
            "max_height": null,
            "max_width": null,
            "min_height": null,
            "min_width": null,
            "object_fit": null,
            "object_position": null,
            "order": null,
            "overflow": null,
            "overflow_x": null,
            "overflow_y": null,
            "padding": null,
            "right": null,
            "top": null,
            "visibility": null,
            "width": null
          }
        },
        "a68be63d51d84e2e962cb73fc2abc1f0": {
          "model_module": "@jupyter-widgets/controls",
          "model_name": "ProgressStyleModel",
          "model_module_version": "1.5.0",
          "state": {
            "_model_module": "@jupyter-widgets/controls",
            "_model_module_version": "1.5.0",
            "_model_name": "ProgressStyleModel",
            "_view_count": null,
            "_view_module": "@jupyter-widgets/base",
            "_view_module_version": "1.2.0",
            "_view_name": "StyleView",
            "bar_color": null,
            "description_width": ""
          }
        },
        "263d4409696d417eaabf01f9ef30c958": {
          "model_module": "@jupyter-widgets/base",
          "model_name": "LayoutModel",
          "model_module_version": "1.2.0",
          "state": {
            "_model_module": "@jupyter-widgets/base",
            "_model_module_version": "1.2.0",
            "_model_name": "LayoutModel",
            "_view_count": null,
            "_view_module": "@jupyter-widgets/base",
            "_view_module_version": "1.2.0",
            "_view_name": "LayoutView",
            "align_content": null,
            "align_items": null,
            "align_self": null,
            "border": null,
            "bottom": null,
            "display": null,
            "flex": null,
            "flex_flow": null,
            "grid_area": null,
            "grid_auto_columns": null,
            "grid_auto_flow": null,
            "grid_auto_rows": null,
            "grid_column": null,
            "grid_gap": null,
            "grid_row": null,
            "grid_template_areas": null,
            "grid_template_columns": null,
            "grid_template_rows": null,
            "height": null,
            "justify_content": null,
            "justify_items": null,
            "left": null,
            "margin": null,
            "max_height": null,
            "max_width": null,
            "min_height": null,
            "min_width": null,
            "object_fit": null,
            "object_position": null,
            "order": null,
            "overflow": null,
            "overflow_x": null,
            "overflow_y": null,
            "padding": null,
            "right": null,
            "top": null,
            "visibility": null,
            "width": null
          }
        },
        "06651acf05d04a97938f3dc740af3ddc": {
          "model_module": "@jupyter-widgets/controls",
          "model_name": "DescriptionStyleModel",
          "model_module_version": "1.5.0",
          "state": {
            "_model_module": "@jupyter-widgets/controls",
            "_model_module_version": "1.5.0",
            "_model_name": "DescriptionStyleModel",
            "_view_count": null,
            "_view_module": "@jupyter-widgets/base",
            "_view_module_version": "1.2.0",
            "_view_name": "StyleView",
            "description_width": ""
          }
        },
        "307b6b218289437fb13d70613940c587": {
          "model_module": "@jupyter-widgets/controls",
          "model_name": "HBoxModel",
          "model_module_version": "1.5.0",
          "state": {
            "_dom_classes": [],
            "_model_module": "@jupyter-widgets/controls",
            "_model_module_version": "1.5.0",
            "_model_name": "HBoxModel",
            "_view_count": null,
            "_view_module": "@jupyter-widgets/controls",
            "_view_module_version": "1.5.0",
            "_view_name": "HBoxView",
            "box_style": "",
            "children": [
              "IPY_MODEL_de77c7a8e0e741f08811f84b268828dc",
              "IPY_MODEL_77266d4af88149ffb3ade596b0853754",
              "IPY_MODEL_7b75e188cd534014a97e4dd69666b3e7"
            ],
            "layout": "IPY_MODEL_e8f5057bae94491f8ef83f21cd1c81a0"
          }
        },
        "de77c7a8e0e741f08811f84b268828dc": {
          "model_module": "@jupyter-widgets/controls",
          "model_name": "HTMLModel",
          "model_module_version": "1.5.0",
          "state": {
            "_dom_classes": [],
            "_model_module": "@jupyter-widgets/controls",
            "_model_module_version": "1.5.0",
            "_model_name": "HTMLModel",
            "_view_count": null,
            "_view_module": "@jupyter-widgets/controls",
            "_view_module_version": "1.5.0",
            "_view_name": "HTMLView",
            "description": "",
            "description_tooltip": null,
            "layout": "IPY_MODEL_ee05a8b174c945e8a8a7ed5e5246e270",
            "placeholder": "​",
            "style": "IPY_MODEL_25138ed308164b6da8ce62dcca6ab248",
            "value": "Map: 100%"
          }
        },
        "77266d4af88149ffb3ade596b0853754": {
          "model_module": "@jupyter-widgets/controls",
          "model_name": "FloatProgressModel",
          "model_module_version": "1.5.0",
          "state": {
            "_dom_classes": [],
            "_model_module": "@jupyter-widgets/controls",
            "_model_module_version": "1.5.0",
            "_model_name": "FloatProgressModel",
            "_view_count": null,
            "_view_module": "@jupyter-widgets/controls",
            "_view_module_version": "1.5.0",
            "_view_name": "ProgressView",
            "bar_style": "success",
            "description": "",
            "description_tooltip": null,
            "layout": "IPY_MODEL_f801c3055c20412ebbd1042f9bcd13f3",
            "max": 900,
            "min": 0,
            "orientation": "horizontal",
            "style": "IPY_MODEL_617b144014cc40f795b6c9a625131667",
            "value": 900
          }
        },
        "7b75e188cd534014a97e4dd69666b3e7": {
          "model_module": "@jupyter-widgets/controls",
          "model_name": "HTMLModel",
          "model_module_version": "1.5.0",
          "state": {
            "_dom_classes": [],
            "_model_module": "@jupyter-widgets/controls",
            "_model_module_version": "1.5.0",
            "_model_name": "HTMLModel",
            "_view_count": null,
            "_view_module": "@jupyter-widgets/controls",
            "_view_module_version": "1.5.0",
            "_view_name": "HTMLView",
            "description": "",
            "description_tooltip": null,
            "layout": "IPY_MODEL_e203cbb5648042c2ad652bf3fcc16bec",
            "placeholder": "​",
            "style": "IPY_MODEL_82b4f704534c48039bb7c407bcbc7277",
            "value": " 900/900 [00:01&lt;00:00, 777.51 examples/s]"
          }
        },
        "e8f5057bae94491f8ef83f21cd1c81a0": {
          "model_module": "@jupyter-widgets/base",
          "model_name": "LayoutModel",
          "model_module_version": "1.2.0",
          "state": {
            "_model_module": "@jupyter-widgets/base",
            "_model_module_version": "1.2.0",
            "_model_name": "LayoutModel",
            "_view_count": null,
            "_view_module": "@jupyter-widgets/base",
            "_view_module_version": "1.2.0",
            "_view_name": "LayoutView",
            "align_content": null,
            "align_items": null,
            "align_self": null,
            "border": null,
            "bottom": null,
            "display": null,
            "flex": null,
            "flex_flow": null,
            "grid_area": null,
            "grid_auto_columns": null,
            "grid_auto_flow": null,
            "grid_auto_rows": null,
            "grid_column": null,
            "grid_gap": null,
            "grid_row": null,
            "grid_template_areas": null,
            "grid_template_columns": null,
            "grid_template_rows": null,
            "height": null,
            "justify_content": null,
            "justify_items": null,
            "left": null,
            "margin": null,
            "max_height": null,
            "max_width": null,
            "min_height": null,
            "min_width": null,
            "object_fit": null,
            "object_position": null,
            "order": null,
            "overflow": null,
            "overflow_x": null,
            "overflow_y": null,
            "padding": null,
            "right": null,
            "top": null,
            "visibility": null,
            "width": null
          }
        },
        "ee05a8b174c945e8a8a7ed5e5246e270": {
          "model_module": "@jupyter-widgets/base",
          "model_name": "LayoutModel",
          "model_module_version": "1.2.0",
          "state": {
            "_model_module": "@jupyter-widgets/base",
            "_model_module_version": "1.2.0",
            "_model_name": "LayoutModel",
            "_view_count": null,
            "_view_module": "@jupyter-widgets/base",
            "_view_module_version": "1.2.0",
            "_view_name": "LayoutView",
            "align_content": null,
            "align_items": null,
            "align_self": null,
            "border": null,
            "bottom": null,
            "display": null,
            "flex": null,
            "flex_flow": null,
            "grid_area": null,
            "grid_auto_columns": null,
            "grid_auto_flow": null,
            "grid_auto_rows": null,
            "grid_column": null,
            "grid_gap": null,
            "grid_row": null,
            "grid_template_areas": null,
            "grid_template_columns": null,
            "grid_template_rows": null,
            "height": null,
            "justify_content": null,
            "justify_items": null,
            "left": null,
            "margin": null,
            "max_height": null,
            "max_width": null,
            "min_height": null,
            "min_width": null,
            "object_fit": null,
            "object_position": null,
            "order": null,
            "overflow": null,
            "overflow_x": null,
            "overflow_y": null,
            "padding": null,
            "right": null,
            "top": null,
            "visibility": null,
            "width": null
          }
        },
        "25138ed308164b6da8ce62dcca6ab248": {
          "model_module": "@jupyter-widgets/controls",
          "model_name": "DescriptionStyleModel",
          "model_module_version": "1.5.0",
          "state": {
            "_model_module": "@jupyter-widgets/controls",
            "_model_module_version": "1.5.0",
            "_model_name": "DescriptionStyleModel",
            "_view_count": null,
            "_view_module": "@jupyter-widgets/base",
            "_view_module_version": "1.2.0",
            "_view_name": "StyleView",
            "description_width": ""
          }
        },
        "f801c3055c20412ebbd1042f9bcd13f3": {
          "model_module": "@jupyter-widgets/base",
          "model_name": "LayoutModel",
          "model_module_version": "1.2.0",
          "state": {
            "_model_module": "@jupyter-widgets/base",
            "_model_module_version": "1.2.0",
            "_model_name": "LayoutModel",
            "_view_count": null,
            "_view_module": "@jupyter-widgets/base",
            "_view_module_version": "1.2.0",
            "_view_name": "LayoutView",
            "align_content": null,
            "align_items": null,
            "align_self": null,
            "border": null,
            "bottom": null,
            "display": null,
            "flex": null,
            "flex_flow": null,
            "grid_area": null,
            "grid_auto_columns": null,
            "grid_auto_flow": null,
            "grid_auto_rows": null,
            "grid_column": null,
            "grid_gap": null,
            "grid_row": null,
            "grid_template_areas": null,
            "grid_template_columns": null,
            "grid_template_rows": null,
            "height": null,
            "justify_content": null,
            "justify_items": null,
            "left": null,
            "margin": null,
            "max_height": null,
            "max_width": null,
            "min_height": null,
            "min_width": null,
            "object_fit": null,
            "object_position": null,
            "order": null,
            "overflow": null,
            "overflow_x": null,
            "overflow_y": null,
            "padding": null,
            "right": null,
            "top": null,
            "visibility": null,
            "width": null
          }
        },
        "617b144014cc40f795b6c9a625131667": {
          "model_module": "@jupyter-widgets/controls",
          "model_name": "ProgressStyleModel",
          "model_module_version": "1.5.0",
          "state": {
            "_model_module": "@jupyter-widgets/controls",
            "_model_module_version": "1.5.0",
            "_model_name": "ProgressStyleModel",
            "_view_count": null,
            "_view_module": "@jupyter-widgets/base",
            "_view_module_version": "1.2.0",
            "_view_name": "StyleView",
            "bar_color": null,
            "description_width": ""
          }
        },
        "e203cbb5648042c2ad652bf3fcc16bec": {
          "model_module": "@jupyter-widgets/base",
          "model_name": "LayoutModel",
          "model_module_version": "1.2.0",
          "state": {
            "_model_module": "@jupyter-widgets/base",
            "_model_module_version": "1.2.0",
            "_model_name": "LayoutModel",
            "_view_count": null,
            "_view_module": "@jupyter-widgets/base",
            "_view_module_version": "1.2.0",
            "_view_name": "LayoutView",
            "align_content": null,
            "align_items": null,
            "align_self": null,
            "border": null,
            "bottom": null,
            "display": null,
            "flex": null,
            "flex_flow": null,
            "grid_area": null,
            "grid_auto_columns": null,
            "grid_auto_flow": null,
            "grid_auto_rows": null,
            "grid_column": null,
            "grid_gap": null,
            "grid_row": null,
            "grid_template_areas": null,
            "grid_template_columns": null,
            "grid_template_rows": null,
            "height": null,
            "justify_content": null,
            "justify_items": null,
            "left": null,
            "margin": null,
            "max_height": null,
            "max_width": null,
            "min_height": null,
            "min_width": null,
            "object_fit": null,
            "object_position": null,
            "order": null,
            "overflow": null,
            "overflow_x": null,
            "overflow_y": null,
            "padding": null,
            "right": null,
            "top": null,
            "visibility": null,
            "width": null
          }
        },
        "82b4f704534c48039bb7c407bcbc7277": {
          "model_module": "@jupyter-widgets/controls",
          "model_name": "DescriptionStyleModel",
          "model_module_version": "1.5.0",
          "state": {
            "_model_module": "@jupyter-widgets/controls",
            "_model_module_version": "1.5.0",
            "_model_name": "DescriptionStyleModel",
            "_view_count": null,
            "_view_module": "@jupyter-widgets/base",
            "_view_module_version": "1.2.0",
            "_view_name": "StyleView",
            "description_width": ""
          }
        },
        "c21565df7cfd4385b0e4a3554552f6a6": {
          "model_module": "@jupyter-widgets/controls",
          "model_name": "HBoxModel",
          "model_module_version": "1.5.0",
          "state": {
            "_dom_classes": [],
            "_model_module": "@jupyter-widgets/controls",
            "_model_module_version": "1.5.0",
            "_model_name": "HBoxModel",
            "_view_count": null,
            "_view_module": "@jupyter-widgets/controls",
            "_view_module_version": "1.5.0",
            "_view_name": "HBoxView",
            "box_style": "",
            "children": [
              "IPY_MODEL_8418a116bfab4c3895699fc55e53d103",
              "IPY_MODEL_912439ea108c4256908f19a65cdc378a",
              "IPY_MODEL_dc7673f8d8814f509725cd43bdea7ba2"
            ],
            "layout": "IPY_MODEL_084a8e914e5f43ba95e41fb3bf5cff77"
          }
        },
        "8418a116bfab4c3895699fc55e53d103": {
          "model_module": "@jupyter-widgets/controls",
          "model_name": "HTMLModel",
          "model_module_version": "1.5.0",
          "state": {
            "_dom_classes": [],
            "_model_module": "@jupyter-widgets/controls",
            "_model_module_version": "1.5.0",
            "_model_name": "HTMLModel",
            "_view_count": null,
            "_view_module": "@jupyter-widgets/controls",
            "_view_module_version": "1.5.0",
            "_view_name": "HTMLView",
            "description": "",
            "description_tooltip": null,
            "layout": "IPY_MODEL_f20dda15370e4d5ab073a33162addc11",
            "placeholder": "​",
            "style": "IPY_MODEL_482a85da8dfc4dc38de2002a8ede06d8",
            "value": "Map: 100%"
          }
        },
        "912439ea108c4256908f19a65cdc378a": {
          "model_module": "@jupyter-widgets/controls",
          "model_name": "FloatProgressModel",
          "model_module_version": "1.5.0",
          "state": {
            "_dom_classes": [],
            "_model_module": "@jupyter-widgets/controls",
            "_model_module_version": "1.5.0",
            "_model_name": "FloatProgressModel",
            "_view_count": null,
            "_view_module": "@jupyter-widgets/controls",
            "_view_module_version": "1.5.0",
            "_view_name": "ProgressView",
            "bar_style": "success",
            "description": "",
            "description_tooltip": null,
            "layout": "IPY_MODEL_e6983c1ee7754d17b93dc2a07d3e201e",
            "max": 100,
            "min": 0,
            "orientation": "horizontal",
            "style": "IPY_MODEL_2962f12d915c46bbbe527b36b4b9e73e",
            "value": 100
          }
        },
        "dc7673f8d8814f509725cd43bdea7ba2": {
          "model_module": "@jupyter-widgets/controls",
          "model_name": "HTMLModel",
          "model_module_version": "1.5.0",
          "state": {
            "_dom_classes": [],
            "_model_module": "@jupyter-widgets/controls",
            "_model_module_version": "1.5.0",
            "_model_name": "HTMLModel",
            "_view_count": null,
            "_view_module": "@jupyter-widgets/controls",
            "_view_module_version": "1.5.0",
            "_view_name": "HTMLView",
            "description": "",
            "description_tooltip": null,
            "layout": "IPY_MODEL_849dbfa3a90442ffbc6beb6ba62976bd",
            "placeholder": "​",
            "style": "IPY_MODEL_0fa2bf371d0d4350b8eb7d5c808a3142",
            "value": " 100/100 [00:00&lt;00:00, 733.43 examples/s]"
          }
        },
        "084a8e914e5f43ba95e41fb3bf5cff77": {
          "model_module": "@jupyter-widgets/base",
          "model_name": "LayoutModel",
          "model_module_version": "1.2.0",
          "state": {
            "_model_module": "@jupyter-widgets/base",
            "_model_module_version": "1.2.0",
            "_model_name": "LayoutModel",
            "_view_count": null,
            "_view_module": "@jupyter-widgets/base",
            "_view_module_version": "1.2.0",
            "_view_name": "LayoutView",
            "align_content": null,
            "align_items": null,
            "align_self": null,
            "border": null,
            "bottom": null,
            "display": null,
            "flex": null,
            "flex_flow": null,
            "grid_area": null,
            "grid_auto_columns": null,
            "grid_auto_flow": null,
            "grid_auto_rows": null,
            "grid_column": null,
            "grid_gap": null,
            "grid_row": null,
            "grid_template_areas": null,
            "grid_template_columns": null,
            "grid_template_rows": null,
            "height": null,
            "justify_content": null,
            "justify_items": null,
            "left": null,
            "margin": null,
            "max_height": null,
            "max_width": null,
            "min_height": null,
            "min_width": null,
            "object_fit": null,
            "object_position": null,
            "order": null,
            "overflow": null,
            "overflow_x": null,
            "overflow_y": null,
            "padding": null,
            "right": null,
            "top": null,
            "visibility": null,
            "width": null
          }
        },
        "f20dda15370e4d5ab073a33162addc11": {
          "model_module": "@jupyter-widgets/base",
          "model_name": "LayoutModel",
          "model_module_version": "1.2.0",
          "state": {
            "_model_module": "@jupyter-widgets/base",
            "_model_module_version": "1.2.0",
            "_model_name": "LayoutModel",
            "_view_count": null,
            "_view_module": "@jupyter-widgets/base",
            "_view_module_version": "1.2.0",
            "_view_name": "LayoutView",
            "align_content": null,
            "align_items": null,
            "align_self": null,
            "border": null,
            "bottom": null,
            "display": null,
            "flex": null,
            "flex_flow": null,
            "grid_area": null,
            "grid_auto_columns": null,
            "grid_auto_flow": null,
            "grid_auto_rows": null,
            "grid_column": null,
            "grid_gap": null,
            "grid_row": null,
            "grid_template_areas": null,
            "grid_template_columns": null,
            "grid_template_rows": null,
            "height": null,
            "justify_content": null,
            "justify_items": null,
            "left": null,
            "margin": null,
            "max_height": null,
            "max_width": null,
            "min_height": null,
            "min_width": null,
            "object_fit": null,
            "object_position": null,
            "order": null,
            "overflow": null,
            "overflow_x": null,
            "overflow_y": null,
            "padding": null,
            "right": null,
            "top": null,
            "visibility": null,
            "width": null
          }
        },
        "482a85da8dfc4dc38de2002a8ede06d8": {
          "model_module": "@jupyter-widgets/controls",
          "model_name": "DescriptionStyleModel",
          "model_module_version": "1.5.0",
          "state": {
            "_model_module": "@jupyter-widgets/controls",
            "_model_module_version": "1.5.0",
            "_model_name": "DescriptionStyleModel",
            "_view_count": null,
            "_view_module": "@jupyter-widgets/base",
            "_view_module_version": "1.2.0",
            "_view_name": "StyleView",
            "description_width": ""
          }
        },
        "e6983c1ee7754d17b93dc2a07d3e201e": {
          "model_module": "@jupyter-widgets/base",
          "model_name": "LayoutModel",
          "model_module_version": "1.2.0",
          "state": {
            "_model_module": "@jupyter-widgets/base",
            "_model_module_version": "1.2.0",
            "_model_name": "LayoutModel",
            "_view_count": null,
            "_view_module": "@jupyter-widgets/base",
            "_view_module_version": "1.2.0",
            "_view_name": "LayoutView",
            "align_content": null,
            "align_items": null,
            "align_self": null,
            "border": null,
            "bottom": null,
            "display": null,
            "flex": null,
            "flex_flow": null,
            "grid_area": null,
            "grid_auto_columns": null,
            "grid_auto_flow": null,
            "grid_auto_rows": null,
            "grid_column": null,
            "grid_gap": null,
            "grid_row": null,
            "grid_template_areas": null,
            "grid_template_columns": null,
            "grid_template_rows": null,
            "height": null,
            "justify_content": null,
            "justify_items": null,
            "left": null,
            "margin": null,
            "max_height": null,
            "max_width": null,
            "min_height": null,
            "min_width": null,
            "object_fit": null,
            "object_position": null,
            "order": null,
            "overflow": null,
            "overflow_x": null,
            "overflow_y": null,
            "padding": null,
            "right": null,
            "top": null,
            "visibility": null,
            "width": null
          }
        },
        "2962f12d915c46bbbe527b36b4b9e73e": {
          "model_module": "@jupyter-widgets/controls",
          "model_name": "ProgressStyleModel",
          "model_module_version": "1.5.0",
          "state": {
            "_model_module": "@jupyter-widgets/controls",
            "_model_module_version": "1.5.0",
            "_model_name": "ProgressStyleModel",
            "_view_count": null,
            "_view_module": "@jupyter-widgets/base",
            "_view_module_version": "1.2.0",
            "_view_name": "StyleView",
            "bar_color": null,
            "description_width": ""
          }
        },
        "849dbfa3a90442ffbc6beb6ba62976bd": {
          "model_module": "@jupyter-widgets/base",
          "model_name": "LayoutModel",
          "model_module_version": "1.2.0",
          "state": {
            "_model_module": "@jupyter-widgets/base",
            "_model_module_version": "1.2.0",
            "_model_name": "LayoutModel",
            "_view_count": null,
            "_view_module": "@jupyter-widgets/base",
            "_view_module_version": "1.2.0",
            "_view_name": "LayoutView",
            "align_content": null,
            "align_items": null,
            "align_self": null,
            "border": null,
            "bottom": null,
            "display": null,
            "flex": null,
            "flex_flow": null,
            "grid_area": null,
            "grid_auto_columns": null,
            "grid_auto_flow": null,
            "grid_auto_rows": null,
            "grid_column": null,
            "grid_gap": null,
            "grid_row": null,
            "grid_template_areas": null,
            "grid_template_columns": null,
            "grid_template_rows": null,
            "height": null,
            "justify_content": null,
            "justify_items": null,
            "left": null,
            "margin": null,
            "max_height": null,
            "max_width": null,
            "min_height": null,
            "min_width": null,
            "object_fit": null,
            "object_position": null,
            "order": null,
            "overflow": null,
            "overflow_x": null,
            "overflow_y": null,
            "padding": null,
            "right": null,
            "top": null,
            "visibility": null,
            "width": null
          }
        },
        "0fa2bf371d0d4350b8eb7d5c808a3142": {
          "model_module": "@jupyter-widgets/controls",
          "model_name": "DescriptionStyleModel",
          "model_module_version": "1.5.0",
          "state": {
            "_model_module": "@jupyter-widgets/controls",
            "_model_module_version": "1.5.0",
            "_model_name": "DescriptionStyleModel",
            "_view_count": null,
            "_view_module": "@jupyter-widgets/base",
            "_view_module_version": "1.2.0",
            "_view_name": "StyleView",
            "description_width": ""
          }
        },
        "b2c165e2c28a4a0a819d5077894f50c2": {
          "model_module": "@jupyter-widgets/controls",
          "model_name": "HBoxModel",
          "model_module_version": "1.5.0",
          "state": {
            "_dom_classes": [],
            "_model_module": "@jupyter-widgets/controls",
            "_model_module_version": "1.5.0",
            "_model_name": "HBoxModel",
            "_view_count": null,
            "_view_module": "@jupyter-widgets/controls",
            "_view_module_version": "1.5.0",
            "_view_name": "HBoxView",
            "box_style": "",
            "children": [
              "IPY_MODEL_b84a9d707fbe4ce387847f93de10c201",
              "IPY_MODEL_acc3bb9cf0ad439db79be357d24ed941",
              "IPY_MODEL_af654f968cef48dcae56df4bd36b4203"
            ],
            "layout": "IPY_MODEL_4a5052896baa4c7eadd902fbcfa358a6"
          }
        },
        "b84a9d707fbe4ce387847f93de10c201": {
          "model_module": "@jupyter-widgets/controls",
          "model_name": "HTMLModel",
          "model_module_version": "1.5.0",
          "state": {
            "_dom_classes": [],
            "_model_module": "@jupyter-widgets/controls",
            "_model_module_version": "1.5.0",
            "_model_name": "HTMLModel",
            "_view_count": null,
            "_view_module": "@jupyter-widgets/controls",
            "_view_module_version": "1.5.0",
            "_view_name": "HTMLView",
            "description": "",
            "description_tooltip": null,
            "layout": "IPY_MODEL_e603ded6c08943bd90355246720da3d7",
            "placeholder": "​",
            "style": "IPY_MODEL_457efa0075ff4108a88a8b6635bf861d",
            "value": "adapter_model.safetensors: 100%"
          }
        },
        "acc3bb9cf0ad439db79be357d24ed941": {
          "model_module": "@jupyter-widgets/controls",
          "model_name": "FloatProgressModel",
          "model_module_version": "1.5.0",
          "state": {
            "_dom_classes": [],
            "_model_module": "@jupyter-widgets/controls",
            "_model_module_version": "1.5.0",
            "_model_name": "FloatProgressModel",
            "_view_count": null,
            "_view_module": "@jupyter-widgets/controls",
            "_view_module_version": "1.5.0",
            "_view_name": "ProgressView",
            "bar_style": "success",
            "description": "",
            "description_tooltip": null,
            "layout": "IPY_MODEL_2006a344ad30488798ed7530c35535c1",
            "max": 313820248,
            "min": 0,
            "orientation": "horizontal",
            "style": "IPY_MODEL_57967c787f8f47fab07c512dce98c886",
            "value": 313820248
          }
        },
        "af654f968cef48dcae56df4bd36b4203": {
          "model_module": "@jupyter-widgets/controls",
          "model_name": "HTMLModel",
          "model_module_version": "1.5.0",
          "state": {
            "_dom_classes": [],
            "_model_module": "@jupyter-widgets/controls",
            "_model_module_version": "1.5.0",
            "_model_name": "HTMLModel",
            "_view_count": null,
            "_view_module": "@jupyter-widgets/controls",
            "_view_module_version": "1.5.0",
            "_view_name": "HTMLView",
            "description": "",
            "description_tooltip": null,
            "layout": "IPY_MODEL_69a9ace8d6a647f7a1eced5c95460764",
            "placeholder": "​",
            "style": "IPY_MODEL_66f7418df469476e9116d07e9046190a",
            "value": " 314M/314M [00:06&lt;00:00, 44.8MB/s]"
          }
        },
        "4a5052896baa4c7eadd902fbcfa358a6": {
          "model_module": "@jupyter-widgets/base",
          "model_name": "LayoutModel",
          "model_module_version": "1.2.0",
          "state": {
            "_model_module": "@jupyter-widgets/base",
            "_model_module_version": "1.2.0",
            "_model_name": "LayoutModel",
            "_view_count": null,
            "_view_module": "@jupyter-widgets/base",
            "_view_module_version": "1.2.0",
            "_view_name": "LayoutView",
            "align_content": null,
            "align_items": null,
            "align_self": null,
            "border": null,
            "bottom": null,
            "display": null,
            "flex": null,
            "flex_flow": null,
            "grid_area": null,
            "grid_auto_columns": null,
            "grid_auto_flow": null,
            "grid_auto_rows": null,
            "grid_column": null,
            "grid_gap": null,
            "grid_row": null,
            "grid_template_areas": null,
            "grid_template_columns": null,
            "grid_template_rows": null,
            "height": null,
            "justify_content": null,
            "justify_items": null,
            "left": null,
            "margin": null,
            "max_height": null,
            "max_width": null,
            "min_height": null,
            "min_width": null,
            "object_fit": null,
            "object_position": null,
            "order": null,
            "overflow": null,
            "overflow_x": null,
            "overflow_y": null,
            "padding": null,
            "right": null,
            "top": null,
            "visibility": null,
            "width": null
          }
        },
        "e603ded6c08943bd90355246720da3d7": {
          "model_module": "@jupyter-widgets/base",
          "model_name": "LayoutModel",
          "model_module_version": "1.2.0",
          "state": {
            "_model_module": "@jupyter-widgets/base",
            "_model_module_version": "1.2.0",
            "_model_name": "LayoutModel",
            "_view_count": null,
            "_view_module": "@jupyter-widgets/base",
            "_view_module_version": "1.2.0",
            "_view_name": "LayoutView",
            "align_content": null,
            "align_items": null,
            "align_self": null,
            "border": null,
            "bottom": null,
            "display": null,
            "flex": null,
            "flex_flow": null,
            "grid_area": null,
            "grid_auto_columns": null,
            "grid_auto_flow": null,
            "grid_auto_rows": null,
            "grid_column": null,
            "grid_gap": null,
            "grid_row": null,
            "grid_template_areas": null,
            "grid_template_columns": null,
            "grid_template_rows": null,
            "height": null,
            "justify_content": null,
            "justify_items": null,
            "left": null,
            "margin": null,
            "max_height": null,
            "max_width": null,
            "min_height": null,
            "min_width": null,
            "object_fit": null,
            "object_position": null,
            "order": null,
            "overflow": null,
            "overflow_x": null,
            "overflow_y": null,
            "padding": null,
            "right": null,
            "top": null,
            "visibility": null,
            "width": null
          }
        },
        "457efa0075ff4108a88a8b6635bf861d": {
          "model_module": "@jupyter-widgets/controls",
          "model_name": "DescriptionStyleModel",
          "model_module_version": "1.5.0",
          "state": {
            "_model_module": "@jupyter-widgets/controls",
            "_model_module_version": "1.5.0",
            "_model_name": "DescriptionStyleModel",
            "_view_count": null,
            "_view_module": "@jupyter-widgets/base",
            "_view_module_version": "1.2.0",
            "_view_name": "StyleView",
            "description_width": ""
          }
        },
        "2006a344ad30488798ed7530c35535c1": {
          "model_module": "@jupyter-widgets/base",
          "model_name": "LayoutModel",
          "model_module_version": "1.2.0",
          "state": {
            "_model_module": "@jupyter-widgets/base",
            "_model_module_version": "1.2.0",
            "_model_name": "LayoutModel",
            "_view_count": null,
            "_view_module": "@jupyter-widgets/base",
            "_view_module_version": "1.2.0",
            "_view_name": "LayoutView",
            "align_content": null,
            "align_items": null,
            "align_self": null,
            "border": null,
            "bottom": null,
            "display": null,
            "flex": null,
            "flex_flow": null,
            "grid_area": null,
            "grid_auto_columns": null,
            "grid_auto_flow": null,
            "grid_auto_rows": null,
            "grid_column": null,
            "grid_gap": null,
            "grid_row": null,
            "grid_template_areas": null,
            "grid_template_columns": null,
            "grid_template_rows": null,
            "height": null,
            "justify_content": null,
            "justify_items": null,
            "left": null,
            "margin": null,
            "max_height": null,
            "max_width": null,
            "min_height": null,
            "min_width": null,
            "object_fit": null,
            "object_position": null,
            "order": null,
            "overflow": null,
            "overflow_x": null,
            "overflow_y": null,
            "padding": null,
            "right": null,
            "top": null,
            "visibility": null,
            "width": null
          }
        },
        "57967c787f8f47fab07c512dce98c886": {
          "model_module": "@jupyter-widgets/controls",
          "model_name": "ProgressStyleModel",
          "model_module_version": "1.5.0",
          "state": {
            "_model_module": "@jupyter-widgets/controls",
            "_model_module_version": "1.5.0",
            "_model_name": "ProgressStyleModel",
            "_view_count": null,
            "_view_module": "@jupyter-widgets/base",
            "_view_module_version": "1.2.0",
            "_view_name": "StyleView",
            "bar_color": null,
            "description_width": ""
          }
        },
        "69a9ace8d6a647f7a1eced5c95460764": {
          "model_module": "@jupyter-widgets/base",
          "model_name": "LayoutModel",
          "model_module_version": "1.2.0",
          "state": {
            "_model_module": "@jupyter-widgets/base",
            "_model_module_version": "1.2.0",
            "_model_name": "LayoutModel",
            "_view_count": null,
            "_view_module": "@jupyter-widgets/base",
            "_view_module_version": "1.2.0",
            "_view_name": "LayoutView",
            "align_content": null,
            "align_items": null,
            "align_self": null,
            "border": null,
            "bottom": null,
            "display": null,
            "flex": null,
            "flex_flow": null,
            "grid_area": null,
            "grid_auto_columns": null,
            "grid_auto_flow": null,
            "grid_auto_rows": null,
            "grid_column": null,
            "grid_gap": null,
            "grid_row": null,
            "grid_template_areas": null,
            "grid_template_columns": null,
            "grid_template_rows": null,
            "height": null,
            "justify_content": null,
            "justify_items": null,
            "left": null,
            "margin": null,
            "max_height": null,
            "max_width": null,
            "min_height": null,
            "min_width": null,
            "object_fit": null,
            "object_position": null,
            "order": null,
            "overflow": null,
            "overflow_x": null,
            "overflow_y": null,
            "padding": null,
            "right": null,
            "top": null,
            "visibility": null,
            "width": null
          }
        },
        "66f7418df469476e9116d07e9046190a": {
          "model_module": "@jupyter-widgets/controls",
          "model_name": "DescriptionStyleModel",
          "model_module_version": "1.5.0",
          "state": {
            "_model_module": "@jupyter-widgets/controls",
            "_model_module_version": "1.5.0",
            "_model_name": "DescriptionStyleModel",
            "_view_count": null,
            "_view_module": "@jupyter-widgets/base",
            "_view_module_version": "1.2.0",
            "_view_name": "StyleView",
            "description_width": ""
          }
        },
        "e5cfb101c87944c7bd9d2621d4afb1fa": {
          "model_module": "@jupyter-widgets/controls",
          "model_name": "HBoxModel",
          "model_module_version": "1.5.0",
          "state": {
            "_dom_classes": [],
            "_model_module": "@jupyter-widgets/controls",
            "_model_module_version": "1.5.0",
            "_model_name": "HBoxModel",
            "_view_count": null,
            "_view_module": "@jupyter-widgets/controls",
            "_view_module_version": "1.5.0",
            "_view_name": "HBoxView",
            "box_style": "",
            "children": [
              "IPY_MODEL_87191cd3d5c047cc8c3eb09259d8e719",
              "IPY_MODEL_6cfd6bb5931849449ae967b5b3f0caea",
              "IPY_MODEL_c9edcecde86345618168c24950c99afa"
            ],
            "layout": "IPY_MODEL_fc9966e0239349469559094b68793634"
          }
        },
        "87191cd3d5c047cc8c3eb09259d8e719": {
          "model_module": "@jupyter-widgets/controls",
          "model_name": "HTMLModel",
          "model_module_version": "1.5.0",
          "state": {
            "_dom_classes": [],
            "_model_module": "@jupyter-widgets/controls",
            "_model_module_version": "1.5.0",
            "_model_name": "HTMLModel",
            "_view_count": null,
            "_view_module": "@jupyter-widgets/controls",
            "_view_module_version": "1.5.0",
            "_view_name": "HTMLView",
            "description": "",
            "description_tooltip": null,
            "layout": "IPY_MODEL_dbbde3c2d2b84e74ba0d9256b7914084",
            "placeholder": "​",
            "style": "IPY_MODEL_f10b1e060b5d4e6485f316b36a636f1b",
            "value": "tokenizer_config.json: 100%"
          }
        },
        "6cfd6bb5931849449ae967b5b3f0caea": {
          "model_module": "@jupyter-widgets/controls",
          "model_name": "FloatProgressModel",
          "model_module_version": "1.5.0",
          "state": {
            "_dom_classes": [],
            "_model_module": "@jupyter-widgets/controls",
            "_model_module_version": "1.5.0",
            "_model_name": "FloatProgressModel",
            "_view_count": null,
            "_view_module": "@jupyter-widgets/controls",
            "_view_module_version": "1.5.0",
            "_view_name": "ProgressView",
            "bar_style": "success",
            "description": "",
            "description_tooltip": null,
            "layout": "IPY_MODEL_a35fedd2d0ff4fed9b98d74e2cffa7d2",
            "max": 1192,
            "min": 0,
            "orientation": "horizontal",
            "style": "IPY_MODEL_5471afa33fd54678865d640487e8ab9f",
            "value": 1192
          }
        },
        "c9edcecde86345618168c24950c99afa": {
          "model_module": "@jupyter-widgets/controls",
          "model_name": "HTMLModel",
          "model_module_version": "1.5.0",
          "state": {
            "_dom_classes": [],
            "_model_module": "@jupyter-widgets/controls",
            "_model_module_version": "1.5.0",
            "_model_name": "HTMLModel",
            "_view_count": null,
            "_view_module": "@jupyter-widgets/controls",
            "_view_module_version": "1.5.0",
            "_view_name": "HTMLView",
            "description": "",
            "description_tooltip": null,
            "layout": "IPY_MODEL_13938ee2ba014cecb42d939d740c1642",
            "placeholder": "​",
            "style": "IPY_MODEL_eb7beed92337401aaca0b5e840965308",
            "value": " 1.19k/1.19k [00:00&lt;00:00, 19.3kB/s]"
          }
        },
        "fc9966e0239349469559094b68793634": {
          "model_module": "@jupyter-widgets/base",
          "model_name": "LayoutModel",
          "model_module_version": "1.2.0",
          "state": {
            "_model_module": "@jupyter-widgets/base",
            "_model_module_version": "1.2.0",
            "_model_name": "LayoutModel",
            "_view_count": null,
            "_view_module": "@jupyter-widgets/base",
            "_view_module_version": "1.2.0",
            "_view_name": "LayoutView",
            "align_content": null,
            "align_items": null,
            "align_self": null,
            "border": null,
            "bottom": null,
            "display": null,
            "flex": null,
            "flex_flow": null,
            "grid_area": null,
            "grid_auto_columns": null,
            "grid_auto_flow": null,
            "grid_auto_rows": null,
            "grid_column": null,
            "grid_gap": null,
            "grid_row": null,
            "grid_template_areas": null,
            "grid_template_columns": null,
            "grid_template_rows": null,
            "height": null,
            "justify_content": null,
            "justify_items": null,
            "left": null,
            "margin": null,
            "max_height": null,
            "max_width": null,
            "min_height": null,
            "min_width": null,
            "object_fit": null,
            "object_position": null,
            "order": null,
            "overflow": null,
            "overflow_x": null,
            "overflow_y": null,
            "padding": null,
            "right": null,
            "top": null,
            "visibility": null,
            "width": null
          }
        },
        "dbbde3c2d2b84e74ba0d9256b7914084": {
          "model_module": "@jupyter-widgets/base",
          "model_name": "LayoutModel",
          "model_module_version": "1.2.0",
          "state": {
            "_model_module": "@jupyter-widgets/base",
            "_model_module_version": "1.2.0",
            "_model_name": "LayoutModel",
            "_view_count": null,
            "_view_module": "@jupyter-widgets/base",
            "_view_module_version": "1.2.0",
            "_view_name": "LayoutView",
            "align_content": null,
            "align_items": null,
            "align_self": null,
            "border": null,
            "bottom": null,
            "display": null,
            "flex": null,
            "flex_flow": null,
            "grid_area": null,
            "grid_auto_columns": null,
            "grid_auto_flow": null,
            "grid_auto_rows": null,
            "grid_column": null,
            "grid_gap": null,
            "grid_row": null,
            "grid_template_areas": null,
            "grid_template_columns": null,
            "grid_template_rows": null,
            "height": null,
            "justify_content": null,
            "justify_items": null,
            "left": null,
            "margin": null,
            "max_height": null,
            "max_width": null,
            "min_height": null,
            "min_width": null,
            "object_fit": null,
            "object_position": null,
            "order": null,
            "overflow": null,
            "overflow_x": null,
            "overflow_y": null,
            "padding": null,
            "right": null,
            "top": null,
            "visibility": null,
            "width": null
          }
        },
        "f10b1e060b5d4e6485f316b36a636f1b": {
          "model_module": "@jupyter-widgets/controls",
          "model_name": "DescriptionStyleModel",
          "model_module_version": "1.5.0",
          "state": {
            "_model_module": "@jupyter-widgets/controls",
            "_model_module_version": "1.5.0",
            "_model_name": "DescriptionStyleModel",
            "_view_count": null,
            "_view_module": "@jupyter-widgets/base",
            "_view_module_version": "1.2.0",
            "_view_name": "StyleView",
            "description_width": ""
          }
        },
        "a35fedd2d0ff4fed9b98d74e2cffa7d2": {
          "model_module": "@jupyter-widgets/base",
          "model_name": "LayoutModel",
          "model_module_version": "1.2.0",
          "state": {
            "_model_module": "@jupyter-widgets/base",
            "_model_module_version": "1.2.0",
            "_model_name": "LayoutModel",
            "_view_count": null,
            "_view_module": "@jupyter-widgets/base",
            "_view_module_version": "1.2.0",
            "_view_name": "LayoutView",
            "align_content": null,
            "align_items": null,
            "align_self": null,
            "border": null,
            "bottom": null,
            "display": null,
            "flex": null,
            "flex_flow": null,
            "grid_area": null,
            "grid_auto_columns": null,
            "grid_auto_flow": null,
            "grid_auto_rows": null,
            "grid_column": null,
            "grid_gap": null,
            "grid_row": null,
            "grid_template_areas": null,
            "grid_template_columns": null,
            "grid_template_rows": null,
            "height": null,
            "justify_content": null,
            "justify_items": null,
            "left": null,
            "margin": null,
            "max_height": null,
            "max_width": null,
            "min_height": null,
            "min_width": null,
            "object_fit": null,
            "object_position": null,
            "order": null,
            "overflow": null,
            "overflow_x": null,
            "overflow_y": null,
            "padding": null,
            "right": null,
            "top": null,
            "visibility": null,
            "width": null
          }
        },
        "5471afa33fd54678865d640487e8ab9f": {
          "model_module": "@jupyter-widgets/controls",
          "model_name": "ProgressStyleModel",
          "model_module_version": "1.5.0",
          "state": {
            "_model_module": "@jupyter-widgets/controls",
            "_model_module_version": "1.5.0",
            "_model_name": "ProgressStyleModel",
            "_view_count": null,
            "_view_module": "@jupyter-widgets/base",
            "_view_module_version": "1.2.0",
            "_view_name": "StyleView",
            "bar_color": null,
            "description_width": ""
          }
        },
        "13938ee2ba014cecb42d939d740c1642": {
          "model_module": "@jupyter-widgets/base",
          "model_name": "LayoutModel",
          "model_module_version": "1.2.0",
          "state": {
            "_model_module": "@jupyter-widgets/base",
            "_model_module_version": "1.2.0",
            "_model_name": "LayoutModel",
            "_view_count": null,
            "_view_module": "@jupyter-widgets/base",
            "_view_module_version": "1.2.0",
            "_view_name": "LayoutView",
            "align_content": null,
            "align_items": null,
            "align_self": null,
            "border": null,
            "bottom": null,
            "display": null,
            "flex": null,
            "flex_flow": null,
            "grid_area": null,
            "grid_auto_columns": null,
            "grid_auto_flow": null,
            "grid_auto_rows": null,
            "grid_column": null,
            "grid_gap": null,
            "grid_row": null,
            "grid_template_areas": null,
            "grid_template_columns": null,
            "grid_template_rows": null,
            "height": null,
            "justify_content": null,
            "justify_items": null,
            "left": null,
            "margin": null,
            "max_height": null,
            "max_width": null,
            "min_height": null,
            "min_width": null,
            "object_fit": null,
            "object_position": null,
            "order": null,
            "overflow": null,
            "overflow_x": null,
            "overflow_y": null,
            "padding": null,
            "right": null,
            "top": null,
            "visibility": null,
            "width": null
          }
        },
        "eb7beed92337401aaca0b5e840965308": {
          "model_module": "@jupyter-widgets/controls",
          "model_name": "DescriptionStyleModel",
          "model_module_version": "1.5.0",
          "state": {
            "_model_module": "@jupyter-widgets/controls",
            "_model_module_version": "1.5.0",
            "_model_name": "DescriptionStyleModel",
            "_view_count": null,
            "_view_module": "@jupyter-widgets/base",
            "_view_module_version": "1.2.0",
            "_view_name": "StyleView",
            "description_width": ""
          }
        },
        "fda9f0519dee4e66b731194dee137596": {
          "model_module": "@jupyter-widgets/controls",
          "model_name": "HBoxModel",
          "model_module_version": "1.5.0",
          "state": {
            "_dom_classes": [],
            "_model_module": "@jupyter-widgets/controls",
            "_model_module_version": "1.5.0",
            "_model_name": "HBoxModel",
            "_view_count": null,
            "_view_module": "@jupyter-widgets/controls",
            "_view_module_version": "1.5.0",
            "_view_name": "HBoxView",
            "box_style": "",
            "children": [
              "IPY_MODEL_368eb6dafa374a079e769481b07adcd0",
              "IPY_MODEL_0b21782fac2143159611f8a592731d1a",
              "IPY_MODEL_eed90ca0f3b34c92b2e7d28d87e04c03"
            ],
            "layout": "IPY_MODEL_6fac558079754b82b566a370630f025f"
          }
        },
        "368eb6dafa374a079e769481b07adcd0": {
          "model_module": "@jupyter-widgets/controls",
          "model_name": "HTMLModel",
          "model_module_version": "1.5.0",
          "state": {
            "_dom_classes": [],
            "_model_module": "@jupyter-widgets/controls",
            "_model_module_version": "1.5.0",
            "_model_name": "HTMLModel",
            "_view_count": null,
            "_view_module": "@jupyter-widgets/controls",
            "_view_module_version": "1.5.0",
            "_view_name": "HTMLView",
            "description": "",
            "description_tooltip": null,
            "layout": "IPY_MODEL_5895b12bbb3b4de6857a8b55eec88dac",
            "placeholder": "​",
            "style": "IPY_MODEL_19b0289d159c4ee0b19cc58a8fc84c26",
            "value": "vocab.json: 100%"
          }
        },
        "0b21782fac2143159611f8a592731d1a": {
          "model_module": "@jupyter-widgets/controls",
          "model_name": "FloatProgressModel",
          "model_module_version": "1.5.0",
          "state": {
            "_dom_classes": [],
            "_model_module": "@jupyter-widgets/controls",
            "_model_module_version": "1.5.0",
            "_model_name": "FloatProgressModel",
            "_view_count": null,
            "_view_module": "@jupyter-widgets/controls",
            "_view_module_version": "1.5.0",
            "_view_name": "ProgressView",
            "bar_style": "success",
            "description": "",
            "description_tooltip": null,
            "layout": "IPY_MODEL_4ba76754047a46ee94f357636cb8c2b7",
            "max": 999355,
            "min": 0,
            "orientation": "horizontal",
            "style": "IPY_MODEL_ae9a218b582f4b089aef134f130cee9c",
            "value": 999355
          }
        },
        "eed90ca0f3b34c92b2e7d28d87e04c03": {
          "model_module": "@jupyter-widgets/controls",
          "model_name": "HTMLModel",
          "model_module_version": "1.5.0",
          "state": {
            "_dom_classes": [],
            "_model_module": "@jupyter-widgets/controls",
            "_model_module_version": "1.5.0",
            "_model_name": "HTMLModel",
            "_view_count": null,
            "_view_module": "@jupyter-widgets/controls",
            "_view_module_version": "1.5.0",
            "_view_name": "HTMLView",
            "description": "",
            "description_tooltip": null,
            "layout": "IPY_MODEL_9a4035d29e164f3a9f82e01d955a699f",
            "placeholder": "​",
            "style": "IPY_MODEL_5c46660667264f78bc0174b64d1ca838",
            "value": " 999k/999k [00:00&lt;00:00, 4.05MB/s]"
          }
        },
        "6fac558079754b82b566a370630f025f": {
          "model_module": "@jupyter-widgets/base",
          "model_name": "LayoutModel",
          "model_module_version": "1.2.0",
          "state": {
            "_model_module": "@jupyter-widgets/base",
            "_model_module_version": "1.2.0",
            "_model_name": "LayoutModel",
            "_view_count": null,
            "_view_module": "@jupyter-widgets/base",
            "_view_module_version": "1.2.0",
            "_view_name": "LayoutView",
            "align_content": null,
            "align_items": null,
            "align_self": null,
            "border": null,
            "bottom": null,
            "display": null,
            "flex": null,
            "flex_flow": null,
            "grid_area": null,
            "grid_auto_columns": null,
            "grid_auto_flow": null,
            "grid_auto_rows": null,
            "grid_column": null,
            "grid_gap": null,
            "grid_row": null,
            "grid_template_areas": null,
            "grid_template_columns": null,
            "grid_template_rows": null,
            "height": null,
            "justify_content": null,
            "justify_items": null,
            "left": null,
            "margin": null,
            "max_height": null,
            "max_width": null,
            "min_height": null,
            "min_width": null,
            "object_fit": null,
            "object_position": null,
            "order": null,
            "overflow": null,
            "overflow_x": null,
            "overflow_y": null,
            "padding": null,
            "right": null,
            "top": null,
            "visibility": null,
            "width": null
          }
        },
        "5895b12bbb3b4de6857a8b55eec88dac": {
          "model_module": "@jupyter-widgets/base",
          "model_name": "LayoutModel",
          "model_module_version": "1.2.0",
          "state": {
            "_model_module": "@jupyter-widgets/base",
            "_model_module_version": "1.2.0",
            "_model_name": "LayoutModel",
            "_view_count": null,
            "_view_module": "@jupyter-widgets/base",
            "_view_module_version": "1.2.0",
            "_view_name": "LayoutView",
            "align_content": null,
            "align_items": null,
            "align_self": null,
            "border": null,
            "bottom": null,
            "display": null,
            "flex": null,
            "flex_flow": null,
            "grid_area": null,
            "grid_auto_columns": null,
            "grid_auto_flow": null,
            "grid_auto_rows": null,
            "grid_column": null,
            "grid_gap": null,
            "grid_row": null,
            "grid_template_areas": null,
            "grid_template_columns": null,
            "grid_template_rows": null,
            "height": null,
            "justify_content": null,
            "justify_items": null,
            "left": null,
            "margin": null,
            "max_height": null,
            "max_width": null,
            "min_height": null,
            "min_width": null,
            "object_fit": null,
            "object_position": null,
            "order": null,
            "overflow": null,
            "overflow_x": null,
            "overflow_y": null,
            "padding": null,
            "right": null,
            "top": null,
            "visibility": null,
            "width": null
          }
        },
        "19b0289d159c4ee0b19cc58a8fc84c26": {
          "model_module": "@jupyter-widgets/controls",
          "model_name": "DescriptionStyleModel",
          "model_module_version": "1.5.0",
          "state": {
            "_model_module": "@jupyter-widgets/controls",
            "_model_module_version": "1.5.0",
            "_model_name": "DescriptionStyleModel",
            "_view_count": null,
            "_view_module": "@jupyter-widgets/base",
            "_view_module_version": "1.2.0",
            "_view_name": "StyleView",
            "description_width": ""
          }
        },
        "4ba76754047a46ee94f357636cb8c2b7": {
          "model_module": "@jupyter-widgets/base",
          "model_name": "LayoutModel",
          "model_module_version": "1.2.0",
          "state": {
            "_model_module": "@jupyter-widgets/base",
            "_model_module_version": "1.2.0",
            "_model_name": "LayoutModel",
            "_view_count": null,
            "_view_module": "@jupyter-widgets/base",
            "_view_module_version": "1.2.0",
            "_view_name": "LayoutView",
            "align_content": null,
            "align_items": null,
            "align_self": null,
            "border": null,
            "bottom": null,
            "display": null,
            "flex": null,
            "flex_flow": null,
            "grid_area": null,
            "grid_auto_columns": null,
            "grid_auto_flow": null,
            "grid_auto_rows": null,
            "grid_column": null,
            "grid_gap": null,
            "grid_row": null,
            "grid_template_areas": null,
            "grid_template_columns": null,
            "grid_template_rows": null,
            "height": null,
            "justify_content": null,
            "justify_items": null,
            "left": null,
            "margin": null,
            "max_height": null,
            "max_width": null,
            "min_height": null,
            "min_width": null,
            "object_fit": null,
            "object_position": null,
            "order": null,
            "overflow": null,
            "overflow_x": null,
            "overflow_y": null,
            "padding": null,
            "right": null,
            "top": null,
            "visibility": null,
            "width": null
          }
        },
        "ae9a218b582f4b089aef134f130cee9c": {
          "model_module": "@jupyter-widgets/controls",
          "model_name": "ProgressStyleModel",
          "model_module_version": "1.5.0",
          "state": {
            "_model_module": "@jupyter-widgets/controls",
            "_model_module_version": "1.5.0",
            "_model_name": "ProgressStyleModel",
            "_view_count": null,
            "_view_module": "@jupyter-widgets/base",
            "_view_module_version": "1.2.0",
            "_view_name": "StyleView",
            "bar_color": null,
            "description_width": ""
          }
        },
        "9a4035d29e164f3a9f82e01d955a699f": {
          "model_module": "@jupyter-widgets/base",
          "model_name": "LayoutModel",
          "model_module_version": "1.2.0",
          "state": {
            "_model_module": "@jupyter-widgets/base",
            "_model_module_version": "1.2.0",
            "_model_name": "LayoutModel",
            "_view_count": null,
            "_view_module": "@jupyter-widgets/base",
            "_view_module_version": "1.2.0",
            "_view_name": "LayoutView",
            "align_content": null,
            "align_items": null,
            "align_self": null,
            "border": null,
            "bottom": null,
            "display": null,
            "flex": null,
            "flex_flow": null,
            "grid_area": null,
            "grid_auto_columns": null,
            "grid_auto_flow": null,
            "grid_auto_rows": null,
            "grid_column": null,
            "grid_gap": null,
            "grid_row": null,
            "grid_template_areas": null,
            "grid_template_columns": null,
            "grid_template_rows": null,
            "height": null,
            "justify_content": null,
            "justify_items": null,
            "left": null,
            "margin": null,
            "max_height": null,
            "max_width": null,
            "min_height": null,
            "min_width": null,
            "object_fit": null,
            "object_position": null,
            "order": null,
            "overflow": null,
            "overflow_x": null,
            "overflow_y": null,
            "padding": null,
            "right": null,
            "top": null,
            "visibility": null,
            "width": null
          }
        },
        "5c46660667264f78bc0174b64d1ca838": {
          "model_module": "@jupyter-widgets/controls",
          "model_name": "DescriptionStyleModel",
          "model_module_version": "1.5.0",
          "state": {
            "_model_module": "@jupyter-widgets/controls",
            "_model_module_version": "1.5.0",
            "_model_name": "DescriptionStyleModel",
            "_view_count": null,
            "_view_module": "@jupyter-widgets/base",
            "_view_module_version": "1.2.0",
            "_view_name": "StyleView",
            "description_width": ""
          }
        },
        "9cd7f9f0e19a4299810ec792c80cea57": {
          "model_module": "@jupyter-widgets/controls",
          "model_name": "HBoxModel",
          "model_module_version": "1.5.0",
          "state": {
            "_dom_classes": [],
            "_model_module": "@jupyter-widgets/controls",
            "_model_module_version": "1.5.0",
            "_model_name": "HBoxModel",
            "_view_count": null,
            "_view_module": "@jupyter-widgets/controls",
            "_view_module_version": "1.5.0",
            "_view_name": "HBoxView",
            "box_style": "",
            "children": [
              "IPY_MODEL_e8dc8e27493940d58ae3fa6b87adc119",
              "IPY_MODEL_b6d927c4d5544adeaf885d392eb15be9",
              "IPY_MODEL_4d80c03eb9534f52ab9c7c0bfad6e616"
            ],
            "layout": "IPY_MODEL_8d056dc542544791a9878bda749c047b"
          }
        },
        "e8dc8e27493940d58ae3fa6b87adc119": {
          "model_module": "@jupyter-widgets/controls",
          "model_name": "HTMLModel",
          "model_module_version": "1.5.0",
          "state": {
            "_dom_classes": [],
            "_model_module": "@jupyter-widgets/controls",
            "_model_module_version": "1.5.0",
            "_model_name": "HTMLModel",
            "_view_count": null,
            "_view_module": "@jupyter-widgets/controls",
            "_view_module_version": "1.5.0",
            "_view_name": "HTMLView",
            "description": "",
            "description_tooltip": null,
            "layout": "IPY_MODEL_613861bd583743e4bbdddcb705d9fc0d",
            "placeholder": "​",
            "style": "IPY_MODEL_e41e015c99144d9fb553c76a9a3152bf",
            "value": "merges.txt: 100%"
          }
        },
        "b6d927c4d5544adeaf885d392eb15be9": {
          "model_module": "@jupyter-widgets/controls",
          "model_name": "FloatProgressModel",
          "model_module_version": "1.5.0",
          "state": {
            "_dom_classes": [],
            "_model_module": "@jupyter-widgets/controls",
            "_model_module_version": "1.5.0",
            "_model_name": "FloatProgressModel",
            "_view_count": null,
            "_view_module": "@jupyter-widgets/controls",
            "_view_module_version": "1.5.0",
            "_view_name": "ProgressView",
            "bar_style": "success",
            "description": "",
            "description_tooltip": null,
            "layout": "IPY_MODEL_8242c452d86841a9aca63c72f62d3921",
            "max": 456318,
            "min": 0,
            "orientation": "horizontal",
            "style": "IPY_MODEL_b0d31ee79f104accaf12a5b98150cac0",
            "value": 456318
          }
        },
        "4d80c03eb9534f52ab9c7c0bfad6e616": {
          "model_module": "@jupyter-widgets/controls",
          "model_name": "HTMLModel",
          "model_module_version": "1.5.0",
          "state": {
            "_dom_classes": [],
            "_model_module": "@jupyter-widgets/controls",
            "_model_module_version": "1.5.0",
            "_model_name": "HTMLModel",
            "_view_count": null,
            "_view_module": "@jupyter-widgets/controls",
            "_view_module_version": "1.5.0",
            "_view_name": "HTMLView",
            "description": "",
            "description_tooltip": null,
            "layout": "IPY_MODEL_f19506eeda7b4b8b8bbe512c3ff1d56c",
            "placeholder": "​",
            "style": "IPY_MODEL_fb0768b0482544ff917fb6daf61ffef3",
            "value": " 456k/456k [00:00&lt;00:00, 6.93MB/s]"
          }
        },
        "8d056dc542544791a9878bda749c047b": {
          "model_module": "@jupyter-widgets/base",
          "model_name": "LayoutModel",
          "model_module_version": "1.2.0",
          "state": {
            "_model_module": "@jupyter-widgets/base",
            "_model_module_version": "1.2.0",
            "_model_name": "LayoutModel",
            "_view_count": null,
            "_view_module": "@jupyter-widgets/base",
            "_view_module_version": "1.2.0",
            "_view_name": "LayoutView",
            "align_content": null,
            "align_items": null,
            "align_self": null,
            "border": null,
            "bottom": null,
            "display": null,
            "flex": null,
            "flex_flow": null,
            "grid_area": null,
            "grid_auto_columns": null,
            "grid_auto_flow": null,
            "grid_auto_rows": null,
            "grid_column": null,
            "grid_gap": null,
            "grid_row": null,
            "grid_template_areas": null,
            "grid_template_columns": null,
            "grid_template_rows": null,
            "height": null,
            "justify_content": null,
            "justify_items": null,
            "left": null,
            "margin": null,
            "max_height": null,
            "max_width": null,
            "min_height": null,
            "min_width": null,
            "object_fit": null,
            "object_position": null,
            "order": null,
            "overflow": null,
            "overflow_x": null,
            "overflow_y": null,
            "padding": null,
            "right": null,
            "top": null,
            "visibility": null,
            "width": null
          }
        },
        "613861bd583743e4bbdddcb705d9fc0d": {
          "model_module": "@jupyter-widgets/base",
          "model_name": "LayoutModel",
          "model_module_version": "1.2.0",
          "state": {
            "_model_module": "@jupyter-widgets/base",
            "_model_module_version": "1.2.0",
            "_model_name": "LayoutModel",
            "_view_count": null,
            "_view_module": "@jupyter-widgets/base",
            "_view_module_version": "1.2.0",
            "_view_name": "LayoutView",
            "align_content": null,
            "align_items": null,
            "align_self": null,
            "border": null,
            "bottom": null,
            "display": null,
            "flex": null,
            "flex_flow": null,
            "grid_area": null,
            "grid_auto_columns": null,
            "grid_auto_flow": null,
            "grid_auto_rows": null,
            "grid_column": null,
            "grid_gap": null,
            "grid_row": null,
            "grid_template_areas": null,
            "grid_template_columns": null,
            "grid_template_rows": null,
            "height": null,
            "justify_content": null,
            "justify_items": null,
            "left": null,
            "margin": null,
            "max_height": null,
            "max_width": null,
            "min_height": null,
            "min_width": null,
            "object_fit": null,
            "object_position": null,
            "order": null,
            "overflow": null,
            "overflow_x": null,
            "overflow_y": null,
            "padding": null,
            "right": null,
            "top": null,
            "visibility": null,
            "width": null
          }
        },
        "e41e015c99144d9fb553c76a9a3152bf": {
          "model_module": "@jupyter-widgets/controls",
          "model_name": "DescriptionStyleModel",
          "model_module_version": "1.5.0",
          "state": {
            "_model_module": "@jupyter-widgets/controls",
            "_model_module_version": "1.5.0",
            "_model_name": "DescriptionStyleModel",
            "_view_count": null,
            "_view_module": "@jupyter-widgets/base",
            "_view_module_version": "1.2.0",
            "_view_name": "StyleView",
            "description_width": ""
          }
        },
        "8242c452d86841a9aca63c72f62d3921": {
          "model_module": "@jupyter-widgets/base",
          "model_name": "LayoutModel",
          "model_module_version": "1.2.0",
          "state": {
            "_model_module": "@jupyter-widgets/base",
            "_model_module_version": "1.2.0",
            "_model_name": "LayoutModel",
            "_view_count": null,
            "_view_module": "@jupyter-widgets/base",
            "_view_module_version": "1.2.0",
            "_view_name": "LayoutView",
            "align_content": null,
            "align_items": null,
            "align_self": null,
            "border": null,
            "bottom": null,
            "display": null,
            "flex": null,
            "flex_flow": null,
            "grid_area": null,
            "grid_auto_columns": null,
            "grid_auto_flow": null,
            "grid_auto_rows": null,
            "grid_column": null,
            "grid_gap": null,
            "grid_row": null,
            "grid_template_areas": null,
            "grid_template_columns": null,
            "grid_template_rows": null,
            "height": null,
            "justify_content": null,
            "justify_items": null,
            "left": null,
            "margin": null,
            "max_height": null,
            "max_width": null,
            "min_height": null,
            "min_width": null,
            "object_fit": null,
            "object_position": null,
            "order": null,
            "overflow": null,
            "overflow_x": null,
            "overflow_y": null,
            "padding": null,
            "right": null,
            "top": null,
            "visibility": null,
            "width": null
          }
        },
        "b0d31ee79f104accaf12a5b98150cac0": {
          "model_module": "@jupyter-widgets/controls",
          "model_name": "ProgressStyleModel",
          "model_module_version": "1.5.0",
          "state": {
            "_model_module": "@jupyter-widgets/controls",
            "_model_module_version": "1.5.0",
            "_model_name": "ProgressStyleModel",
            "_view_count": null,
            "_view_module": "@jupyter-widgets/base",
            "_view_module_version": "1.2.0",
            "_view_name": "StyleView",
            "bar_color": null,
            "description_width": ""
          }
        },
        "f19506eeda7b4b8b8bbe512c3ff1d56c": {
          "model_module": "@jupyter-widgets/base",
          "model_name": "LayoutModel",
          "model_module_version": "1.2.0",
          "state": {
            "_model_module": "@jupyter-widgets/base",
            "_model_module_version": "1.2.0",
            "_model_name": "LayoutModel",
            "_view_count": null,
            "_view_module": "@jupyter-widgets/base",
            "_view_module_version": "1.2.0",
            "_view_name": "LayoutView",
            "align_content": null,
            "align_items": null,
            "align_self": null,
            "border": null,
            "bottom": null,
            "display": null,
            "flex": null,
            "flex_flow": null,
            "grid_area": null,
            "grid_auto_columns": null,
            "grid_auto_flow": null,
            "grid_auto_rows": null,
            "grid_column": null,
            "grid_gap": null,
            "grid_row": null,
            "grid_template_areas": null,
            "grid_template_columns": null,
            "grid_template_rows": null,
            "height": null,
            "justify_content": null,
            "justify_items": null,
            "left": null,
            "margin": null,
            "max_height": null,
            "max_width": null,
            "min_height": null,
            "min_width": null,
            "object_fit": null,
            "object_position": null,
            "order": null,
            "overflow": null,
            "overflow_x": null,
            "overflow_y": null,
            "padding": null,
            "right": null,
            "top": null,
            "visibility": null,
            "width": null
          }
        },
        "fb0768b0482544ff917fb6daf61ffef3": {
          "model_module": "@jupyter-widgets/controls",
          "model_name": "DescriptionStyleModel",
          "model_module_version": "1.5.0",
          "state": {
            "_model_module": "@jupyter-widgets/controls",
            "_model_module_version": "1.5.0",
            "_model_name": "DescriptionStyleModel",
            "_view_count": null,
            "_view_module": "@jupyter-widgets/base",
            "_view_module_version": "1.2.0",
            "_view_name": "StyleView",
            "description_width": ""
          }
        },
        "addabad7c0964d529369d7a2715f73d7": {
          "model_module": "@jupyter-widgets/controls",
          "model_name": "HBoxModel",
          "model_module_version": "1.5.0",
          "state": {
            "_dom_classes": [],
            "_model_module": "@jupyter-widgets/controls",
            "_model_module_version": "1.5.0",
            "_model_name": "HBoxModel",
            "_view_count": null,
            "_view_module": "@jupyter-widgets/controls",
            "_view_module_version": "1.5.0",
            "_view_name": "HBoxView",
            "box_style": "",
            "children": [
              "IPY_MODEL_9d398c30e31b429b9f97ab07e24df6af",
              "IPY_MODEL_8f0ce73fb65940f58ec8d012fdca7de0",
              "IPY_MODEL_c40d5abfdcb8487da81cccbc48190db7"
            ],
            "layout": "IPY_MODEL_bcad66bb06d048d0bd44b1ba42bf79f0"
          }
        },
        "9d398c30e31b429b9f97ab07e24df6af": {
          "model_module": "@jupyter-widgets/controls",
          "model_name": "HTMLModel",
          "model_module_version": "1.5.0",
          "state": {
            "_dom_classes": [],
            "_model_module": "@jupyter-widgets/controls",
            "_model_module_version": "1.5.0",
            "_model_name": "HTMLModel",
            "_view_count": null,
            "_view_module": "@jupyter-widgets/controls",
            "_view_module_version": "1.5.0",
            "_view_name": "HTMLView",
            "description": "",
            "description_tooltip": null,
            "layout": "IPY_MODEL_ba502463e5f644aea3fbcb83e6c6c55d",
            "placeholder": "​",
            "style": "IPY_MODEL_9b1ad3a8eabb489daed97dbb0f6deaed",
            "value": "special_tokens_map.json: 100%"
          }
        },
        "8f0ce73fb65940f58ec8d012fdca7de0": {
          "model_module": "@jupyter-widgets/controls",
          "model_name": "FloatProgressModel",
          "model_module_version": "1.5.0",
          "state": {
            "_dom_classes": [],
            "_model_module": "@jupyter-widgets/controls",
            "_model_module_version": "1.5.0",
            "_model_name": "FloatProgressModel",
            "_view_count": null,
            "_view_module": "@jupyter-widgets/controls",
            "_view_module_version": "1.5.0",
            "_view_name": "ProgressView",
            "bar_style": "success",
            "description": "",
            "description_tooltip": null,
            "layout": "IPY_MODEL_0c8c6bace61944759fa9168c03d8d2da",
            "max": 958,
            "min": 0,
            "orientation": "horizontal",
            "style": "IPY_MODEL_b1c67632186a4c78b93a8d1b6dd0be64",
            "value": 958
          }
        },
        "c40d5abfdcb8487da81cccbc48190db7": {
          "model_module": "@jupyter-widgets/controls",
          "model_name": "HTMLModel",
          "model_module_version": "1.5.0",
          "state": {
            "_dom_classes": [],
            "_model_module": "@jupyter-widgets/controls",
            "_model_module_version": "1.5.0",
            "_model_name": "HTMLModel",
            "_view_count": null,
            "_view_module": "@jupyter-widgets/controls",
            "_view_module_version": "1.5.0",
            "_view_name": "HTMLView",
            "description": "",
            "description_tooltip": null,
            "layout": "IPY_MODEL_4125783bfc204a30b4d8ed7cbc620e70",
            "placeholder": "​",
            "style": "IPY_MODEL_a2ab1b7bc9684e28bbf46adf70a5133d",
            "value": " 958/958 [00:00&lt;00:00, 12.1kB/s]"
          }
        },
        "bcad66bb06d048d0bd44b1ba42bf79f0": {
          "model_module": "@jupyter-widgets/base",
          "model_name": "LayoutModel",
          "model_module_version": "1.2.0",
          "state": {
            "_model_module": "@jupyter-widgets/base",
            "_model_module_version": "1.2.0",
            "_model_name": "LayoutModel",
            "_view_count": null,
            "_view_module": "@jupyter-widgets/base",
            "_view_module_version": "1.2.0",
            "_view_name": "LayoutView",
            "align_content": null,
            "align_items": null,
            "align_self": null,
            "border": null,
            "bottom": null,
            "display": null,
            "flex": null,
            "flex_flow": null,
            "grid_area": null,
            "grid_auto_columns": null,
            "grid_auto_flow": null,
            "grid_auto_rows": null,
            "grid_column": null,
            "grid_gap": null,
            "grid_row": null,
            "grid_template_areas": null,
            "grid_template_columns": null,
            "grid_template_rows": null,
            "height": null,
            "justify_content": null,
            "justify_items": null,
            "left": null,
            "margin": null,
            "max_height": null,
            "max_width": null,
            "min_height": null,
            "min_width": null,
            "object_fit": null,
            "object_position": null,
            "order": null,
            "overflow": null,
            "overflow_x": null,
            "overflow_y": null,
            "padding": null,
            "right": null,
            "top": null,
            "visibility": null,
            "width": null
          }
        },
        "ba502463e5f644aea3fbcb83e6c6c55d": {
          "model_module": "@jupyter-widgets/base",
          "model_name": "LayoutModel",
          "model_module_version": "1.2.0",
          "state": {
            "_model_module": "@jupyter-widgets/base",
            "_model_module_version": "1.2.0",
            "_model_name": "LayoutModel",
            "_view_count": null,
            "_view_module": "@jupyter-widgets/base",
            "_view_module_version": "1.2.0",
            "_view_name": "LayoutView",
            "align_content": null,
            "align_items": null,
            "align_self": null,
            "border": null,
            "bottom": null,
            "display": null,
            "flex": null,
            "flex_flow": null,
            "grid_area": null,
            "grid_auto_columns": null,
            "grid_auto_flow": null,
            "grid_auto_rows": null,
            "grid_column": null,
            "grid_gap": null,
            "grid_row": null,
            "grid_template_areas": null,
            "grid_template_columns": null,
            "grid_template_rows": null,
            "height": null,
            "justify_content": null,
            "justify_items": null,
            "left": null,
            "margin": null,
            "max_height": null,
            "max_width": null,
            "min_height": null,
            "min_width": null,
            "object_fit": null,
            "object_position": null,
            "order": null,
            "overflow": null,
            "overflow_x": null,
            "overflow_y": null,
            "padding": null,
            "right": null,
            "top": null,
            "visibility": null,
            "width": null
          }
        },
        "9b1ad3a8eabb489daed97dbb0f6deaed": {
          "model_module": "@jupyter-widgets/controls",
          "model_name": "DescriptionStyleModel",
          "model_module_version": "1.5.0",
          "state": {
            "_model_module": "@jupyter-widgets/controls",
            "_model_module_version": "1.5.0",
            "_model_name": "DescriptionStyleModel",
            "_view_count": null,
            "_view_module": "@jupyter-widgets/base",
            "_view_module_version": "1.2.0",
            "_view_name": "StyleView",
            "description_width": ""
          }
        },
        "0c8c6bace61944759fa9168c03d8d2da": {
          "model_module": "@jupyter-widgets/base",
          "model_name": "LayoutModel",
          "model_module_version": "1.2.0",
          "state": {
            "_model_module": "@jupyter-widgets/base",
            "_model_module_version": "1.2.0",
            "_model_name": "LayoutModel",
            "_view_count": null,
            "_view_module": "@jupyter-widgets/base",
            "_view_module_version": "1.2.0",
            "_view_name": "LayoutView",
            "align_content": null,
            "align_items": null,
            "align_self": null,
            "border": null,
            "bottom": null,
            "display": null,
            "flex": null,
            "flex_flow": null,
            "grid_area": null,
            "grid_auto_columns": null,
            "grid_auto_flow": null,
            "grid_auto_rows": null,
            "grid_column": null,
            "grid_gap": null,
            "grid_row": null,
            "grid_template_areas": null,
            "grid_template_columns": null,
            "grid_template_rows": null,
            "height": null,
            "justify_content": null,
            "justify_items": null,
            "left": null,
            "margin": null,
            "max_height": null,
            "max_width": null,
            "min_height": null,
            "min_width": null,
            "object_fit": null,
            "object_position": null,
            "order": null,
            "overflow": null,
            "overflow_x": null,
            "overflow_y": null,
            "padding": null,
            "right": null,
            "top": null,
            "visibility": null,
            "width": null
          }
        },
        "b1c67632186a4c78b93a8d1b6dd0be64": {
          "model_module": "@jupyter-widgets/controls",
          "model_name": "ProgressStyleModel",
          "model_module_version": "1.5.0",
          "state": {
            "_model_module": "@jupyter-widgets/controls",
            "_model_module_version": "1.5.0",
            "_model_name": "ProgressStyleModel",
            "_view_count": null,
            "_view_module": "@jupyter-widgets/base",
            "_view_module_version": "1.2.0",
            "_view_name": "StyleView",
            "bar_color": null,
            "description_width": ""
          }
        },
        "4125783bfc204a30b4d8ed7cbc620e70": {
          "model_module": "@jupyter-widgets/base",
          "model_name": "LayoutModel",
          "model_module_version": "1.2.0",
          "state": {
            "_model_module": "@jupyter-widgets/base",
            "_model_module_version": "1.2.0",
            "_model_name": "LayoutModel",
            "_view_count": null,
            "_view_module": "@jupyter-widgets/base",
            "_view_module_version": "1.2.0",
            "_view_name": "LayoutView",
            "align_content": null,
            "align_items": null,
            "align_self": null,
            "border": null,
            "bottom": null,
            "display": null,
            "flex": null,
            "flex_flow": null,
            "grid_area": null,
            "grid_auto_columns": null,
            "grid_auto_flow": null,
            "grid_auto_rows": null,
            "grid_column": null,
            "grid_gap": null,
            "grid_row": null,
            "grid_template_areas": null,
            "grid_template_columns": null,
            "grid_template_rows": null,
            "height": null,
            "justify_content": null,
            "justify_items": null,
            "left": null,
            "margin": null,
            "max_height": null,
            "max_width": null,
            "min_height": null,
            "min_width": null,
            "object_fit": null,
            "object_position": null,
            "order": null,
            "overflow": null,
            "overflow_x": null,
            "overflow_y": null,
            "padding": null,
            "right": null,
            "top": null,
            "visibility": null,
            "width": null
          }
        },
        "a2ab1b7bc9684e28bbf46adf70a5133d": {
          "model_module": "@jupyter-widgets/controls",
          "model_name": "DescriptionStyleModel",
          "model_module_version": "1.5.0",
          "state": {
            "_model_module": "@jupyter-widgets/controls",
            "_model_module_version": "1.5.0",
            "_model_name": "DescriptionStyleModel",
            "_view_count": null,
            "_view_module": "@jupyter-widgets/base",
            "_view_module_version": "1.2.0",
            "_view_name": "StyleView",
            "description_width": ""
          }
        },
        "f519d876303249678b2efe3437c9d27d": {
          "model_module": "@jupyter-widgets/controls",
          "model_name": "HBoxModel",
          "model_module_version": "1.5.0",
          "state": {
            "_dom_classes": [],
            "_model_module": "@jupyter-widgets/controls",
            "_model_module_version": "1.5.0",
            "_model_name": "HBoxModel",
            "_view_count": null,
            "_view_module": "@jupyter-widgets/controls",
            "_view_module_version": "1.5.0",
            "_view_name": "HBoxView",
            "box_style": "",
            "children": [
              "IPY_MODEL_797dae6e2953443f9e072181efb8373b",
              "IPY_MODEL_e67b7d539d994401b8529a2437a6989d",
              "IPY_MODEL_e262defb70424c41afe1d4550d908358"
            ],
            "layout": "IPY_MODEL_b7f05692c45144f58d329b80fe94c766"
          }
        },
        "797dae6e2953443f9e072181efb8373b": {
          "model_module": "@jupyter-widgets/controls",
          "model_name": "HTMLModel",
          "model_module_version": "1.5.0",
          "state": {
            "_dom_classes": [],
            "_model_module": "@jupyter-widgets/controls",
            "_model_module_version": "1.5.0",
            "_model_name": "HTMLModel",
            "_view_count": null,
            "_view_module": "@jupyter-widgets/controls",
            "_view_module_version": "1.5.0",
            "_view_name": "HTMLView",
            "description": "",
            "description_tooltip": null,
            "layout": "IPY_MODEL_80664872924343c2a3457064cd547a1f",
            "placeholder": "​",
            "style": "IPY_MODEL_953d4acc672142bc98239836ee8754c4",
            "value": "config.json: 100%"
          }
        },
        "e67b7d539d994401b8529a2437a6989d": {
          "model_module": "@jupyter-widgets/controls",
          "model_name": "FloatProgressModel",
          "model_module_version": "1.5.0",
          "state": {
            "_dom_classes": [],
            "_model_module": "@jupyter-widgets/controls",
            "_model_module_version": "1.5.0",
            "_model_name": "FloatProgressModel",
            "_view_count": null,
            "_view_module": "@jupyter-widgets/controls",
            "_view_module_version": "1.5.0",
            "_view_name": "ProgressView",
            "bar_style": "success",
            "description": "",
            "description_tooltip": null,
            "layout": "IPY_MODEL_270e5fbedf7e48b5a0dfffedce680b39",
            "max": 1021,
            "min": 0,
            "orientation": "horizontal",
            "style": "IPY_MODEL_7360493fc352469381fa996b6d0a2719",
            "value": 1021
          }
        },
        "e262defb70424c41afe1d4550d908358": {
          "model_module": "@jupyter-widgets/controls",
          "model_name": "HTMLModel",
          "model_module_version": "1.5.0",
          "state": {
            "_dom_classes": [],
            "_model_module": "@jupyter-widgets/controls",
            "_model_module_version": "1.5.0",
            "_model_name": "HTMLModel",
            "_view_count": null,
            "_view_module": "@jupyter-widgets/controls",
            "_view_module_version": "1.5.0",
            "_view_name": "HTMLView",
            "description": "",
            "description_tooltip": null,
            "layout": "IPY_MODEL_d9990e8ee4fd4d39adbdf60072f599eb",
            "placeholder": "​",
            "style": "IPY_MODEL_03f8394e53a745688ac2c7ad2559fc25",
            "value": " 1.02k/1.02k [00:00&lt;00:00, 12.5kB/s]"
          }
        },
        "b7f05692c45144f58d329b80fe94c766": {
          "model_module": "@jupyter-widgets/base",
          "model_name": "LayoutModel",
          "model_module_version": "1.2.0",
          "state": {
            "_model_module": "@jupyter-widgets/base",
            "_model_module_version": "1.2.0",
            "_model_name": "LayoutModel",
            "_view_count": null,
            "_view_module": "@jupyter-widgets/base",
            "_view_module_version": "1.2.0",
            "_view_name": "LayoutView",
            "align_content": null,
            "align_items": null,
            "align_self": null,
            "border": null,
            "bottom": null,
            "display": null,
            "flex": null,
            "flex_flow": null,
            "grid_area": null,
            "grid_auto_columns": null,
            "grid_auto_flow": null,
            "grid_auto_rows": null,
            "grid_column": null,
            "grid_gap": null,
            "grid_row": null,
            "grid_template_areas": null,
            "grid_template_columns": null,
            "grid_template_rows": null,
            "height": null,
            "justify_content": null,
            "justify_items": null,
            "left": null,
            "margin": null,
            "max_height": null,
            "max_width": null,
            "min_height": null,
            "min_width": null,
            "object_fit": null,
            "object_position": null,
            "order": null,
            "overflow": null,
            "overflow_x": null,
            "overflow_y": null,
            "padding": null,
            "right": null,
            "top": null,
            "visibility": null,
            "width": null
          }
        },
        "80664872924343c2a3457064cd547a1f": {
          "model_module": "@jupyter-widgets/base",
          "model_name": "LayoutModel",
          "model_module_version": "1.2.0",
          "state": {
            "_model_module": "@jupyter-widgets/base",
            "_model_module_version": "1.2.0",
            "_model_name": "LayoutModel",
            "_view_count": null,
            "_view_module": "@jupyter-widgets/base",
            "_view_module_version": "1.2.0",
            "_view_name": "LayoutView",
            "align_content": null,
            "align_items": null,
            "align_self": null,
            "border": null,
            "bottom": null,
            "display": null,
            "flex": null,
            "flex_flow": null,
            "grid_area": null,
            "grid_auto_columns": null,
            "grid_auto_flow": null,
            "grid_auto_rows": null,
            "grid_column": null,
            "grid_gap": null,
            "grid_row": null,
            "grid_template_areas": null,
            "grid_template_columns": null,
            "grid_template_rows": null,
            "height": null,
            "justify_content": null,
            "justify_items": null,
            "left": null,
            "margin": null,
            "max_height": null,
            "max_width": null,
            "min_height": null,
            "min_width": null,
            "object_fit": null,
            "object_position": null,
            "order": null,
            "overflow": null,
            "overflow_x": null,
            "overflow_y": null,
            "padding": null,
            "right": null,
            "top": null,
            "visibility": null,
            "width": null
          }
        },
        "953d4acc672142bc98239836ee8754c4": {
          "model_module": "@jupyter-widgets/controls",
          "model_name": "DescriptionStyleModel",
          "model_module_version": "1.5.0",
          "state": {
            "_model_module": "@jupyter-widgets/controls",
            "_model_module_version": "1.5.0",
            "_model_name": "DescriptionStyleModel",
            "_view_count": null,
            "_view_module": "@jupyter-widgets/base",
            "_view_module_version": "1.2.0",
            "_view_name": "StyleView",
            "description_width": ""
          }
        },
        "270e5fbedf7e48b5a0dfffedce680b39": {
          "model_module": "@jupyter-widgets/base",
          "model_name": "LayoutModel",
          "model_module_version": "1.2.0",
          "state": {
            "_model_module": "@jupyter-widgets/base",
            "_model_module_version": "1.2.0",
            "_model_name": "LayoutModel",
            "_view_count": null,
            "_view_module": "@jupyter-widgets/base",
            "_view_module_version": "1.2.0",
            "_view_name": "LayoutView",
            "align_content": null,
            "align_items": null,
            "align_self": null,
            "border": null,
            "bottom": null,
            "display": null,
            "flex": null,
            "flex_flow": null,
            "grid_area": null,
            "grid_auto_columns": null,
            "grid_auto_flow": null,
            "grid_auto_rows": null,
            "grid_column": null,
            "grid_gap": null,
            "grid_row": null,
            "grid_template_areas": null,
            "grid_template_columns": null,
            "grid_template_rows": null,
            "height": null,
            "justify_content": null,
            "justify_items": null,
            "left": null,
            "margin": null,
            "max_height": null,
            "max_width": null,
            "min_height": null,
            "min_width": null,
            "object_fit": null,
            "object_position": null,
            "order": null,
            "overflow": null,
            "overflow_x": null,
            "overflow_y": null,
            "padding": null,
            "right": null,
            "top": null,
            "visibility": null,
            "width": null
          }
        },
        "7360493fc352469381fa996b6d0a2719": {
          "model_module": "@jupyter-widgets/controls",
          "model_name": "ProgressStyleModel",
          "model_module_version": "1.5.0",
          "state": {
            "_model_module": "@jupyter-widgets/controls",
            "_model_module_version": "1.5.0",
            "_model_name": "ProgressStyleModel",
            "_view_count": null,
            "_view_module": "@jupyter-widgets/base",
            "_view_module_version": "1.2.0",
            "_view_name": "StyleView",
            "bar_color": null,
            "description_width": ""
          }
        },
        "d9990e8ee4fd4d39adbdf60072f599eb": {
          "model_module": "@jupyter-widgets/base",
          "model_name": "LayoutModel",
          "model_module_version": "1.2.0",
          "state": {
            "_model_module": "@jupyter-widgets/base",
            "_model_module_version": "1.2.0",
            "_model_name": "LayoutModel",
            "_view_count": null,
            "_view_module": "@jupyter-widgets/base",
            "_view_module_version": "1.2.0",
            "_view_name": "LayoutView",
            "align_content": null,
            "align_items": null,
            "align_self": null,
            "border": null,
            "bottom": null,
            "display": null,
            "flex": null,
            "flex_flow": null,
            "grid_area": null,
            "grid_auto_columns": null,
            "grid_auto_flow": null,
            "grid_auto_rows": null,
            "grid_column": null,
            "grid_gap": null,
            "grid_row": null,
            "grid_template_areas": null,
            "grid_template_columns": null,
            "grid_template_rows": null,
            "height": null,
            "justify_content": null,
            "justify_items": null,
            "left": null,
            "margin": null,
            "max_height": null,
            "max_width": null,
            "min_height": null,
            "min_width": null,
            "object_fit": null,
            "object_position": null,
            "order": null,
            "overflow": null,
            "overflow_x": null,
            "overflow_y": null,
            "padding": null,
            "right": null,
            "top": null,
            "visibility": null,
            "width": null
          }
        },
        "03f8394e53a745688ac2c7ad2559fc25": {
          "model_module": "@jupyter-widgets/controls",
          "model_name": "DescriptionStyleModel",
          "model_module_version": "1.5.0",
          "state": {
            "_model_module": "@jupyter-widgets/controls",
            "_model_module_version": "1.5.0",
            "_model_name": "DescriptionStyleModel",
            "_view_count": null,
            "_view_module": "@jupyter-widgets/base",
            "_view_module_version": "1.2.0",
            "_view_name": "StyleView",
            "description_width": ""
          }
        },
        "996debd93908405caf77e716c41962b9": {
          "model_module": "@jupyter-widgets/controls",
          "model_name": "HBoxModel",
          "model_module_version": "1.5.0",
          "state": {
            "_dom_classes": [],
            "_model_module": "@jupyter-widgets/controls",
            "_model_module_version": "1.5.0",
            "_model_name": "HBoxModel",
            "_view_count": null,
            "_view_module": "@jupyter-widgets/controls",
            "_view_module_version": "1.5.0",
            "_view_name": "HBoxView",
            "box_style": "",
            "children": [
              "IPY_MODEL_257f7add5a3340c6a8b083ddd52cd49a",
              "IPY_MODEL_70f500a2ea6f44c49f0bb1fbe06624af",
              "IPY_MODEL_59062829c3b8410499e8f301ec47ae31"
            ],
            "layout": "IPY_MODEL_98dcb3ab92fe420f8e231c74406a7416"
          }
        },
        "257f7add5a3340c6a8b083ddd52cd49a": {
          "model_module": "@jupyter-widgets/controls",
          "model_name": "HTMLModel",
          "model_module_version": "1.5.0",
          "state": {
            "_dom_classes": [],
            "_model_module": "@jupyter-widgets/controls",
            "_model_module_version": "1.5.0",
            "_model_name": "HTMLModel",
            "_view_count": null,
            "_view_module": "@jupyter-widgets/controls",
            "_view_module_version": "1.5.0",
            "_view_name": "HTMLView",
            "description": "",
            "description_tooltip": null,
            "layout": "IPY_MODEL_10b2d2912bbc4b8cae50b66e0e80faa6",
            "placeholder": "​",
            "style": "IPY_MODEL_250fdabd09be4172b36d79e211d1eb7e",
            "value": "model.safetensors: 100%"
          }
        },
        "70f500a2ea6f44c49f0bb1fbe06624af": {
          "model_module": "@jupyter-widgets/controls",
          "model_name": "FloatProgressModel",
          "model_module_version": "1.5.0",
          "state": {
            "_dom_classes": [],
            "_model_module": "@jupyter-widgets/controls",
            "_model_module_version": "1.5.0",
            "_model_name": "FloatProgressModel",
            "_view_count": null,
            "_view_module": "@jupyter-widgets/controls",
            "_view_module_version": "1.5.0",
            "_view_name": "ProgressView",
            "bar_style": "success",
            "description": "",
            "description_tooltip": null,
            "layout": "IPY_MODEL_1fe00dd5a6f14e57aa1365af8deb41ed",
            "max": 498625128,
            "min": 0,
            "orientation": "horizontal",
            "style": "IPY_MODEL_43639f17430249ea9de55bcc40b7f3da",
            "value": 498625128
          }
        },
        "59062829c3b8410499e8f301ec47ae31": {
          "model_module": "@jupyter-widgets/controls",
          "model_name": "HTMLModel",
          "model_module_version": "1.5.0",
          "state": {
            "_dom_classes": [],
            "_model_module": "@jupyter-widgets/controls",
            "_model_module_version": "1.5.0",
            "_model_name": "HTMLModel",
            "_view_count": null,
            "_view_module": "@jupyter-widgets/controls",
            "_view_module_version": "1.5.0",
            "_view_name": "HTMLView",
            "description": "",
            "description_tooltip": null,
            "layout": "IPY_MODEL_05f75a0e3f424109bbe14d3336a700ee",
            "placeholder": "​",
            "style": "IPY_MODEL_f710629c9429480aad823fec57af993a",
            "value": " 499M/499M [00:12&lt;00:00, 42.6MB/s]"
          }
        },
        "98dcb3ab92fe420f8e231c74406a7416": {
          "model_module": "@jupyter-widgets/base",
          "model_name": "LayoutModel",
          "model_module_version": "1.2.0",
          "state": {
            "_model_module": "@jupyter-widgets/base",
            "_model_module_version": "1.2.0",
            "_model_name": "LayoutModel",
            "_view_count": null,
            "_view_module": "@jupyter-widgets/base",
            "_view_module_version": "1.2.0",
            "_view_name": "LayoutView",
            "align_content": null,
            "align_items": null,
            "align_self": null,
            "border": null,
            "bottom": null,
            "display": null,
            "flex": null,
            "flex_flow": null,
            "grid_area": null,
            "grid_auto_columns": null,
            "grid_auto_flow": null,
            "grid_auto_rows": null,
            "grid_column": null,
            "grid_gap": null,
            "grid_row": null,
            "grid_template_areas": null,
            "grid_template_columns": null,
            "grid_template_rows": null,
            "height": null,
            "justify_content": null,
            "justify_items": null,
            "left": null,
            "margin": null,
            "max_height": null,
            "max_width": null,
            "min_height": null,
            "min_width": null,
            "object_fit": null,
            "object_position": null,
            "order": null,
            "overflow": null,
            "overflow_x": null,
            "overflow_y": null,
            "padding": null,
            "right": null,
            "top": null,
            "visibility": null,
            "width": null
          }
        },
        "10b2d2912bbc4b8cae50b66e0e80faa6": {
          "model_module": "@jupyter-widgets/base",
          "model_name": "LayoutModel",
          "model_module_version": "1.2.0",
          "state": {
            "_model_module": "@jupyter-widgets/base",
            "_model_module_version": "1.2.0",
            "_model_name": "LayoutModel",
            "_view_count": null,
            "_view_module": "@jupyter-widgets/base",
            "_view_module_version": "1.2.0",
            "_view_name": "LayoutView",
            "align_content": null,
            "align_items": null,
            "align_self": null,
            "border": null,
            "bottom": null,
            "display": null,
            "flex": null,
            "flex_flow": null,
            "grid_area": null,
            "grid_auto_columns": null,
            "grid_auto_flow": null,
            "grid_auto_rows": null,
            "grid_column": null,
            "grid_gap": null,
            "grid_row": null,
            "grid_template_areas": null,
            "grid_template_columns": null,
            "grid_template_rows": null,
            "height": null,
            "justify_content": null,
            "justify_items": null,
            "left": null,
            "margin": null,
            "max_height": null,
            "max_width": null,
            "min_height": null,
            "min_width": null,
            "object_fit": null,
            "object_position": null,
            "order": null,
            "overflow": null,
            "overflow_x": null,
            "overflow_y": null,
            "padding": null,
            "right": null,
            "top": null,
            "visibility": null,
            "width": null
          }
        },
        "250fdabd09be4172b36d79e211d1eb7e": {
          "model_module": "@jupyter-widgets/controls",
          "model_name": "DescriptionStyleModel",
          "model_module_version": "1.5.0",
          "state": {
            "_model_module": "@jupyter-widgets/controls",
            "_model_module_version": "1.5.0",
            "_model_name": "DescriptionStyleModel",
            "_view_count": null,
            "_view_module": "@jupyter-widgets/base",
            "_view_module_version": "1.2.0",
            "_view_name": "StyleView",
            "description_width": ""
          }
        },
        "1fe00dd5a6f14e57aa1365af8deb41ed": {
          "model_module": "@jupyter-widgets/base",
          "model_name": "LayoutModel",
          "model_module_version": "1.2.0",
          "state": {
            "_model_module": "@jupyter-widgets/base",
            "_model_module_version": "1.2.0",
            "_model_name": "LayoutModel",
            "_view_count": null,
            "_view_module": "@jupyter-widgets/base",
            "_view_module_version": "1.2.0",
            "_view_name": "LayoutView",
            "align_content": null,
            "align_items": null,
            "align_self": null,
            "border": null,
            "bottom": null,
            "display": null,
            "flex": null,
            "flex_flow": null,
            "grid_area": null,
            "grid_auto_columns": null,
            "grid_auto_flow": null,
            "grid_auto_rows": null,
            "grid_column": null,
            "grid_gap": null,
            "grid_row": null,
            "grid_template_areas": null,
            "grid_template_columns": null,
            "grid_template_rows": null,
            "height": null,
            "justify_content": null,
            "justify_items": null,
            "left": null,
            "margin": null,
            "max_height": null,
            "max_width": null,
            "min_height": null,
            "min_width": null,
            "object_fit": null,
            "object_position": null,
            "order": null,
            "overflow": null,
            "overflow_x": null,
            "overflow_y": null,
            "padding": null,
            "right": null,
            "top": null,
            "visibility": null,
            "width": null
          }
        },
        "43639f17430249ea9de55bcc40b7f3da": {
          "model_module": "@jupyter-widgets/controls",
          "model_name": "ProgressStyleModel",
          "model_module_version": "1.5.0",
          "state": {
            "_model_module": "@jupyter-widgets/controls",
            "_model_module_version": "1.5.0",
            "_model_name": "ProgressStyleModel",
            "_view_count": null,
            "_view_module": "@jupyter-widgets/base",
            "_view_module_version": "1.2.0",
            "_view_name": "StyleView",
            "bar_color": null,
            "description_width": ""
          }
        },
        "05f75a0e3f424109bbe14d3336a700ee": {
          "model_module": "@jupyter-widgets/base",
          "model_name": "LayoutModel",
          "model_module_version": "1.2.0",
          "state": {
            "_model_module": "@jupyter-widgets/base",
            "_model_module_version": "1.2.0",
            "_model_name": "LayoutModel",
            "_view_count": null,
            "_view_module": "@jupyter-widgets/base",
            "_view_module_version": "1.2.0",
            "_view_name": "LayoutView",
            "align_content": null,
            "align_items": null,
            "align_self": null,
            "border": null,
            "bottom": null,
            "display": null,
            "flex": null,
            "flex_flow": null,
            "grid_area": null,
            "grid_auto_columns": null,
            "grid_auto_flow": null,
            "grid_auto_rows": null,
            "grid_column": null,
            "grid_gap": null,
            "grid_row": null,
            "grid_template_areas": null,
            "grid_template_columns": null,
            "grid_template_rows": null,
            "height": null,
            "justify_content": null,
            "justify_items": null,
            "left": null,
            "margin": null,
            "max_height": null,
            "max_width": null,
            "min_height": null,
            "min_width": null,
            "object_fit": null,
            "object_position": null,
            "order": null,
            "overflow": null,
            "overflow_x": null,
            "overflow_y": null,
            "padding": null,
            "right": null,
            "top": null,
            "visibility": null,
            "width": null
          }
        },
        "f710629c9429480aad823fec57af993a": {
          "model_module": "@jupyter-widgets/controls",
          "model_name": "DescriptionStyleModel",
          "model_module_version": "1.5.0",
          "state": {
            "_model_module": "@jupyter-widgets/controls",
            "_model_module_version": "1.5.0",
            "_model_name": "DescriptionStyleModel",
            "_view_count": null,
            "_view_module": "@jupyter-widgets/base",
            "_view_module_version": "1.2.0",
            "_view_name": "StyleView",
            "description_width": ""
          }
        }
      }
    }
  },
  "cells": [
    {
      "cell_type": "markdown",
      "metadata": {
        "id": "view-in-github",
        "colab_type": "text"
      },
      "source": [
        "<a href=\"https://colab.research.google.com/github/FadQode/teks-emo-analysis/blob/main/roberta_can_read_emotion.ipynb\" target=\"_parent\"><img src=\"https://colab.research.google.com/assets/colab-badge.svg\" alt=\"Open In Colab\"/></a>"
      ]
    },
    {
      "cell_type": "markdown",
      "source": [
        "# RoBERTa Model Training with Own Dataset"
      ],
      "metadata": {
        "id": "VnDeKR93HmmE"
      }
    },
    {
      "cell_type": "code",
      "execution_count": null,
      "metadata": {
        "colab": {
          "base_uri": "https://localhost:8080/"
        },
        "id": "w0yZQ8Mz3S1h",
        "outputId": "801a9a97-11ce-4807-9065-171731b9da93"
      },
      "outputs": [
        {
          "output_type": "stream",
          "name": "stdout",
          "text": [
            "Reading package lists... Done\n",
            "Building dependency tree... Done\n",
            "Reading state information... Done\n",
            "git is already the newest version (1:2.34.1-1ubuntu1.11).\n",
            "0 upgraded, 0 newly installed, 0 to remove and 49 not upgraded.\n"
          ]
        }
      ],
      "source": [
        "!apt-get install git"
      ]
    },
    {
      "cell_type": "code",
      "source": [
        "!git clone https://github.com/FadQode/teks-emo-analysis"
      ],
      "metadata": {
        "colab": {
          "base_uri": "https://localhost:8080/"
        },
        "id": "vb8TYEnt3vkJ",
        "outputId": "13d9960a-0f0a-469f-bb2f-8cab5d0397ea"
      },
      "execution_count": null,
      "outputs": [
        {
          "output_type": "stream",
          "name": "stdout",
          "text": [
            "Cloning into 'teks-emo-analysis'...\n",
            "remote: Enumerating objects: 17, done.\u001b[K\n",
            "remote: Counting objects: 100% (17/17), done.\u001b[K\n",
            "remote: Compressing objects: 100% (15/15), done.\u001b[K\n",
            "remote: Total 17 (delta 3), reused 10 (delta 0), pack-reused 0 (from 0)\u001b[K\n",
            "Receiving objects: 100% (17/17), 397.94 KiB | 1.46 MiB/s, done.\n",
            "Resolving deltas: 100% (3/3), done.\n"
          ]
        }
      ]
    },
    {
      "cell_type": "markdown",
      "source": [
        "## RoBERTa intialiation and Function Definition"
      ],
      "metadata": {
        "id": "WNijC0MV3IsE"
      }
    },
    {
      "cell_type": "markdown",
      "source": [
        "### HyperParameter Tuning"
      ],
      "metadata": {
        "id": "poBwVzpc3Wfs"
      }
    },
    {
      "cell_type": "code",
      "source": [
        "LABEL_MAPPING = {\n",
        "    'anger': 4,\n",
        "    'fear': 5,\n",
        "    'joy': 2,\n",
        "    'love': 3,\n",
        "    'sadness': 0,\n",
        "    'surprise': 1\n",
        "}\n",
        "\n",
        "\n",
        "MODEL_NAME = \"roberta-base\"\n",
        "BATCH_SIZE = 32\n",
        "EPOCHS = 20\n",
        "MAX_LENGTH = 256\n",
        "LEARNING_RATE = 1e-5"
      ],
      "metadata": {
        "id": "-Vjp3mZfBm3o"
      },
      "execution_count": null,
      "outputs": []
    },
    {
      "cell_type": "markdown",
      "source": [
        "### Dataset Asessing and Preparation"
      ],
      "metadata": {
        "id": "tu3JoX9t3UkK"
      }
    },
    {
      "cell_type": "code",
      "source": [
        "class EmotionDataset(Dataset):\n",
        "    def __init__(self, texts, labels, tokenizer, max_length=128):\n",
        "        self.texts = texts\n",
        "        self.labels = labels.values.astype(int)\n",
        "        self.tokenizer = tokenizer\n",
        "        self.max_length = max_length\n",
        "\n",
        "    def __len__(self):\n",
        "        return len(self.texts)\n",
        "\n",
        "    def __getitem__(self, idx):\n",
        "        text = self.texts[idx]\n",
        "        label = self.labels[idx]\n",
        "        encoding = self.tokenizer(\n",
        "            text,\n",
        "            max_length=self.max_length,\n",
        "            padding=\"max_length\",\n",
        "            truncation=True,\n",
        "            return_tensors=\"pt\"\n",
        "        )\n",
        "        return {\n",
        "            \"input_ids\": encoding[\"input_ids\"].squeeze(0),\n",
        "            \"attention_mask\": encoding[\"attention_mask\"].squeeze(0),\n",
        "            \"label\": torch.tensor(label, dtype=torch.long)\n",
        "        }"
      ],
      "metadata": {
        "id": "16YcQYCKUjaQ"
      },
      "execution_count": null,
      "outputs": []
    },
    {
      "cell_type": "code",
      "source": [
        "train_data = pd.read_csv(\"/content/teks-emo-analysis/dataset/emotion_train.csv\")\n",
        "val_data = pd.read_csv(\"/content/teks-emo-analysis/dataset/emotion_val.csv\")\n",
        "test_data = pd.read_csv(\"/content/teks-emo-analysis/dataset/emotion_test.csv\")"
      ],
      "metadata": {
        "id": "65bJvdu6YCXD"
      },
      "execution_count": null,
      "outputs": []
    },
    {
      "cell_type": "code",
      "source": [
        "# Check for missing labels in your train_data\n",
        "print(train_data[\"emotion\"].isnull().sum())  # Check if there are NaNs\n",
        "\n",
        "train_data.info()"
      ],
      "metadata": {
        "colab": {
          "base_uri": "https://localhost:8080/"
        },
        "id": "MYibQ79qhglu",
        "outputId": "5ac03ee1-a497-4cb2-c85c-c12d53a9a1d2"
      },
      "execution_count": null,
      "outputs": [
        {
          "output_type": "stream",
          "name": "stdout",
          "text": [
            "0\n",
            "<class 'pandas.core.frame.DataFrame'>\n",
            "RangeIndex: 6784 entries, 0 to 6783\n",
            "Data columns (total 2 columns):\n",
            " #   Column   Non-Null Count  Dtype \n",
            "---  ------   --------------  ----- \n",
            " 0   text     6784 non-null   object\n",
            " 1   emotion  6784 non-null   int64 \n",
            "dtypes: int64(1), object(1)\n",
            "memory usage: 106.1+ KB\n"
          ]
        }
      ]
    },
    {
      "cell_type": "code",
      "source": [
        "print(train_data['emotion'].value_counts())"
      ],
      "metadata": {
        "colab": {
          "base_uri": "https://localhost:8080/"
        },
        "id": "2ca2cyf3rv8s",
        "outputId": "1e2d6fbc-e095-4b4b-9486-4de0e83a3758"
      },
      "execution_count": null,
      "outputs": [
        {
          "output_type": "stream",
          "name": "stdout",
          "text": [
            "emotion\n",
            "1    1651\n",
            "3    1118\n",
            "4    1108\n",
            "0    1016\n",
            "5     962\n",
            "2     929\n",
            "Name: count, dtype: int64\n"
          ]
        }
      ]
    },
    {
      "cell_type": "code",
      "source": [
        "print(\"Label range in train data:\", train_data['emotion'].min(), \"-\", train_data['emotion'].max())"
      ],
      "metadata": {
        "colab": {
          "base_uri": "https://localhost:8080/"
        },
        "id": "qG9ZjWOdtIPJ",
        "outputId": "c8f8be1f-34ac-4ee7-eb15-3efafad317e3"
      },
      "execution_count": null,
      "outputs": [
        {
          "output_type": "stream",
          "name": "stdout",
          "text": [
            "Label range in train data: 0 - 5\n"
          ]
        }
      ]
    },
    {
      "cell_type": "markdown",
      "source": [
        "### Defining RoBERTa's Model and Tokenizer"
      ],
      "metadata": {
        "id": "Ofz_ViBS3r3N"
      }
    },
    {
      "cell_type": "code",
      "source": [
        "tokenizer = RobertaTokenizer.from_pretrained(MODEL_NAME)"
      ],
      "metadata": {
        "id": "OHS1DEOzd4n4"
      },
      "execution_count": null,
      "outputs": []
    },
    {
      "cell_type": "code",
      "source": [
        "train_dataset = EmotionDataset(train_data['text'], train_data['emotion'], tokenizer)\n",
        "val_dataset = EmotionDataset(val_data['text'], val_data['emotion'], tokenizer)\n",
        "test_dataset = EmotionDataset(test_data['text'], test_data['emotion'], tokenizer)\n"
      ],
      "metadata": {
        "id": "93nRejXkYUy8"
      },
      "execution_count": null,
      "outputs": []
    },
    {
      "cell_type": "code",
      "source": [
        "train_loader = DataLoader(train_dataset, batch_size=16, shuffle=True)\n",
        "val_loader = DataLoader(val_dataset, batch_size=16)\n",
        "test_loader = DataLoader(test_dataset, batch_size=16)"
      ],
      "metadata": {
        "id": "EIrukPF_Yy_R"
      },
      "execution_count": null,
      "outputs": []
    },
    {
      "cell_type": "code",
      "source": [
        "model = RobertaForSequenceClassification.from_pretrained(MODEL_NAME, num_labels=len(LABEL_MAPPING))\n",
        "model.to(device)"
      ],
      "metadata": {
        "colab": {
          "base_uri": "https://localhost:8080/"
        },
        "id": "MXjy3WB6d_op",
        "outputId": "9a4bbb96-b1c8-4f2e-ff93-f6faeb91105f"
      },
      "execution_count": null,
      "outputs": [
        {
          "output_type": "stream",
          "name": "stderr",
          "text": [
            "Some weights of RobertaForSequenceClassification were not initialized from the model checkpoint at roberta-base and are newly initialized: ['classifier.dense.bias', 'classifier.dense.weight', 'classifier.out_proj.bias', 'classifier.out_proj.weight']\n",
            "You should probably TRAIN this model on a down-stream task to be able to use it for predictions and inference.\n"
          ]
        },
        {
          "output_type": "execute_result",
          "data": {
            "text/plain": [
              "RobertaForSequenceClassification(\n",
              "  (roberta): RobertaModel(\n",
              "    (embeddings): RobertaEmbeddings(\n",
              "      (word_embeddings): Embedding(50265, 768, padding_idx=1)\n",
              "      (position_embeddings): Embedding(514, 768, padding_idx=1)\n",
              "      (token_type_embeddings): Embedding(1, 768)\n",
              "      (LayerNorm): LayerNorm((768,), eps=1e-05, elementwise_affine=True)\n",
              "      (dropout): Dropout(p=0.1, inplace=False)\n",
              "    )\n",
              "    (encoder): RobertaEncoder(\n",
              "      (layer): ModuleList(\n",
              "        (0-11): 12 x RobertaLayer(\n",
              "          (attention): RobertaAttention(\n",
              "            (self): RobertaSdpaSelfAttention(\n",
              "              (query): Linear(in_features=768, out_features=768, bias=True)\n",
              "              (key): Linear(in_features=768, out_features=768, bias=True)\n",
              "              (value): Linear(in_features=768, out_features=768, bias=True)\n",
              "              (dropout): Dropout(p=0.1, inplace=False)\n",
              "            )\n",
              "            (output): RobertaSelfOutput(\n",
              "              (dense): Linear(in_features=768, out_features=768, bias=True)\n",
              "              (LayerNorm): LayerNorm((768,), eps=1e-05, elementwise_affine=True)\n",
              "              (dropout): Dropout(p=0.1, inplace=False)\n",
              "            )\n",
              "          )\n",
              "          (intermediate): RobertaIntermediate(\n",
              "            (dense): Linear(in_features=768, out_features=3072, bias=True)\n",
              "            (intermediate_act_fn): GELUActivation()\n",
              "          )\n",
              "          (output): RobertaOutput(\n",
              "            (dense): Linear(in_features=3072, out_features=768, bias=True)\n",
              "            (LayerNorm): LayerNorm((768,), eps=1e-05, elementwise_affine=True)\n",
              "            (dropout): Dropout(p=0.1, inplace=False)\n",
              "          )\n",
              "        )\n",
              "      )\n",
              "    )\n",
              "  )\n",
              "  (classifier): RobertaClassificationHead(\n",
              "    (dense): Linear(in_features=768, out_features=768, bias=True)\n",
              "    (dropout): Dropout(p=0.1, inplace=False)\n",
              "    (out_proj): Linear(in_features=768, out_features=6, bias=True)\n",
              "  )\n",
              ")"
            ]
          },
          "metadata": {},
          "execution_count": 30
        }
      ]
    },
    {
      "cell_type": "markdown",
      "source": [
        "### Training the Model"
      ],
      "metadata": {
        "id": "qzNMPzhp34M2"
      }
    },
    {
      "cell_type": "code",
      "source": [
        "optimizer = AdamW(model.parameters(), lr=LEARNING_RATE)\n",
        "num_training_steps = len(train_loader) * EPOCHS\n",
        "lr_scheduler = get_scheduler(\"linear\", optimizer=optimizer, num_warmup_steps=0, num_training_steps=num_training_steps)\n"
      ],
      "metadata": {
        "colab": {
          "base_uri": "https://localhost:8080/"
        },
        "id": "8LvZTucoYX4B",
        "outputId": "027524ca-4563-4169-eaec-80ba85da897d"
      },
      "execution_count": null,
      "outputs": [
        {
          "output_type": "stream",
          "name": "stderr",
          "text": [
            "/usr/local/lib/python3.10/dist-packages/transformers/optimization.py:591: FutureWarning: This implementation of AdamW is deprecated and will be removed in a future version. Use the PyTorch implementation torch.optim.AdamW instead, or set `no_deprecation_warning=True` to disable this warning\n",
            "  warnings.warn(\n"
          ]
        }
      ]
    },
    {
      "cell_type": "code",
      "source": [
        "def train_model():\n",
        "    model.train()\n",
        "    total_loss, total_correct = 0, 0\n",
        "    for batch in tqdm(train_loader):\n",
        "        batch = {key: val.to(device) for key, val in batch.items()}\n",
        "\n",
        "        outputs = model(\n",
        "            input_ids=batch[\"input_ids\"],\n",
        "            attention_mask=batch[\"attention_mask\"],\n",
        "            labels=batch[\"label\"]\n",
        "        )\n",
        "\n",
        "        loss = outputs.loss\n",
        "        logits = outputs.logits\n",
        "\n",
        "        optimizer.zero_grad()\n",
        "        loss.backward()\n",
        "        optimizer.step()\n",
        "        lr_scheduler.step()\n",
        "\n",
        "        total_loss += loss.item()\n",
        "        total_correct += (logits.argmax(dim=1) == batch[\"label\"]).sum().item()\n",
        "\n",
        "    avg_loss = total_loss / len(train_loader)\n",
        "    accuracy = total_correct / len(train_dataset)\n",
        "    print(f\"Training loss: {avg_loss:.4f}, Accuracy: {accuracy:.4f}\")"
      ],
      "metadata": {
        "id": "YId5zWYuYaoK"
      },
      "execution_count": null,
      "outputs": []
    },
    {
      "cell_type": "code",
      "source": [
        "def evaluate_model():\n",
        "    model.eval()\n",
        "    total_loss, total_correct = 0, 0\n",
        "    with torch.no_grad():\n",
        "        for batch in tqdm(val_loader):\n",
        "            batch = {key: val.to(device) for key, val in batch.items()}\n",
        "\n",
        "            outputs = model(\n",
        "                input_ids=batch[\"input_ids\"],\n",
        "                attention_mask=batch[\"attention_mask\"],\n",
        "                labels=batch[\"label\"]\n",
        "            )\n",
        "\n",
        "            loss = outputs.loss\n",
        "            logits = outputs.logits\n",
        "\n",
        "            total_loss += loss.item()\n",
        "            total_correct += (logits.argmax(dim=1) == batch[\"label\"]).sum().item()\n",
        "\n",
        "    avg_loss = total_loss / len(val_loader)\n",
        "    accuracy = total_correct / len(val_dataset)\n",
        "    print(f\"Validation loss: {avg_loss:.4f}, Accuracy: {accuracy:.4f}\")\n"
      ],
      "metadata": {
        "id": "-Y_9LCdJY7qi"
      },
      "execution_count": null,
      "outputs": []
    },
    {
      "cell_type": "code",
      "source": [
        "def evaluate_model():\n",
        "    model.eval()\n",
        "    all_labels, all_preds = [], []\n",
        "    with torch.no_grad():\n",
        "        for batch in tqdm(val_loader):\n",
        "            batch = {key: val.to(device) for key, val in batch.items()}\n",
        "            outputs = model(input_ids=batch[\"input_ids\"], attention_mask=batch[\"attention_mask\"])\n",
        "            logits = outputs.logits\n",
        "            preds = logits.argmax(dim=1).cpu().numpy()\n",
        "            labels = batch[\"label\"].cpu().numpy()\n",
        "            all_labels.extend(labels)\n",
        "            all_preds.extend(preds)\n",
        "\n",
        "    report = classification_report(all_labels, all_preds, target_names=list(LABEL_MAPPING.keys()))\n",
        "    print(report)"
      ],
      "metadata": {
        "id": "oeV5wLJutC_l"
      },
      "execution_count": null,
      "outputs": []
    },
    {
      "cell_type": "code",
      "source": [
        "for epoch in range(EPOCHS):\n",
        "    print(f\"Epoch {epoch + 1}/{EPOCHS}\")\n",
        "    train_model()\n",
        "    evaluate_model()\n"
      ],
      "metadata": {
        "colab": {
          "base_uri": "https://localhost:8080/"
        },
        "id": "eyOcBnwzY-Mq",
        "outputId": "dca637be-0002-4ca4-e9ad-db09c3c3a68c"
      },
      "execution_count": null,
      "outputs": [
        {
          "output_type": "stream",
          "name": "stdout",
          "text": [
            "Epoch 1/20\n"
          ]
        },
        {
          "output_type": "stream",
          "name": "stderr",
          "text": [
            "100%|██████████| 424/424 [02:30<00:00,  2.81it/s]\n"
          ]
        },
        {
          "output_type": "stream",
          "name": "stdout",
          "text": [
            "Training loss: 0.6841, Accuracy: 0.7619\n"
          ]
        },
        {
          "output_type": "stream",
          "name": "stderr",
          "text": [
            "100%|██████████| 97/97 [00:10<00:00,  9.18it/s]\n"
          ]
        },
        {
          "output_type": "stream",
          "name": "stdout",
          "text": [
            "Validation loss: 0.6555, Accuracy: 0.7828\n",
            "Epoch 2/20\n"
          ]
        },
        {
          "output_type": "stream",
          "name": "stderr",
          "text": [
            "100%|██████████| 424/424 [02:30<00:00,  2.82it/s]\n"
          ]
        },
        {
          "output_type": "stream",
          "name": "stdout",
          "text": [
            "Training loss: 0.4867, Accuracy: 0.8404\n"
          ]
        },
        {
          "output_type": "stream",
          "name": "stderr",
          "text": [
            "100%|██████████| 97/97 [00:10<00:00,  9.11it/s]\n"
          ]
        },
        {
          "output_type": "stream",
          "name": "stdout",
          "text": [
            "Validation loss: 0.5803, Accuracy: 0.8119\n",
            "Epoch 3/20\n"
          ]
        },
        {
          "output_type": "stream",
          "name": "stderr",
          "text": [
            "100%|██████████| 424/424 [02:30<00:00,  2.82it/s]\n"
          ]
        },
        {
          "output_type": "stream",
          "name": "stdout",
          "text": [
            "Training loss: 0.3711, Accuracy: 0.8796\n"
          ]
        },
        {
          "output_type": "stream",
          "name": "stderr",
          "text": [
            "100%|██████████| 97/97 [00:10<00:00,  9.11it/s]\n"
          ]
        },
        {
          "output_type": "stream",
          "name": "stdout",
          "text": [
            "Validation loss: 0.5716, Accuracy: 0.8216\n",
            "Epoch 4/20\n"
          ]
        },
        {
          "output_type": "stream",
          "name": "stderr",
          "text": [
            "100%|██████████| 424/424 [02:30<00:00,  2.82it/s]\n"
          ]
        },
        {
          "output_type": "stream",
          "name": "stdout",
          "text": [
            "Training loss: 0.3304, Accuracy: 0.8909\n"
          ]
        },
        {
          "output_type": "stream",
          "name": "stderr",
          "text": [
            "100%|██████████| 97/97 [00:10<00:00,  9.07it/s]\n"
          ]
        },
        {
          "output_type": "stream",
          "name": "stdout",
          "text": [
            "Validation loss: 0.5347, Accuracy: 0.8371\n",
            "Epoch 5/20\n"
          ]
        },
        {
          "output_type": "stream",
          "name": "stderr",
          "text": [
            "100%|██████████| 424/424 [02:30<00:00,  2.82it/s]\n"
          ]
        },
        {
          "output_type": "stream",
          "name": "stdout",
          "text": [
            "Training loss: 0.2739, Accuracy: 0.9091\n"
          ]
        },
        {
          "output_type": "stream",
          "name": "stderr",
          "text": [
            "100%|██████████| 97/97 [00:10<00:00,  9.16it/s]\n"
          ]
        },
        {
          "output_type": "stream",
          "name": "stdout",
          "text": [
            "Validation loss: 0.5399, Accuracy: 0.8416\n",
            "Epoch 6/20\n"
          ]
        },
        {
          "output_type": "stream",
          "name": "stderr",
          "text": [
            "100%|██████████| 424/424 [02:30<00:00,  2.82it/s]\n"
          ]
        },
        {
          "output_type": "stream",
          "name": "stdout",
          "text": [
            "Training loss: 0.2429, Accuracy: 0.9203\n"
          ]
        },
        {
          "output_type": "stream",
          "name": "stderr",
          "text": [
            "100%|██████████| 97/97 [00:10<00:00,  9.08it/s]\n"
          ]
        },
        {
          "output_type": "stream",
          "name": "stdout",
          "text": [
            "Validation loss: 0.5776, Accuracy: 0.8365\n",
            "Epoch 7/20\n"
          ]
        },
        {
          "output_type": "stream",
          "name": "stderr",
          "text": [
            "100%|██████████| 424/424 [02:30<00:00,  2.82it/s]\n"
          ]
        },
        {
          "output_type": "stream",
          "name": "stdout",
          "text": [
            "Training loss: 0.2159, Accuracy: 0.9291\n"
          ]
        },
        {
          "output_type": "stream",
          "name": "stderr",
          "text": [
            "100%|██████████| 97/97 [00:10<00:00,  9.09it/s]\n"
          ]
        },
        {
          "output_type": "stream",
          "name": "stdout",
          "text": [
            "Validation loss: 0.5697, Accuracy: 0.8442\n",
            "Epoch 8/20\n"
          ]
        },
        {
          "output_type": "stream",
          "name": "stderr",
          "text": [
            "100%|██████████| 424/424 [02:30<00:00,  2.82it/s]\n"
          ]
        },
        {
          "output_type": "stream",
          "name": "stdout",
          "text": [
            "Training loss: 0.1851, Accuracy: 0.9406\n"
          ]
        },
        {
          "output_type": "stream",
          "name": "stderr",
          "text": [
            "100%|██████████| 97/97 [00:10<00:00,  9.10it/s]\n"
          ]
        },
        {
          "output_type": "stream",
          "name": "stdout",
          "text": [
            "Validation loss: 0.5970, Accuracy: 0.8390\n",
            "Epoch 9/20\n"
          ]
        },
        {
          "output_type": "stream",
          "name": "stderr",
          "text": [
            "100%|██████████| 424/424 [02:30<00:00,  2.82it/s]\n"
          ]
        },
        {
          "output_type": "stream",
          "name": "stdout",
          "text": [
            "Training loss: 0.1571, Accuracy: 0.9481\n"
          ]
        },
        {
          "output_type": "stream",
          "name": "stderr",
          "text": [
            "100%|██████████| 97/97 [00:10<00:00,  9.05it/s]\n"
          ]
        },
        {
          "output_type": "stream",
          "name": "stdout",
          "text": [
            "Validation loss: 0.6181, Accuracy: 0.8197\n",
            "Epoch 10/20\n"
          ]
        },
        {
          "output_type": "stream",
          "name": "stderr",
          "text": [
            "100%|██████████| 424/424 [02:30<00:00,  2.82it/s]\n"
          ]
        },
        {
          "output_type": "stream",
          "name": "stdout",
          "text": [
            "Training loss: 0.1294, Accuracy: 0.9595\n"
          ]
        },
        {
          "output_type": "stream",
          "name": "stderr",
          "text": [
            "100%|██████████| 97/97 [00:10<00:00,  9.14it/s]\n"
          ]
        },
        {
          "output_type": "stream",
          "name": "stdout",
          "text": [
            "Validation loss: 0.6771, Accuracy: 0.8300\n",
            "Epoch 11/20\n"
          ]
        },
        {
          "output_type": "stream",
          "name": "stderr",
          "text": [
            "100%|██████████| 424/424 [02:30<00:00,  2.82it/s]\n"
          ]
        },
        {
          "output_type": "stream",
          "name": "stdout",
          "text": [
            "Training loss: 0.1100, Accuracy: 0.9645\n"
          ]
        },
        {
          "output_type": "stream",
          "name": "stderr",
          "text": [
            "100%|██████████| 97/97 [00:10<00:00,  9.08it/s]\n"
          ]
        },
        {
          "output_type": "stream",
          "name": "stdout",
          "text": [
            "Validation loss: 0.6857, Accuracy: 0.8339\n",
            "Epoch 12/20\n"
          ]
        },
        {
          "output_type": "stream",
          "name": "stderr",
          "text": [
            "100%|██████████| 424/424 [02:30<00:00,  2.82it/s]\n"
          ]
        },
        {
          "output_type": "stream",
          "name": "stdout",
          "text": [
            "Training loss: 0.0939, Accuracy: 0.9707\n"
          ]
        },
        {
          "output_type": "stream",
          "name": "stderr",
          "text": [
            "100%|██████████| 97/97 [00:10<00:00,  9.17it/s]\n"
          ]
        },
        {
          "output_type": "stream",
          "name": "stdout",
          "text": [
            "Validation loss: 0.7081, Accuracy: 0.8326\n",
            "Epoch 13/20\n"
          ]
        },
        {
          "output_type": "stream",
          "name": "stderr",
          "text": [
            "100%|██████████| 424/424 [02:30<00:00,  2.82it/s]\n"
          ]
        },
        {
          "output_type": "stream",
          "name": "stdout",
          "text": [
            "Training loss: 0.0797, Accuracy: 0.9752\n"
          ]
        },
        {
          "output_type": "stream",
          "name": "stderr",
          "text": [
            "100%|██████████| 97/97 [00:11<00:00,  8.64it/s]\n"
          ]
        },
        {
          "output_type": "stream",
          "name": "stdout",
          "text": [
            "Validation loss: 0.7407, Accuracy: 0.8300\n",
            "Epoch 14/20\n"
          ]
        },
        {
          "output_type": "stream",
          "name": "stderr",
          "text": [
            "100%|██████████| 424/424 [02:33<00:00,  2.77it/s]\n"
          ]
        },
        {
          "output_type": "stream",
          "name": "stdout",
          "text": [
            "Training loss: 0.0657, Accuracy: 0.9808\n"
          ]
        },
        {
          "output_type": "stream",
          "name": "stderr",
          "text": [
            "100%|██████████| 97/97 [00:10<00:00,  9.08it/s]\n"
          ]
        },
        {
          "output_type": "stream",
          "name": "stdout",
          "text": [
            "Validation loss: 0.7320, Accuracy: 0.8300\n",
            "Epoch 15/20\n"
          ]
        },
        {
          "output_type": "stream",
          "name": "stderr",
          "text": [
            "100%|██████████| 424/424 [02:30<00:00,  2.81it/s]\n"
          ]
        },
        {
          "output_type": "stream",
          "name": "stdout",
          "text": [
            "Training loss: 0.0577, Accuracy: 0.9830\n"
          ]
        },
        {
          "output_type": "stream",
          "name": "stderr",
          "text": [
            "100%|██████████| 97/97 [00:10<00:00,  9.15it/s]\n"
          ]
        },
        {
          "output_type": "stream",
          "name": "stdout",
          "text": [
            "Validation loss: 0.7352, Accuracy: 0.8358\n",
            "Epoch 16/20\n"
          ]
        },
        {
          "output_type": "stream",
          "name": "stderr",
          "text": [
            "100%|██████████| 424/424 [02:30<00:00,  2.82it/s]\n"
          ]
        },
        {
          "output_type": "stream",
          "name": "stdout",
          "text": [
            "Training loss: 0.0530, Accuracy: 0.9828\n"
          ]
        },
        {
          "output_type": "stream",
          "name": "stderr",
          "text": [
            "100%|██████████| 97/97 [00:10<00:00,  9.13it/s]\n"
          ]
        },
        {
          "output_type": "stream",
          "name": "stdout",
          "text": [
            "Validation loss: 0.7606, Accuracy: 0.8345\n",
            "Epoch 17/20\n"
          ]
        },
        {
          "output_type": "stream",
          "name": "stderr",
          "text": [
            "100%|██████████| 424/424 [02:30<00:00,  2.82it/s]\n"
          ]
        },
        {
          "output_type": "stream",
          "name": "stdout",
          "text": [
            "Training loss: 0.0464, Accuracy: 0.9864\n"
          ]
        },
        {
          "output_type": "stream",
          "name": "stderr",
          "text": [
            "100%|██████████| 97/97 [00:10<00:00,  9.14it/s]\n"
          ]
        },
        {
          "output_type": "stream",
          "name": "stdout",
          "text": [
            "Validation loss: 0.7672, Accuracy: 0.8339\n",
            "Epoch 18/20\n"
          ]
        },
        {
          "output_type": "stream",
          "name": "stderr",
          "text": [
            "100%|██████████| 424/424 [02:30<00:00,  2.82it/s]\n"
          ]
        },
        {
          "output_type": "stream",
          "name": "stdout",
          "text": [
            "Training loss: 0.0425, Accuracy: 0.9881\n"
          ]
        },
        {
          "output_type": "stream",
          "name": "stderr",
          "text": [
            "100%|██████████| 97/97 [00:10<00:00,  9.11it/s]\n"
          ]
        },
        {
          "output_type": "stream",
          "name": "stdout",
          "text": [
            "Validation loss: 0.7645, Accuracy: 0.8306\n",
            "Epoch 19/20\n"
          ]
        },
        {
          "output_type": "stream",
          "name": "stderr",
          "text": [
            "100%|██████████| 424/424 [02:30<00:00,  2.82it/s]\n"
          ]
        },
        {
          "output_type": "stream",
          "name": "stdout",
          "text": [
            "Training loss: 0.0363, Accuracy: 0.9915\n"
          ]
        },
        {
          "output_type": "stream",
          "name": "stderr",
          "text": [
            "100%|██████████| 97/97 [00:10<00:00,  9.18it/s]\n"
          ]
        },
        {
          "output_type": "stream",
          "name": "stdout",
          "text": [
            "Validation loss: 0.7667, Accuracy: 0.8352\n",
            "Epoch 20/20\n"
          ]
        },
        {
          "output_type": "stream",
          "name": "stderr",
          "text": [
            "100%|██████████| 424/424 [02:30<00:00,  2.82it/s]\n"
          ]
        },
        {
          "output_type": "stream",
          "name": "stdout",
          "text": [
            "Training loss: 0.0369, Accuracy: 0.9897\n"
          ]
        },
        {
          "output_type": "stream",
          "name": "stderr",
          "text": [
            "100%|██████████| 97/97 [00:10<00:00,  9.13it/s]"
          ]
        },
        {
          "output_type": "stream",
          "name": "stdout",
          "text": [
            "Validation loss: 0.7667, Accuracy: 0.8352\n"
          ]
        },
        {
          "output_type": "stream",
          "name": "stderr",
          "text": [
            "\n"
          ]
        }
      ]
    },
    {
      "cell_type": "markdown",
      "source": [
        "## RoBERTa Model Saving"
      ],
      "metadata": {
        "id": "9cUTehELHw4z"
      }
    },
    {
      "cell_type": "code",
      "source": [
        "model.save_pretrained(\"./roberta_emotion_model\")\n",
        "tokenizer.save_pretrained(\"./roberta_emotion_model\")"
      ],
      "metadata": {
        "colab": {
          "base_uri": "https://localhost:8080/"
        },
        "id": "rrNpMXKD3EEP",
        "outputId": "cae79fcc-9c88-416b-aac9-0c26d96db51c"
      },
      "execution_count": null,
      "outputs": [
        {
          "output_type": "execute_result",
          "data": {
            "text/plain": [
              "('./roberta_emotion_model/tokenizer_config.json',\n",
              " './roberta_emotion_model/special_tokens_map.json',\n",
              " './roberta_emotion_model/vocab.json',\n",
              " './roberta_emotion_model/merges.txt',\n",
              " './roberta_emotion_model/added_tokens.json')"
            ]
          },
          "metadata": {},
          "execution_count": 38
        }
      ]
    },
    {
      "cell_type": "code",
      "source": [
        "from google.colab import userdata\n",
        "from huggingface_hub import login\n",
        "from huggingface_hub import Repository\n",
        "\n",
        "# Initialize your model and tokenizer\n",
        "model = RobertaForSequenceClassification.from_pretrained(\"/content/roberta_emotion_model\")\n",
        "tokenizer = RobertaTokenizer.from_pretrained(\"/content/roberta_emotion_model\")\n",
        "\n",
        "# Create a directory to store your model and tokenizer\n",
        "repo_name = \"FadQ/Roberta-can-read-emotion\"\n",
        "repo = Repository(local_dir=repo_name, clone_from=repo_name)\n",
        "\n",
        "# Save the model and tokenizer to the directory\n",
        "model.save_pretrained(repo_name)\n",
        "tokenizer.save_pretrained(repo_name)\n",
        "\n",
        "\n",
        "# Push to Hugging Face Hub\n",
        "repo.push_to_hub(commit_message=\"Initial model upload\")"
      ],
      "metadata": {
        "id": "TaX6Bf67yIf3"
      },
      "execution_count": null,
      "outputs": []
    },
    {
      "cell_type": "code",
      "source": [
        "print(test_data[\"emotion\"].isnull().sum())  # Should be 0\n",
        "test_data.info()"
      ],
      "metadata": {
        "colab": {
          "base_uri": "https://localhost:8080/"
        },
        "id": "RhFBwV5I8miX",
        "outputId": "48b41ad6-467b-4ecb-b2c2-2c19dabe38d3"
      },
      "execution_count": null,
      "outputs": [
        {
          "output_type": "stream",
          "name": "stdout",
          "text": [
            "0\n",
            "<class 'pandas.core.frame.DataFrame'>\n",
            "RangeIndex: 1547 entries, 0 to 1546\n",
            "Data columns (total 2 columns):\n",
            " #   Column   Non-Null Count  Dtype \n",
            "---  ------   --------------  ----- \n",
            " 0   text     1547 non-null   object\n",
            " 1   emotion  1547 non-null   int64 \n",
            "dtypes: int64(1), object(1)\n",
            "memory usage: 24.3+ KB\n"
          ]
        }
      ]
    },
    {
      "cell_type": "markdown",
      "source": [
        "## Test roBERTa trained model with antoher data\n"
      ],
      "metadata": {
        "id": "u6ZgvlXRH4rj"
      }
    },
    {
      "cell_type": "markdown",
      "source": [
        "### Test Set"
      ],
      "metadata": {
        "id": "NoQhckeXIHWo"
      }
    },
    {
      "cell_type": "code",
      "source": [
        "def predict_emotion_batch(texts):\n",
        "    \"\"\"Predict emotions for a batch of texts.\"\"\"\n",
        "    encoding = tokenizer(\n",
        "        texts,\n",
        "        max_length=128,\n",
        "        padding=True,  # Batch padding\n",
        "        truncation=True,\n",
        "        return_tensors=\"pt\"\n",
        "    )\n",
        "\n",
        "    input_ids = encoding[\"input_ids\"].to('cuda' if torch.cuda.is_available() else 'cpu')\n",
        "    attention_mask = encoding[\"attention_mask\"].to('cuda' if torch.cuda.is_available() else 'cpu')\n",
        "\n",
        "    with torch.no_grad():\n",
        "        outputs = model(input_ids, attention_mask=attention_mask)\n",
        "        logits = outputs.logits\n",
        "        predictions = torch.argmax(logits, dim=1).cpu().numpy()\n",
        "\n",
        "    return predictions\n"
      ],
      "metadata": {
        "id": "QRMXwzp281LJ"
      },
      "execution_count": null,
      "outputs": []
    },
    {
      "cell_type": "code",
      "source": [
        "all_texts = test_data['text'].tolist()\n",
        "true_labels = test_data['emotion'].values\n",
        "\n",
        "# Predict in batches to avoid memory issues\n",
        "BATCH_SIZE = 16  # Can be adjusted depending on your hardware\n",
        "predicted_labels = []\n",
        "\n",
        "for i in range(0, len(all_texts), BATCH_SIZE):\n",
        "    batch_texts = all_texts[i:i + BATCH_SIZE]\n",
        "    batch_predictions = predict_emotion_batch(batch_texts)\n",
        "    predicted_labels.extend(batch_predictions)\n",
        "\n",
        "# Step 5: Calculate accuracy\n",
        "accuracy = (np.array(predicted_labels) == true_labels).mean()\n",
        "print(f\"Test Accuracy: {accuracy * 100:.2f}%\")"
      ],
      "metadata": {
        "colab": {
          "base_uri": "https://localhost:8080/"
        },
        "id": "0pr0zvTR88Gf",
        "outputId": "2e05f12e-21d2-430d-82cd-a5441eb81a5f"
      },
      "execution_count": null,
      "outputs": [
        {
          "output_type": "stream",
          "name": "stdout",
          "text": [
            "Test Accuracy: 84.16%\n"
          ]
        }
      ]
    },
    {
      "cell_type": "markdown",
      "source": [
        "### Input Teks"
      ],
      "metadata": {
        "id": "sPuT19GIIL1U"
      }
    },
    {
      "cell_type": "code",
      "source": [
        "MODEL_DIR = \"roberta-base\"\n",
        "# Load the model and tokenizer\n",
        "tokenizer = RobertaTokenizer.from_pretrained(MODEL_DIR)\n",
        "model_input = RobertaForSequenceClassification.from_pretrained(MODEL_DIR)\n",
        "model_input.eval()  # Set to evaluation mode\n",
        "\n",
        "\n",
        "LABEL_MAPPING = {\n",
        "    0: 'sadness',\n",
        "    1: 'surprise',\n",
        "    2: 'joy',\n",
        "    3: 'love',\n",
        "    4: 'anger',\n",
        "    5: 'fear'\n",
        "}\n",
        "\n",
        "def predict_emotion(diary_text):\n",
        "    \"\"\"Predicts the emotion for a given diary text.\"\"\"\n",
        "    encoding = tokenizer(\n",
        "        diary_text,\n",
        "        max_length=128,\n",
        "        padding=\"max_length\",\n",
        "        truncation=True,\n",
        "        return_tensors=\"pt\"\n",
        "    )\n",
        "\n",
        "    input_ids = encoding[\"input_ids\"]\n",
        "    attention_mask = encoding[\"attention_mask\"]\n",
        "\n",
        "    with torch.no_grad():\n",
        "        outputs = model_input(input_ids, attention_mask=attention_mask)\n",
        "        logits = outputs.logits\n",
        "        predicted_class = torch.argmax(logits, dim=1).item()\n",
        "        predicted_emotion = LABEL_MAPPING[predicted_class]\n",
        "\n",
        "    return predicted_emotion\n",
        "\n",
        "\n",
        "# Input a diary text and predict its emotion\n",
        "diary_text = input(\"Enter your diary text: \")\n",
        "predicted_emotion = predict_emotion(diary_text)\n",
        "print(f\"The predicted emotion is: {predicted_emotion}\")"
      ],
      "metadata": {
        "colab": {
          "base_uri": "https://localhost:8080/"
        },
        "id": "an5I486DZH47",
        "outputId": "1698398a-2baa-4853-e7a6-72a62fd5cc52"
      },
      "execution_count": null,
      "outputs": [
        {
          "output_type": "stream",
          "name": "stderr",
          "text": [
            "Some weights of RobertaForSequenceClassification were not initialized from the model checkpoint at roberta-base and are newly initialized: ['classifier.dense.bias', 'classifier.dense.weight', 'classifier.out_proj.bias', 'classifier.out_proj.weight']\n",
            "You should probably TRAIN this model on a down-stream task to be able to use it for predictions and inference.\n"
          ]
        },
        {
          "output_type": "stream",
          "name": "stdout",
          "text": [
            "Enter your diary text: Diary  Tanggal: 14 Desember 2024  Hari ini aku sedih, uangku tambah banyak.namun aku bingung mau menghabiskan bagaimana. kemudian temanku datang dan dipalak   End of Diary.\n",
            "The predicted emotion is: sadness\n"
          ]
        }
      ]
    },
    {
      "cell_type": "code",
      "source": [
        "import shutil\n",
        "\n",
        "# Specify the folder to zip\n",
        "folder_to_zip = 'roberta_emotion_model'\n",
        "\n",
        "# Create a zip file\n",
        "shutil.make_archive('roberta_model', 'zip', folder_to_zip)"
      ],
      "metadata": {
        "colab": {
          "base_uri": "https://localhost:8080/",
          "height": 36
        },
        "id": "vVxVBdGkIHAF",
        "outputId": "d6434907-8255-4669-97c8-9f2a7a3f1f11"
      },
      "execution_count": null,
      "outputs": [
        {
          "output_type": "execute_result",
          "data": {
            "text/plain": [
              "'/content/teks-emo-analysis/roberta_model.zip'"
            ],
            "application/vnd.google.colaboratory.intrinsic+json": {
              "type": "string"
            }
          },
          "metadata": {},
          "execution_count": 102
        }
      ]
    },
    {
      "cell_type": "code",
      "source": [
        "!git rm -r roberta_emotion_model"
      ],
      "metadata": {
        "colab": {
          "base_uri": "https://localhost:8080/"
        },
        "id": "UC9wtYTsKImL",
        "outputId": "8cb5c635-50a0-48e6-b364-0eaa8b704b52"
      },
      "execution_count": null,
      "outputs": [
        {
          "output_type": "stream",
          "name": "stdout",
          "text": [
            "rm 'roberta_emotion_model/merges.txt'\n",
            "rm 'roberta_emotion_model/model.safetensors'\n",
            "rm 'roberta_emotion_model/special_tokens_map.json'\n",
            "rm 'roberta_emotion_model/tokenizer_config.json'\n",
            "rm 'roberta_emotion_model/vocab.json'\n"
          ]
        }
      ]
    },
    {
      "cell_type": "code",
      "source": [
        "from google.colab import files\n",
        "\n",
        "# Download the zip file\n",
        "files.download('roberta_model.zip')"
      ],
      "metadata": {
        "colab": {
          "base_uri": "https://localhost:8080/",
          "height": 34
        },
        "id": "jPKnHPHbKPz4",
        "outputId": "ec63c499-dbf5-4452-9d92-5fcbe43ae8ce"
      },
      "execution_count": null,
      "outputs": [
        {
          "output_type": "display_data",
          "data": {
            "text/plain": [
              "<IPython.core.display.Javascript object>"
            ],
            "application/javascript": [
              "\n",
              "    async function download(id, filename, size) {\n",
              "      if (!google.colab.kernel.accessAllowed) {\n",
              "        return;\n",
              "      }\n",
              "      const div = document.createElement('div');\n",
              "      const label = document.createElement('label');\n",
              "      label.textContent = `Downloading \"${filename}\": `;\n",
              "      div.appendChild(label);\n",
              "      const progress = document.createElement('progress');\n",
              "      progress.max = size;\n",
              "      div.appendChild(progress);\n",
              "      document.body.appendChild(div);\n",
              "\n",
              "      const buffers = [];\n",
              "      let downloaded = 0;\n",
              "\n",
              "      const channel = await google.colab.kernel.comms.open(id);\n",
              "      // Send a message to notify the kernel that we're ready.\n",
              "      channel.send({})\n",
              "\n",
              "      for await (const message of channel.messages) {\n",
              "        // Send a message to notify the kernel that we're ready.\n",
              "        channel.send({})\n",
              "        if (message.buffers) {\n",
              "          for (const buffer of message.buffers) {\n",
              "            buffers.push(buffer);\n",
              "            downloaded += buffer.byteLength;\n",
              "            progress.value = downloaded;\n",
              "          }\n",
              "        }\n",
              "      }\n",
              "      const blob = new Blob(buffers, {type: 'application/binary'});\n",
              "      const a = document.createElement('a');\n",
              "      a.href = window.URL.createObjectURL(blob);\n",
              "      a.download = filename;\n",
              "      div.appendChild(a);\n",
              "      a.click();\n",
              "      div.remove();\n",
              "    }\n",
              "  "
            ]
          },
          "metadata": {}
        },
        {
          "output_type": "display_data",
          "data": {
            "text/plain": [
              "<IPython.core.display.Javascript object>"
            ],
            "application/javascript": [
              "download(\"download_501f03ec-c5c2-437e-821c-ede1cb09a5cb\", \"roberta_model.zip\", 423825218)"
            ]
          },
          "metadata": {}
        }
      ]
    },
    {
      "cell_type": "code",
      "source": [
        "!du -sh roberta_model.zip"
      ],
      "metadata": {
        "colab": {
          "base_uri": "https://localhost:8080/"
        },
        "id": "dk_BHLrYL-wf",
        "outputId": "bc6c24e2-16e8-45bf-c905-6718bcf0d976"
      },
      "execution_count": null,
      "outputs": [
        {
          "output_type": "stream",
          "name": "stdout",
          "text": [
            "405M\troberta_model.zip\n"
          ]
        }
      ]
    },
    {
      "cell_type": "code",
      "source": [
        "from google.colab import drive\n",
        "drive.mount('/content/drive')\n",
        "shutil.move('roberta_model.zip', '/content/drive/MyDrive/')"
      ],
      "metadata": {
        "colab": {
          "base_uri": "https://localhost:8080/",
          "height": 54
        },
        "id": "M-wiXJnjK3ci",
        "outputId": "31490558-f157-412a-9ecf-09533e83bea9"
      },
      "execution_count": null,
      "outputs": [
        {
          "output_type": "stream",
          "name": "stdout",
          "text": [
            "Mounted at /content/drive\n"
          ]
        },
        {
          "output_type": "execute_result",
          "data": {
            "text/plain": [
              "'/content/drive/MyDrive/roberta_model.zip'"
            ],
            "application/vnd.google.colaboratory.intrinsic+json": {
              "type": "string"
            }
          },
          "metadata": {},
          "execution_count": 109
        }
      ]
    },
    {
      "cell_type": "markdown",
      "source": [
        "# Fine Tune Gemma with Counseling Dataset"
      ],
      "metadata": {
        "id": "U69GQ8n6IRKE"
      }
    },
    {
      "cell_type": "code",
      "source": [
        "%pip install -U -q datasets trl bitsandbytes transformers accelerate peft wandb gradio"
      ],
      "metadata": {
        "id": "SMI10vDSUXwF",
        "colab": {
          "base_uri": "https://localhost:8080/"
        },
        "outputId": "f51970b5-35e3-4c25-d3e8-162095093e7e"
      },
      "execution_count": null,
      "outputs": [
        {
          "output_type": "stream",
          "name": "stdout",
          "text": [
            "\u001b[2K     \u001b[90m━━━━━━━━━━━━━━━━━━━━━━━━━━━━━━━━━━━━━━━━\u001b[0m \u001b[32m43.5/43.5 kB\u001b[0m \u001b[31m2.8 MB/s\u001b[0m eta \u001b[36m0:00:00\u001b[0m\n",
            "\u001b[2K   \u001b[90m━━━━━━━━━━━━━━━━━━━━━━━━━━━━━━━━━━━━━━━━\u001b[0m \u001b[32m480.6/480.6 kB\u001b[0m \u001b[31m16.2 MB/s\u001b[0m eta \u001b[36m0:00:00\u001b[0m\n",
            "\u001b[2K   \u001b[90m━━━━━━━━━━━━━━━━━━━━━━━━━━━━━━━━━━━━━━━━\u001b[0m \u001b[32m365.7/365.7 kB\u001b[0m \u001b[31m27.1 MB/s\u001b[0m eta \u001b[36m0:00:00\u001b[0m\n",
            "\u001b[2K   \u001b[90m━━━━━━━━━━━━━━━━━━━━━━━━━━━━━━━━━━━━━━━━\u001b[0m \u001b[32m69.1/69.1 MB\u001b[0m \u001b[31m16.4 MB/s\u001b[0m eta \u001b[36m0:00:00\u001b[0m\n",
            "\u001b[2K   \u001b[90m━━━━━━━━━━━━━━━━━━━━━━━━━━━━━━━━━━━━━━━━\u001b[0m \u001b[32m336.4/336.4 kB\u001b[0m \u001b[31m23.2 MB/s\u001b[0m eta \u001b[36m0:00:00\u001b[0m\n",
            "\u001b[2K   \u001b[90m━━━━━━━━━━━━━━━━━━━━━━━━━━━━━━━━━━━━━━━━\u001b[0m \u001b[32m374.8/374.8 kB\u001b[0m \u001b[31m30.1 MB/s\u001b[0m eta \u001b[36m0:00:00\u001b[0m\n",
            "\u001b[2K   \u001b[90m━━━━━━━━━━━━━━━━━━━━━━━━━━━━━━━━━━━━━━━━\u001b[0m \u001b[32m20.0/20.0 MB\u001b[0m \u001b[31m94.6 MB/s\u001b[0m eta \u001b[36m0:00:00\u001b[0m\n",
            "\u001b[2K   \u001b[90m━━━━━━━━━━━━━━━━━━━━━━━━━━━━━━━━━━━━━━━━\u001b[0m \u001b[32m57.2/57.2 MB\u001b[0m \u001b[31m11.1 MB/s\u001b[0m eta \u001b[36m0:00:00\u001b[0m\n",
            "\u001b[2K   \u001b[90m━━━━━━━━━━━━━━━━━━━━━━━━━━━━━━━━━━━━━━━━\u001b[0m \u001b[32m320.4/320.4 kB\u001b[0m \u001b[31m24.9 MB/s\u001b[0m eta \u001b[36m0:00:00\u001b[0m\n",
            "\u001b[2K   \u001b[90m━━━━━━━━━━━━━━━━━━━━━━━━━━━━━━━━━━━━━━━━\u001b[0m \u001b[32m116.3/116.3 kB\u001b[0m \u001b[31m11.2 MB/s\u001b[0m eta \u001b[36m0:00:00\u001b[0m\n",
            "\u001b[2K   \u001b[90m━━━━━━━━━━━━━━━━━━━━━━━━━━━━━━━━━━━━━━━━\u001b[0m \u001b[32m94.8/94.8 kB\u001b[0m \u001b[31m8.6 MB/s\u001b[0m eta \u001b[36m0:00:00\u001b[0m\n",
            "\u001b[2K   \u001b[90m━━━━━━━━━━━━━━━━━━━━━━━━━━━━━━━━━━━━━━━━\u001b[0m \u001b[32m179.3/179.3 kB\u001b[0m \u001b[31m16.2 MB/s\u001b[0m eta \u001b[36m0:00:00\u001b[0m\n",
            "\u001b[2K   \u001b[90m━━━━━━━━━━━━━━━━━━━━━━━━━━━━━━━━━━━━━━━━\u001b[0m \u001b[32m134.8/134.8 kB\u001b[0m \u001b[31m13.8 MB/s\u001b[0m eta \u001b[36m0:00:00\u001b[0m\n",
            "\u001b[2K   \u001b[90m━━━━━━━━━━━━━━━━━━━━━━━━━━━━━━━━━━━━━━━━\u001b[0m \u001b[32m11.2/11.2 MB\u001b[0m \u001b[31m111.5 MB/s\u001b[0m eta \u001b[36m0:00:00\u001b[0m\n",
            "\u001b[2K   \u001b[90m━━━━━━━━━━━━━━━━━━━━━━━━━━━━━━━━━━━━━━━━\u001b[0m \u001b[32m73.2/73.2 kB\u001b[0m \u001b[31m7.3 MB/s\u001b[0m eta \u001b[36m0:00:00\u001b[0m\n",
            "\u001b[2K   \u001b[90m━━━━━━━━━━━━━━━━━━━━━━━━━━━━━━━━━━━━━━━━\u001b[0m \u001b[32m63.8/63.8 kB\u001b[0m \u001b[31m6.6 MB/s\u001b[0m eta \u001b[36m0:00:00\u001b[0m\n",
            "\u001b[2K   \u001b[90m━━━━━━━━━━━━━━━━━━━━━━━━━━━━━━━━━━━━━━━━\u001b[0m \u001b[32m194.1/194.1 kB\u001b[0m \u001b[31m19.1 MB/s\u001b[0m eta \u001b[36m0:00:00\u001b[0m\n",
            "\u001b[?25h\u001b[31mERROR: pip's dependency resolver does not currently take into account all the packages that are installed. This behaviour is the source of the following dependency conflicts.\n",
            "gcsfs 2024.10.0 requires fsspec==2024.10.0, but you have fsspec 2024.9.0 which is incompatible.\u001b[0m\u001b[31m\n",
            "\u001b[0m"
          ]
        }
      ]
    },
    {
      "cell_type": "code",
      "source": [
        "!pip uninstall bitsandbytes"
      ],
      "metadata": {
        "colab": {
          "base_uri": "https://localhost:8080/"
        },
        "id": "kAuEx0PPCFDV",
        "outputId": "7f8b2266-6faa-435f-d432-5aaebc50f2b4"
      },
      "execution_count": null,
      "outputs": [
        {
          "output_type": "stream",
          "name": "stdout",
          "text": [
            "Found existing installation: bitsandbytes 0.45.0\n",
            "Uninstalling bitsandbytes-0.45.0:\n",
            "  Would remove:\n",
            "    /usr/local/lib/python3.10/dist-packages/bitsandbytes-0.45.0.dist-info/*\n",
            "    /usr/local/lib/python3.10/dist-packages/bitsandbytes/*\n",
            "    /usr/local/lib/python3.10/dist-packages/tests/*\n",
            "  Would not remove (might be manually added):\n",
            "    /usr/local/lib/python3.10/dist-packages/tests/slow/__init__.py\n",
            "    /usr/local/lib/python3.10/dist-packages/tests/slow/test_dpo_slow.py\n",
            "    /usr/local/lib/python3.10/dist-packages/tests/slow/test_sft_slow.py\n",
            "    /usr/local/lib/python3.10/dist-packages/tests/slow/testing_constants.py\n",
            "    /usr/local/lib/python3.10/dist-packages/tests/test_best_of_n_sampler.py\n",
            "    /usr/local/lib/python3.10/dist-packages/tests/test_cli.py\n",
            "    /usr/local/lib/python3.10/dist-packages/tests/test_core.py\n",
            "    /usr/local/lib/python3.10/dist-packages/tests/test_cpo_trainer.py\n",
            "    /usr/local/lib/python3.10/dist-packages/tests/test_data_collator_completion_only.py\n",
            "    /usr/local/lib/python3.10/dist-packages/tests/test_dataset_formatting.py\n",
            "    /usr/local/lib/python3.10/dist-packages/tests/test_ddpo_trainer.py\n",
            "    /usr/local/lib/python3.10/dist-packages/tests/test_dpo_trainer.py\n",
            "    /usr/local/lib/python3.10/dist-packages/tests/test_e2e.py\n",
            "    /usr/local/lib/python3.10/dist-packages/tests/test_environments.py\n",
            "    /usr/local/lib/python3.10/dist-packages/tests/test_iterative_sft_trainer.py\n",
            "    /usr/local/lib/python3.10/dist-packages/tests/test_kto_trainer.py\n",
            "    /usr/local/lib/python3.10/dist-packages/tests/test_modeling_value_head.py\n",
            "    /usr/local/lib/python3.10/dist-packages/tests/test_no_peft.py\n",
            "    /usr/local/lib/python3.10/dist-packages/tests/test_orpo_trainer.py\n",
            "    /usr/local/lib/python3.10/dist-packages/tests/test_peft_models.py\n",
            "    /usr/local/lib/python3.10/dist-packages/tests/test_ppo_trainer.py\n",
            "    /usr/local/lib/python3.10/dist-packages/tests/test_reward_trainer.py\n",
            "    /usr/local/lib/python3.10/dist-packages/tests/test_rich_progress_callback.py\n",
            "    /usr/local/lib/python3.10/dist-packages/tests/test_sft_trainer.py\n",
            "    /usr/local/lib/python3.10/dist-packages/tests/testing_constants.py\n",
            "    /usr/local/lib/python3.10/dist-packages/tests/testing_utils.py\n",
            "Proceed (Y/n)? y\n",
            "  Successfully uninstalled bitsandbytes-0.45.0\n"
          ]
        }
      ]
    },
    {
      "cell_type": "code",
      "source": [
        "!pip install -U bitsandbytes\n",
        "!pip install -U transformers\n",
        "!pip install torch --upgrade"
      ],
      "metadata": {
        "colab": {
          "base_uri": "https://localhost:8080/",
          "height": 1000
        },
        "id": "odfBhM93B0Sk",
        "outputId": "90c382be-bfe7-4a8a-c97d-6375e23ea6f6"
      },
      "execution_count": null,
      "outputs": [
        {
          "output_type": "stream",
          "name": "stdout",
          "text": [
            "Collecting bitsandbytes\n",
            "  Using cached bitsandbytes-0.45.0-py3-none-manylinux_2_24_x86_64.whl.metadata (2.9 kB)\n",
            "Requirement already satisfied: torch in /usr/local/lib/python3.10/dist-packages (from bitsandbytes) (2.5.1+cu121)\n",
            "Requirement already satisfied: numpy in /usr/local/lib/python3.10/dist-packages (from bitsandbytes) (1.26.4)\n",
            "Requirement already satisfied: typing_extensions>=4.8.0 in /usr/local/lib/python3.10/dist-packages (from bitsandbytes) (4.12.2)\n",
            "Requirement already satisfied: filelock in /usr/local/lib/python3.10/dist-packages (from torch->bitsandbytes) (3.16.1)\n",
            "Requirement already satisfied: networkx in /usr/local/lib/python3.10/dist-packages (from torch->bitsandbytes) (3.4.2)\n",
            "Requirement already satisfied: jinja2 in /usr/local/lib/python3.10/dist-packages (from torch->bitsandbytes) (3.1.4)\n",
            "Requirement already satisfied: fsspec in /usr/local/lib/python3.10/dist-packages (from torch->bitsandbytes) (2024.9.0)\n",
            "Requirement already satisfied: sympy==1.13.1 in /usr/local/lib/python3.10/dist-packages (from torch->bitsandbytes) (1.13.1)\n",
            "Requirement already satisfied: mpmath<1.4,>=1.1.0 in /usr/local/lib/python3.10/dist-packages (from sympy==1.13.1->torch->bitsandbytes) (1.3.0)\n",
            "Requirement already satisfied: MarkupSafe>=2.0 in /usr/local/lib/python3.10/dist-packages (from jinja2->torch->bitsandbytes) (2.1.5)\n",
            "Using cached bitsandbytes-0.45.0-py3-none-manylinux_2_24_x86_64.whl (69.1 MB)\n",
            "Installing collected packages: bitsandbytes\n",
            "Successfully installed bitsandbytes-0.45.0\n",
            "Requirement already satisfied: transformers in /usr/local/lib/python3.10/dist-packages (4.46.3)\n",
            "Collecting transformers\n",
            "  Using cached transformers-4.47.0-py3-none-any.whl.metadata (43 kB)\n",
            "Requirement already satisfied: filelock in /usr/local/lib/python3.10/dist-packages (from transformers) (3.16.1)\n",
            "Requirement already satisfied: huggingface-hub<1.0,>=0.24.0 in /usr/local/lib/python3.10/dist-packages (from transformers) (0.26.5)\n",
            "Requirement already satisfied: numpy>=1.17 in /usr/local/lib/python3.10/dist-packages (from transformers) (1.26.4)\n",
            "Requirement already satisfied: packaging>=20.0 in /usr/local/lib/python3.10/dist-packages (from transformers) (24.2)\n",
            "Requirement already satisfied: pyyaml>=5.1 in /usr/local/lib/python3.10/dist-packages (from transformers) (6.0.2)\n",
            "Requirement already satisfied: regex!=2019.12.17 in /usr/local/lib/python3.10/dist-packages (from transformers) (2024.9.11)\n",
            "Requirement already satisfied: requests in /usr/local/lib/python3.10/dist-packages (from transformers) (2.32.3)\n",
            "Collecting tokenizers<0.22,>=0.21 (from transformers)\n",
            "  Downloading tokenizers-0.21.0-cp39-abi3-manylinux_2_17_x86_64.manylinux2014_x86_64.whl.metadata (6.7 kB)\n",
            "Requirement already satisfied: safetensors>=0.4.1 in /usr/local/lib/python3.10/dist-packages (from transformers) (0.4.5)\n",
            "Requirement already satisfied: tqdm>=4.27 in /usr/local/lib/python3.10/dist-packages (from transformers) (4.66.6)\n",
            "Requirement already satisfied: fsspec>=2023.5.0 in /usr/local/lib/python3.10/dist-packages (from huggingface-hub<1.0,>=0.24.0->transformers) (2024.9.0)\n",
            "Requirement already satisfied: typing-extensions>=3.7.4.3 in /usr/local/lib/python3.10/dist-packages (from huggingface-hub<1.0,>=0.24.0->transformers) (4.12.2)\n",
            "Requirement already satisfied: charset-normalizer<4,>=2 in /usr/local/lib/python3.10/dist-packages (from requests->transformers) (3.4.0)\n",
            "Requirement already satisfied: idna<4,>=2.5 in /usr/local/lib/python3.10/dist-packages (from requests->transformers) (3.10)\n",
            "Requirement already satisfied: urllib3<3,>=1.21.1 in /usr/local/lib/python3.10/dist-packages (from requests->transformers) (2.2.3)\n",
            "Requirement already satisfied: certifi>=2017.4.17 in /usr/local/lib/python3.10/dist-packages (from requests->transformers) (2024.8.30)\n",
            "Downloading transformers-4.47.0-py3-none-any.whl (10.1 MB)\n",
            "\u001b[2K   \u001b[90m━━━━━━━━━━━━━━━━━━━━━━━━━━━━━━━━━━━━━━━━\u001b[0m \u001b[32m10.1/10.1 MB\u001b[0m \u001b[31m42.1 MB/s\u001b[0m eta \u001b[36m0:00:00\u001b[0m\n",
            "\u001b[?25hDownloading tokenizers-0.21.0-cp39-abi3-manylinux_2_17_x86_64.manylinux2014_x86_64.whl (3.0 MB)\n",
            "\u001b[2K   \u001b[90m━━━━━━━━━━━━━━━━━━━━━━━━━━━━━━━━━━━━━━━━\u001b[0m \u001b[32m3.0/3.0 MB\u001b[0m \u001b[31m83.7 MB/s\u001b[0m eta \u001b[36m0:00:00\u001b[0m\n",
            "\u001b[?25hInstalling collected packages: tokenizers, transformers\n",
            "  Attempting uninstall: tokenizers\n",
            "    Found existing installation: tokenizers 0.20.3\n",
            "    Uninstalling tokenizers-0.20.3:\n",
            "      Successfully uninstalled tokenizers-0.20.3\n",
            "  Attempting uninstall: transformers\n",
            "    Found existing installation: transformers 4.46.3\n",
            "    Uninstalling transformers-4.46.3:\n",
            "      Successfully uninstalled transformers-4.46.3\n",
            "\u001b[31mERROR: pip's dependency resolver does not currently take into account all the packages that are installed. This behaviour is the source of the following dependency conflicts.\n",
            "trl 0.12.2 requires transformers<4.47.0, but you have transformers 4.47.0 which is incompatible.\u001b[0m\u001b[31m\n",
            "\u001b[0mSuccessfully installed tokenizers-0.21.0 transformers-4.47.0\n"
          ]
        },
        {
          "output_type": "display_data",
          "data": {
            "application/vnd.colab-display-data+json": {
              "pip_warning": {
                "packages": [
                  "transformers"
                ]
              },
              "id": "007298b7e319468395a23f33df11851a"
            }
          },
          "metadata": {}
        },
        {
          "output_type": "stream",
          "name": "stdout",
          "text": [
            "Requirement already satisfied: torch in /usr/local/lib/python3.10/dist-packages (2.5.1+cu121)\n",
            "Requirement already satisfied: filelock in /usr/local/lib/python3.10/dist-packages (from torch) (3.16.1)\n",
            "Requirement already satisfied: typing-extensions>=4.8.0 in /usr/local/lib/python3.10/dist-packages (from torch) (4.12.2)\n",
            "Requirement already satisfied: networkx in /usr/local/lib/python3.10/dist-packages (from torch) (3.4.2)\n",
            "Requirement already satisfied: jinja2 in /usr/local/lib/python3.10/dist-packages (from torch) (3.1.4)\n",
            "Requirement already satisfied: fsspec in /usr/local/lib/python3.10/dist-packages (from torch) (2024.9.0)\n",
            "Requirement already satisfied: sympy==1.13.1 in /usr/local/lib/python3.10/dist-packages (from torch) (1.13.1)\n",
            "Requirement already satisfied: mpmath<1.4,>=1.1.0 in /usr/local/lib/python3.10/dist-packages (from sympy==1.13.1->torch) (1.3.0)\n",
            "Requirement already satisfied: MarkupSafe>=2.0 in /usr/local/lib/python3.10/dist-packages (from jinja2->torch) (2.1.5)\n"
          ]
        }
      ]
    },
    {
      "cell_type": "markdown",
      "source": [
        "## LLM Setup and Paramater Tuning wih QLORA"
      ],
      "metadata": {
        "id": "va71vuL0I46U"
      }
    },
    {
      "cell_type": "markdown",
      "source": [
        "### Library Import"
      ],
      "metadata": {
        "id": "LFp7qFaqJvcO"
      }
    },
    {
      "cell_type": "code",
      "source": [
        "from transformers import (\n",
        "    AutoModelForCausalLM,\n",
        "    AutoTokenizer,\n",
        "    BitsAndBytesConfig,\n",
        "    HfArgumentParser,\n",
        "    TrainingArguments,\n",
        "    pipeline,\n",
        "    logging,\n",
        ")\n",
        "from peft import (\n",
        "    LoraConfig,\n",
        "    PeftModel,\n",
        "    prepare_model_for_kbit_training,\n",
        "    get_peft_model,\n",
        ")\n",
        "import os, torch, wandb\n",
        "from datasets import load_dataset\n",
        "from trl import SFTTrainer, SFTConfig\n",
        "\n",
        "from google.colab import userdata\n",
        "from huggingface_hub import login"
      ],
      "metadata": {
        "id": "nAeSdZTL6i2d"
      },
      "execution_count": null,
      "outputs": []
    },
    {
      "cell_type": "markdown",
      "source": [
        "### WandB and Hugging Face Setup"
      ],
      "metadata": {
        "id": "0IT9M-V1Jyfr"
      }
    },
    {
      "cell_type": "code",
      "source": [
        "hf_token = userdata.get(\"HF_SECRET\")\n",
        "wb_token = userdata.get(\"WB_SECRET\")\n",
        "\n",
        "login(token=hf_token)\n",
        "wandb.login(key=wb_token)\n",
        "\n",
        "run = wandb.init(\n",
        "    project=\"Fine-tune Gemma 2B on Mental-Console Chatbot Dataset\",\n",
        "    job_type=\"training\",\n",
        "    anonymous=\"allow\"\n",
        ")"
      ],
      "metadata": {
        "colab": {
          "base_uri": "https://localhost:8080/",
          "height": 196
        },
        "id": "e8nvhtVC8y86",
        "outputId": "ff077b73-14ac-4fd4-b766-de0a32086bdc"
      },
      "execution_count": null,
      "outputs": [
        {
          "output_type": "stream",
          "name": "stderr",
          "text": [
            "\u001b[34m\u001b[1mwandb\u001b[0m: Using wandb-core as the SDK backend.  Please refer to https://wandb.me/wandb-core for more information.\n",
            "\u001b[34m\u001b[1mwandb\u001b[0m: Currently logged in as: \u001b[33mfadhileq28\u001b[0m (\u001b[33mfadhileq28-universitas-muhammadiyah-surakarta\u001b[0m). Use \u001b[1m`wandb login --relogin`\u001b[0m to force relogin\n",
            "\u001b[34m\u001b[1mwandb\u001b[0m: \u001b[33mWARNING\u001b[0m If you're specifying your api key in code, ensure this code is not shared publicly.\n",
            "\u001b[34m\u001b[1mwandb\u001b[0m: \u001b[33mWARNING\u001b[0m Consider setting the WANDB_API_KEY environment variable, or running `wandb login` from the command line.\n",
            "\u001b[34m\u001b[1mwandb\u001b[0m: Appending key for api.wandb.ai to your netrc file: /root/.netrc\n"
          ]
        },
        {
          "output_type": "display_data",
          "data": {
            "text/plain": [
              "<IPython.core.display.HTML object>"
            ],
            "text/html": [
              "Tracking run with wandb version 0.19.1"
            ]
          },
          "metadata": {}
        },
        {
          "output_type": "display_data",
          "data": {
            "text/plain": [
              "<IPython.core.display.HTML object>"
            ],
            "text/html": [
              "Run data is saved locally in <code>/content/wandb/run-20241214_105446-mbaoc3r9</code>"
            ]
          },
          "metadata": {}
        },
        {
          "output_type": "display_data",
          "data": {
            "text/plain": [
              "<IPython.core.display.HTML object>"
            ],
            "text/html": [
              "Syncing run <strong><a href='https://wandb.ai/fadhileq28-universitas-muhammadiyah-surakarta/Fine-tune%20Gemma%202B%20on%20Mental-Console%20Chatbot%20Dataset/runs/mbaoc3r9' target=\"_blank\">grateful-mountain-3</a></strong> to <a href='https://wandb.ai/fadhileq28-universitas-muhammadiyah-surakarta/Fine-tune%20Gemma%202B%20on%20Mental-Console%20Chatbot%20Dataset' target=\"_blank\">Weights & Biases</a> (<a href='https://wandb.me/developer-guide' target=\"_blank\">docs</a>)<br>"
            ]
          },
          "metadata": {}
        },
        {
          "output_type": "display_data",
          "data": {
            "text/plain": [
              "<IPython.core.display.HTML object>"
            ],
            "text/html": [
              " View project at <a href='https://wandb.ai/fadhileq28-universitas-muhammadiyah-surakarta/Fine-tune%20Gemma%202B%20on%20Mental-Console%20Chatbot%20Dataset' target=\"_blank\">https://wandb.ai/fadhileq28-universitas-muhammadiyah-surakarta/Fine-tune%20Gemma%202B%20on%20Mental-Console%20Chatbot%20Dataset</a>"
            ]
          },
          "metadata": {}
        },
        {
          "output_type": "display_data",
          "data": {
            "text/plain": [
              "<IPython.core.display.HTML object>"
            ],
            "text/html": [
              " View run at <a href='https://wandb.ai/fadhileq28-universitas-muhammadiyah-surakarta/Fine-tune%20Gemma%202B%20on%20Mental-Console%20Chatbot%20Dataset/runs/mbaoc3r9' target=\"_blank\">https://wandb.ai/fadhileq28-universitas-muhammadiyah-surakarta/Fine-tune%20Gemma%202B%20on%20Mental-Console%20Chatbot%20Dataset/runs/mbaoc3r9</a>"
            ]
          },
          "metadata": {}
        }
      ]
    },
    {
      "cell_type": "markdown",
      "source": [
        "### QLoRA Config"
      ],
      "metadata": {
        "id": "uco0gBjwJ53C"
      }
    },
    {
      "cell_type": "code",
      "source": [
        "bnb_config = BitsAndBytesConfig(\n",
        "    load_in_4bit=True,\n",
        "    bnb_4bit_quant_type=\"nf4\",\n",
        "    bnb_4bit_compute_dtype=torch.bfloat16,\n",
        "    bnb_4bit_use_double_quant=True\n",
        ")\n",
        "\n",
        "base_model = \"google/gemma-2b-it\"\n",
        "\n",
        "model = AutoModelForCausalLM.from_pretrained(\n",
        "    base_model,\n",
        "    quantization_config=bnb_config,\n",
        "    device_map='auto'\n",
        ")"
      ],
      "metadata": {
        "colab": {
          "base_uri": "https://localhost:8080/",
          "height": 443,
          "referenced_widgets": [
            "ec3cd50b7c5b4dc28b6ad497e8a3c2d4",
            "32033942288d41a3a569edbb38456962",
            "655d511c0c0547e29b9b24dad17c5419",
            "72deede60cea4efb90c48d5286aa77df",
            "82e3c26acb2742b6a17165e0f6469a2f",
            "604f1600dbb6467983936a0aa6b24680",
            "6b1eb044326b40d7ab347fc815026abf",
            "b7f80d767fd24154a2f89c267fed1eb4",
            "7c3ff6af1aad4e3f96b7353fe7a85e74",
            "3c099087c92045e2af597a148ac8174a",
            "1dcab174cb334a80823ab7a03bf98c52",
            "2638071eb4cd4505b9d1fb893e6a92e8",
            "8db8c29e088a42d1ab5cbd9cc663d46c",
            "94b09df556be47f98fb43aa7663e52fd",
            "8a5c978d7d2d459ea2ee1eb4e6f8e089",
            "034212e664db4c12b37bb42101c528fe",
            "b1cba2f4d5d84f6b8b5b3b2e3e073d9c",
            "69a3a2be8a2d48ffb653d6d9e6bdc46b",
            "3caa14e02fb5428297104e9e436027fc",
            "8fcd3faf40aa43239c43bc5d9d9b0fac",
            "cd7aee800b574d32bcb034f6720a6159",
            "c7ba4efee37441a59a79eb50f2aab163",
            "287fe0f4a680411d8fab566fa34658ca",
            "829964cb55c14234ad20b971552ced79",
            "76a3ddf1ae9344d89c0a25e0cb0baa62",
            "95297fc335804814ad3e2ca59fee5039",
            "5064a2106fd74c7c91461f89d3a71b4b",
            "f262cf283abf4c15a1a52de1821718a7",
            "72ebee838ff64d68b1feee5b532f8c06",
            "d37fa704bbd54a799a2c8dc30382e7b4",
            "6d29f96c9c984a14a7daaad3e8c7a6e8",
            "57cba901e62e4c39b0f552bb82196de3",
            "8ff809f2fb244e46989f2a830cfd7ad9",
            "2208e016a1844095b3f6b16d948adbed",
            "e444193725764cf69e2fbb7d1281084b",
            "1a3f3997f3114bacb962c5c8e6f0285e",
            "e307f64329ad46188677b60f7f330c9f",
            "8334022196a149f998bbad5377fec2cf",
            "56095d5a917e47b58d48065689117a44",
            "4b31d36b77ff40b596858778ebd15197",
            "7fe43a96e7494269bedcb1811fe3857a",
            "f34296c09f0f468791927105c5120101",
            "77e62e15268e4ed0b4c7fdedde1bc4cf",
            "42fd497ab2b14c739ce535b7a767421e",
            "81ea63e43be148829a76fff3af1ee976",
            "7a6d2fac07f8490386b3f4a7d8f33eed",
            "16db3da6eb6246b987a56f2ed4ec22f6",
            "9539fd9701194a99b0f602ef8941a8b1",
            "36d9401eeb4541cc9fdd8bf45fac2b31",
            "60a7490f417d4d99b59691ae8fb1e971",
            "3a824fb2fd0a4475a5fb68d35bc7b660",
            "97d04879c3b24723a4d2da495341d0bf",
            "6f923b52748f4abcbc1ef155cc1677ce",
            "2f272fb87a3848989f7b0811004d3154",
            "0a46218f3d6742a2a2a13f08c9d5afd8",
            "8c84042fa1954135962c2c05fc8c7806",
            "49847f49d0ad4ba3aae01225dfc1adf7",
            "51b748df43c547ecbc623f0696cbf265",
            "58e07cb377f144f4b1cf7621536936aa",
            "1a672970de9b4216ac52894bbac4d4c4",
            "6d29da3e01774780b3a2b1cb9db98011",
            "e0198def3b4541089d72afc8d6b1c2d9",
            "46db8f4541f74253bc81a87133f95c73",
            "1ae2a06e82bd47fd8f9b4c884ca5efb9",
            "fb7c806de0c34c2881aa6af3ee007d55",
            "4a20299ef6a94e99ab870250902c587f",
            "0fa68d58bf104cd2863983e61825a386",
            "8ddc5d9d71b44f628649350124057ca5",
            "fa2daba7c3a347999dca258f3ef7f52b",
            "9fd9bf91179d491480fdabf97913a4c9",
            "66041136232d4cf4a97d125b6bb55b11",
            "4d9a3c8bc50243bda0748e6509462160",
            "71609778a9274ea9b1335bb92bc26a6e",
            "bc0c2176685a4cf796419223498ae457",
            "7196af95d142452a81af0164fb88e2f8",
            "aa45cc135c0b407f81bbd0a31d3c5863",
            "617a8c17ba5a4b6780ee913c154773d6"
          ]
        },
        "id": "XsH3hFN1-_he",
        "outputId": "f0d5931a-36c3-4957-ecf8-a49c327fa7c1"
      },
      "execution_count": null,
      "outputs": [
        {
          "output_type": "stream",
          "name": "stderr",
          "text": [
            "/usr/local/lib/python3.10/dist-packages/huggingface_hub/utils/_auth.py:94: UserWarning: \n",
            "The secret `HF_TOKEN` does not exist in your Colab secrets.\n",
            "To authenticate with the Hugging Face Hub, create a token in your settings tab (https://huggingface.co/settings/tokens), set it as secret in your Google Colab and restart your session.\n",
            "You will be able to reuse this secret in all of your notebooks.\n",
            "Please note that authentication is recommended but still optional to access public models or datasets.\n",
            "  warnings.warn(\n"
          ]
        },
        {
          "output_type": "display_data",
          "data": {
            "text/plain": [
              "config.json:   0%|          | 0.00/627 [00:00<?, ?B/s]"
            ],
            "application/vnd.jupyter.widget-view+json": {
              "version_major": 2,
              "version_minor": 0,
              "model_id": "ec3cd50b7c5b4dc28b6ad497e8a3c2d4"
            }
          },
          "metadata": {}
        },
        {
          "output_type": "display_data",
          "data": {
            "text/plain": [
              "model.safetensors.index.json:   0%|          | 0.00/13.5k [00:00<?, ?B/s]"
            ],
            "application/vnd.jupyter.widget-view+json": {
              "version_major": 2,
              "version_minor": 0,
              "model_id": "2638071eb4cd4505b9d1fb893e6a92e8"
            }
          },
          "metadata": {}
        },
        {
          "output_type": "display_data",
          "data": {
            "text/plain": [
              "Downloading shards:   0%|          | 0/2 [00:00<?, ?it/s]"
            ],
            "application/vnd.jupyter.widget-view+json": {
              "version_major": 2,
              "version_minor": 0,
              "model_id": "287fe0f4a680411d8fab566fa34658ca"
            }
          },
          "metadata": {}
        },
        {
          "output_type": "display_data",
          "data": {
            "text/plain": [
              "model-00001-of-00002.safetensors:   0%|          | 0.00/4.95G [00:00<?, ?B/s]"
            ],
            "application/vnd.jupyter.widget-view+json": {
              "version_major": 2,
              "version_minor": 0,
              "model_id": "2208e016a1844095b3f6b16d948adbed"
            }
          },
          "metadata": {}
        },
        {
          "output_type": "display_data",
          "data": {
            "text/plain": [
              "model-00002-of-00002.safetensors:   0%|          | 0.00/67.1M [00:00<?, ?B/s]"
            ],
            "application/vnd.jupyter.widget-view+json": {
              "version_major": 2,
              "version_minor": 0,
              "model_id": "81ea63e43be148829a76fff3af1ee976"
            }
          },
          "metadata": {}
        },
        {
          "output_type": "stream",
          "name": "stderr",
          "text": [
            "`config.hidden_act` is ignored, you should use `config.hidden_activation` instead.\n",
            "Gemma's activation function will be set to `gelu_pytorch_tanh`. Please, use\n",
            "`config.hidden_activation` if you want to override this behaviour.\n",
            "See https://github.com/huggingface/transformers/pull/29402 for more details.\n"
          ]
        },
        {
          "output_type": "display_data",
          "data": {
            "text/plain": [
              "Loading checkpoint shards:   0%|          | 0/2 [00:00<?, ?it/s]"
            ],
            "application/vnd.jupyter.widget-view+json": {
              "version_major": 2,
              "version_minor": 0,
              "model_id": "8c84042fa1954135962c2c05fc8c7806"
            }
          },
          "metadata": {}
        },
        {
          "output_type": "display_data",
          "data": {
            "text/plain": [
              "generation_config.json:   0%|          | 0.00/137 [00:00<?, ?B/s]"
            ],
            "application/vnd.jupyter.widget-view+json": {
              "version_major": 2,
              "version_minor": 0,
              "model_id": "0fa68d58bf104cd2863983e61825a386"
            }
          },
          "metadata": {}
        }
      ]
    },
    {
      "cell_type": "markdown",
      "source": [
        "### Tokenizing and Inference Test"
      ],
      "metadata": {
        "id": "HLQ33UOhKCWo"
      }
    },
    {
      "cell_type": "code",
      "source": [
        "tokenizer = AutoTokenizer.from_pretrained(base_model)"
      ],
      "metadata": {
        "colab": {
          "base_uri": "https://localhost:8080/",
          "height": 145,
          "referenced_widgets": [
            "d91472eb96a941bc92b1ce520a35a088",
            "c9f1a693e7004e9b8b673126c734d833",
            "01398e0b26b84478b6ef587873f048c9",
            "5961009271ec493fa2d824b3cd71a9a1",
            "7af04a0509ca49749f14a32306ff85d1",
            "066a6417252142f5b11594be7fc48650",
            "a7ecb9e447574df5bbb94e4074ba7f00",
            "76e690c5c0134d4696c152914c2e180f",
            "8e1dbc74e1804c52ad38d6b591864420",
            "cde461ffd20049b8891194df59810eef",
            "aef017dc743b4076959fcf479e5440cd",
            "d892a18d4d1348d6978b86b0e0065e72",
            "cb8172c2b5c0454983653c12a45b8dcb",
            "b9320db944b1495ca4220bbaa8aaae50",
            "453fda0cbc474ab2878bedac1eb52b75",
            "8583d9af42ea499dbe76be07190ab570",
            "2dce5989b856402ebfdf4ce5245b2d2d",
            "10e5472c16324f82b83add9c895d258a",
            "4cc08d35af814ef0a060395447b06847",
            "d3773995f2814c0b8119b4add45812bb",
            "32fedfd67f53412581a87eaaead1e52b",
            "b5a9b6724fcf446b8d46ae91ba0862fa",
            "5f72296e46a843f784094c9d7b773507",
            "56b2c41ef9194994a9fd11b19246c779",
            "f85713d43d6c4328b4e8c561d06f8af9",
            "056d2e644c2245d8aed47a8106d60eeb",
            "f5c1001613c248d9af02d1369dc854fa",
            "cd7bf64072fe426682c77e37b61c2f6c",
            "4e08081151d943028fce9f4a7ceba1e9",
            "76b09952d2184360b23fdb117d0dacb3",
            "05d1afcbc06c44e78e15fd307c171375",
            "4a9d4af5ca8a4eb98a6136a8d52c84fa",
            "4f6e02ed666549ed9846c0109c7f9af7",
            "1c698ea79c194ed0bf6bf36d7c949503",
            "818fde5f28db436d80e41b6aa4a756a9",
            "b35f7416e0f646acaad2fd13a179f4f6",
            "6a07f68874e044fd8ab7d9725af0e505",
            "0cd36035b85343cfb70a3eec3f3b5668",
            "85ff0ea829ae4cb7bc5cf5b7590a9f26",
            "b7fdb6648d0349a7b52f9f0c5301fe53",
            "776a002524254954b9ba95ff6fb90389",
            "95821c475ad64aad8f2620f7888a91cb",
            "12584b09be8c44e19e1600032b4b3fd0",
            "ab64c8914d534a0da02736ee08b2de9b"
          ]
        },
        "id": "rsGxffSDC60T",
        "outputId": "3dcb4326-9449-40bc-b997-bb6dbf354bab"
      },
      "execution_count": null,
      "outputs": [
        {
          "output_type": "display_data",
          "data": {
            "text/plain": [
              "tokenizer_config.json:   0%|          | 0.00/34.2k [00:00<?, ?B/s]"
            ],
            "application/vnd.jupyter.widget-view+json": {
              "version_major": 2,
              "version_minor": 0,
              "model_id": "d91472eb96a941bc92b1ce520a35a088"
            }
          },
          "metadata": {}
        },
        {
          "output_type": "display_data",
          "data": {
            "text/plain": [
              "tokenizer.model:   0%|          | 0.00/4.24M [00:00<?, ?B/s]"
            ],
            "application/vnd.jupyter.widget-view+json": {
              "version_major": 2,
              "version_minor": 0,
              "model_id": "d892a18d4d1348d6978b86b0e0065e72"
            }
          },
          "metadata": {}
        },
        {
          "output_type": "display_data",
          "data": {
            "text/plain": [
              "tokenizer.json:   0%|          | 0.00/17.5M [00:00<?, ?B/s]"
            ],
            "application/vnd.jupyter.widget-view+json": {
              "version_major": 2,
              "version_minor": 0,
              "model_id": "5f72296e46a843f784094c9d7b773507"
            }
          },
          "metadata": {}
        },
        {
          "output_type": "display_data",
          "data": {
            "text/plain": [
              "special_tokens_map.json:   0%|          | 0.00/636 [00:00<?, ?B/s]"
            ],
            "application/vnd.jupyter.widget-view+json": {
              "version_major": 2,
              "version_minor": 0,
              "model_id": "1c698ea79c194ed0bf6bf36d7c949503"
            }
          },
          "metadata": {}
        }
      ]
    },
    {
      "cell_type": "code",
      "source": [
        "with open(\"/content/diary.txt\") as d:\n",
        "  diary = str(d.read())\n"
      ],
      "metadata": {
        "id": "WM_URbroxMyj"
      },
      "execution_count": null,
      "outputs": []
    },
    {
      "cell_type": "code",
      "source": [
        "\n",
        "messages = [\n",
        "    {\n",
        "        \"role\": \"user\",\n",
        "        \"content\": diary\n",
        "    }\n",
        "]\n",
        "\n",
        "prompt = tokenizer.apply_chat_template(messages,\n",
        "                                       tokenize=False,\n",
        "                                       add_generation_prompt=True)\n",
        "inputs = tokenizer(prompt,\n",
        "                   return_tensors=\"pt\",\n",
        "                   padding=True,\n",
        "                   truncation=True).to(\"cuda\")\n",
        "\n",
        "outputs = model.generate(**inputs, max_length=800, num_return_sequences=1)\n",
        "text = tokenizer.decode(outputs[0], skip_special_tokens=True)\n",
        "\n",
        "text"
      ],
      "metadata": {
        "colab": {
          "base_uri": "https://localhost:8080/",
          "height": 164
        },
        "id": "Ms0bpqkt_Oni",
        "outputId": "01c6a247-5787-4651-b0d3-2427e714ff83"
      },
      "execution_count": null,
      "outputs": [
        {
          "output_type": "stream",
          "name": "stderr",
          "text": [
            "Asking to truncate to max_length but no maximum length is provided and the model has no predefined maximum length. Default to no truncation.\n"
          ]
        },
        {
          "output_type": "execute_result",
          "data": {
            "text/plain": [
              "\"user\\nThis morning I woke up a little earlier than usual. Usually, I like to procrastinate, but for some reason my body didn't want to stay in bed for long. Maybe it was because I had a good night's sleep. I felt fresh, even though I had a lot of thoughts running through my head last night.\\n\\nAfter waking up, I started with a small routine, brewing coffee while opening the window to feel the cold morning air. It felt like the fresh morning air gave me new energy to face the day. I sat at the dining table, looking at the sky that was starting to brighten, and suddenly many questions appeared in my head. What do I want to achieve today? What do I want to prove to myself? I know I often overthink things, but for some reason this morning the feeling came so strongly.\\n\\nAll day long I tried to stay focused. There was a lot of work to be done, and even though I sometimes felt stuck in a routine, today I tried to enjoy every second of it. One task after another was completed, and even though I felt tired, there was a satisfaction that came after everything was done. I think, maybe I'm starting to learn to be more patient and enjoy the process, rather than just chasing results.\\n\\nIn the afternoon, I had a chance to talk to an old friend. The conversation wasn’t long, but it was quite touching. We discussed many things, from old memories to dreams that were still pending. It felt nice to be able to talk to someone I hadn’t seen for a long time, but still be able to talk comfortably and warmly. The conversation made me feel as if time had never passed, as if we had just met yesterday.\\n\\nHowever, after the conversation, there was a slight emptiness that I felt. Maybe because the more things I heard, the more questions that arose. Have I tried hard enough? Am I on the right track? Sometimes, life feels like a labyrinth with no end in sight, and every time I feel like I’m almost out, another twist appears.\\nmodel\\nIt's great that you were able to stay focused and complete tasks throughout the day, despite feeling tired. It sounds like you're on the right track and learning to appreciate the process of completing tasks, rather than just achieving results.\\n\\nReflecting on the conversation with your old friend can be insightful. It's good that you were able to reconnect and feel the warmth of the connection. It's important to find healthy ways to manage the feeling of emptiness, such as engaging in activities that bring you joy or pursuing personal interests.\\n\\nHere are some suggestions for coping with feelings of emptiness:\\n\\n* **Practice mindfulness:** Take a few minutes each day to focus on your breath and the present moment. This can help you ground yourself and feel more connected to the now.\\n* **Engage in physical activity:** Exercise releases endorphins, which have mood-boosting effects and can help reduce feelings of emptiness.\\n* **Connect with nature:** Spending time outdoors can have a calming and rejuvenating effect.\\n* **Seek social connection:** Talk to friends, family, or a therapist about how you're feeling. Sharing your feelings can be a great way to process them and feel supported.\\n* **Set realistic goals:** Break down large tasks into smaller, manageable steps. This can make them seem less daunting and easier to achieve.\\n* **Practice self-compassion:** Be kind to yourself and acknowledge that it's okay to feel empty sometimes. Everyone experiences periods of emptiness.\""
            ],
            "application/vnd.google.colaboratory.intrinsic+json": {
              "type": "string"
            }
          },
          "metadata": {},
          "execution_count": 10
        }
      ]
    },
    {
      "cell_type": "code",
      "source": [
        "print(text.split(\"model\")[1])"
      ],
      "metadata": {
        "colab": {
          "base_uri": "https://localhost:8080/"
        },
        "id": "wUp9YDoCFSfy",
        "outputId": "737947d3-8585-4537-953b-d6a85637a6ca"
      },
      "execution_count": null,
      "outputs": [
        {
          "output_type": "stream",
          "name": "stdout",
          "text": [
            "\n",
            "It's great that you were able to stay focused and complete tasks throughout the day, despite feeling tired. It sounds like you're on the right track and learning to appreciate the process of completing tasks, rather than just achieving results.\n",
            "\n",
            "Reflecting on the conversation with your old friend can be insightful. It's good that you were able to reconnect and feel the warmth of the connection. It's important to find healthy ways to manage the feeling of emptiness, such as engaging in activities that bring you joy or pursuing personal interests.\n",
            "\n",
            "Here are some suggestions for coping with feelings of emptiness:\n",
            "\n",
            "* **Practice mindfulness:** Take a few minutes each day to focus on your breath and the present moment. This can help you ground yourself and feel more connected to the now.\n",
            "* **Engage in physical activity:** Exercise releases endorphins, which have mood-boosting effects and can help reduce feelings of emptiness.\n",
            "* **Connect with nature:** Spending time outdoors can have a calming and rejuvenating effect.\n",
            "* **Seek social connection:** Talk to friends, family, or a therapist about how you're feeling. Sharing your feelings can be a great way to process them and feel supported.\n",
            "* **Set realistic goals:** Break down large tasks into smaller, manageable steps. This can make them seem less daunting and easier to achieve.\n",
            "* **Practice self-compassion:** Be kind to yourself and acknowledge that it's okay to feel empty sometimes. Everyone experiences periods of emptiness.\n"
          ]
        }
      ]
    },
    {
      "cell_type": "markdown",
      "source": [
        "### PEFT(Parameter Efficient Fine-Tuning)"
      ],
      "metadata": {
        "id": "bgH2zFQBJkTt"
      }
    },
    {
      "cell_type": "code",
      "source": [
        "model.gradient_checkpointing_enable()\n",
        "model = prepare_model_for_kbit_training(model)\n",
        "\n",
        "print(model)"
      ],
      "metadata": {
        "colab": {
          "base_uri": "https://localhost:8080/"
        },
        "id": "RZXiL1e6HNDu",
        "outputId": "75bfa4ab-e4c6-49d1-9d33-0f2dbe78b2c5"
      },
      "execution_count": null,
      "outputs": [
        {
          "output_type": "stream",
          "name": "stdout",
          "text": [
            "GemmaForCausalLM(\n",
            "  (model): GemmaModel(\n",
            "    (embed_tokens): Embedding(256000, 2048, padding_idx=0)\n",
            "    (layers): ModuleList(\n",
            "      (0-17): 18 x GemmaDecoderLayer(\n",
            "        (self_attn): GemmaSdpaAttention(\n",
            "          (q_proj): Linear4bit(in_features=2048, out_features=2048, bias=False)\n",
            "          (k_proj): Linear4bit(in_features=2048, out_features=256, bias=False)\n",
            "          (v_proj): Linear4bit(in_features=2048, out_features=256, bias=False)\n",
            "          (o_proj): Linear4bit(in_features=2048, out_features=2048, bias=False)\n",
            "          (rotary_emb): GemmaRotaryEmbedding()\n",
            "        )\n",
            "        (mlp): GemmaMLP(\n",
            "          (gate_proj): Linear4bit(in_features=2048, out_features=16384, bias=False)\n",
            "          (up_proj): Linear4bit(in_features=2048, out_features=16384, bias=False)\n",
            "          (down_proj): Linear4bit(in_features=16384, out_features=2048, bias=False)\n",
            "          (act_fn): PytorchGELUTanh()\n",
            "        )\n",
            "        (input_layernorm): GemmaRMSNorm((2048,), eps=1e-06)\n",
            "        (post_attention_layernorm): GemmaRMSNorm((2048,), eps=1e-06)\n",
            "      )\n",
            "    )\n",
            "    (norm): GemmaRMSNorm((2048,), eps=1e-06)\n",
            "  )\n",
            "  (lm_head): Linear(in_features=2048, out_features=256000, bias=False)\n",
            ")\n"
          ]
        }
      ]
    },
    {
      "cell_type": "code",
      "source": [
        "peft_config = LoraConfig(\n",
        "    r=64,\n",
        "    lora_alpha=32,\n",
        "    target_modules='all-linear',\n",
        "    lora_dropout=0.05,\n",
        "    bias='none',\n",
        "    task_type='CAUSAL_LM'\n",
        ")\n",
        "\n",
        "model = get_peft_model(model, peft_config)"
      ],
      "metadata": {
        "id": "ptFxt_dQHQWa"
      },
      "execution_count": null,
      "outputs": []
    },
    {
      "cell_type": "code",
      "source": [
        "trainable, total = model.get_nb_trainable_parameters()\n",
        "print(f\"Trainable: {trainable} | total: {total} | Percentage: {trainable/total*100:.4f}%\")"
      ],
      "metadata": {
        "colab": {
          "base_uri": "https://localhost:8080/"
        },
        "id": "YMYojntdHVHn",
        "outputId": "4e6e9416-b3d0-48d4-81cd-1e906819b2a5"
      },
      "execution_count": null,
      "outputs": [
        {
          "output_type": "stream",
          "name": "stdout",
          "text": [
            "Trainable: 78446592 | total: 2584619008 | Percentage: 3.0351%\n"
          ]
        }
      ]
    },
    {
      "cell_type": "markdown",
      "source": [
        "## Counseling Dataset Preparation"
      ],
      "metadata": {
        "id": "9KUCoCV_JSn9"
      }
    },
    {
      "cell_type": "markdown",
      "source": [
        "### Load The Dataset"
      ],
      "metadata": {
        "id": "5VUvEnzj0Ln3"
      }
    },
    {
      "cell_type": "code",
      "source": [
        "import pandas as pd\n",
        "\n",
        "df = pd.read_csv(\"hf://datasets/nbertagnolli/counsel-chat/20220401_counsel_chat.csv\")\n",
        "df = df[[\"questionTitle\", \"questionText\", \"answerText\"]]\n",
        "df.to_parquet(\"fine-tune-data.parquet\", engine=\"pyarrow\", index=False)"
      ],
      "metadata": {
        "id": "3KvzAV7IHgU-"
      },
      "execution_count": null,
      "outputs": []
    },
    {
      "cell_type": "code",
      "source": [
        "dataset_name = \"fine-tune-data.parquet\"\n",
        "dataset = load_dataset(\"parquet\", data_files=dataset_name)\n",
        "dataset = dataset[\"train\"]\n",
        "dataset"
      ],
      "metadata": {
        "colab": {
          "base_uri": "https://localhost:8080/",
          "height": 122,
          "referenced_widgets": [
            "38f31ffa412c4800ab922ce847f15452",
            "4385b6b9df51476fbba1028838215fab",
            "330d6885d4ce48e996fa3f1927756155",
            "1122a2d6aea04bf59b064431fbfee022",
            "9cbf3a9172cd4780bcbcb4ea2d4c983f",
            "827ac8fd99b4489bb99e5a23d72f65ae",
            "4f395f0158254a5a8df68df3205dd3ab",
            "bd135ae73bec4c07879133f0c01899cb",
            "04905eb952424a98a71a4f113ded5cf5",
            "1c2b44d9a6414801b4298299212002a1",
            "93c3438225d143708bb809627f3c5e1e"
          ]
        },
        "id": "ox5CCAG_Lq_r",
        "outputId": "ba2066b2-04c9-4d3c-de1e-b4cda9bef07a"
      },
      "execution_count": null,
      "outputs": [
        {
          "output_type": "display_data",
          "data": {
            "text/plain": [
              "Generating train split: 0 examples [00:00, ? examples/s]"
            ],
            "application/vnd.jupyter.widget-view+json": {
              "version_major": 2,
              "version_minor": 0,
              "model_id": "38f31ffa412c4800ab922ce847f15452"
            }
          },
          "metadata": {}
        },
        {
          "output_type": "execute_result",
          "data": {
            "text/plain": [
              "Dataset({\n",
              "    features: ['questionTitle', 'questionText', 'answerText'],\n",
              "    num_rows: 2775\n",
              "})"
            ]
          },
          "metadata": {},
          "execution_count": 16
        }
      ]
    },
    {
      "cell_type": "code",
      "source": [
        "print(dataset['questionText'][0])\n",
        "print(dataset['answerText'][0])\n"
      ],
      "metadata": {
        "id": "4YtqOvJXSzr3",
        "outputId": "823da829-1f4e-46b0-be31-e5b1d050c0a0",
        "colab": {
          "base_uri": "https://localhost:8080/"
        }
      },
      "execution_count": null,
      "outputs": [
        {
          "output_type": "stream",
          "name": "stdout",
          "text": [
            "I have so many issues to address. I have a history of sexual abuse, I’m a breast cancer survivor and I am a lifetime insomniac.    I have a long history of depression and I’m beginning to have anxiety. I have low self esteem but I’ve been happily married for almost 35 years.\n",
            "   I’ve never had counseling about any of this. Do I have too many issues to address in counseling?\n",
            "It is very common for people to have multiple issues that they want to (and need to) address in counseling.  I have had clients ask that same question and through more exploration, there is often an underlying fear that they  \"can't be helped\" or that they will \"be too much for their therapist.\" I don't know if any of this rings true for you. But, most people have more than one problem in their lives and more often than not,  people have numerous significant stressors in their lives.  Let's face it, life can be complicated! Therapists are completely ready and equipped to handle all of the issues small or large that a client presents in session. Most therapists over the first couple of sessions will help you prioritize the issues you are facing so that you start addressing the issues that are causing you the most distress.  You can never have too many issues to address in counseling.  All of the issues you mention above can be successfully worked through in counseling.\n"
          ]
        }
      ]
    },
    {
      "cell_type": "markdown",
      "source": [
        "### Assess the Dataset"
      ],
      "metadata": {
        "id": "nvMyW4Ox0a0c"
      }
    },
    {
      "cell_type": "code",
      "source": [
        "dataset = dataset.shuffle(seed=42).select(range(1000))"
      ],
      "metadata": {
        "id": "FgKsZXPSMJMI"
      },
      "execution_count": null,
      "outputs": []
    },
    {
      "cell_type": "code",
      "source": [
        "def format_chat_template(row):\n",
        "    row_json = [{\"role\": \"user\", \"content\": row[\"questionText\"]},\n",
        "               {\"role\": \"assistant\", \"content\": row[\"answerText\"]}]\n",
        "    row[\"text\"] = tokenizer.apply_chat_template(row_json, tokenize=False)\n",
        "    return row\n",
        "\n",
        "dataset = dataset.map(\n",
        "    format_chat_template,\n",
        "    num_proc=4,\n",
        ")\n",
        "\n",
        "dataset['text'][0]"
      ],
      "metadata": {
        "id": "LvoPMphSM1Ng",
        "colab": {
          "base_uri": "https://localhost:8080/",
          "height": 104,
          "referenced_widgets": [
            "279f6220f668497e9c2cf3e6f0ad0dd7",
            "674d83ca446d4ef595dcd9920f8ff95f",
            "b20a91df9ea44d5f88801db091b5f0be",
            "288967835e664135b0c90346ddc339a0",
            "0ee65c37ad664cb0b661f77f19614766",
            "d5aff8d2d80c42db9771c7f1e659cf69",
            "f30c789672ca46009e335482c3aa2475",
            "a57535dc8c5d4374a3810e2cd0fbdd71",
            "a68be63d51d84e2e962cb73fc2abc1f0",
            "263d4409696d417eaabf01f9ef30c958",
            "06651acf05d04a97938f3dc740af3ddc"
          ]
        },
        "outputId": "51a00c66-9cce-4e67-c789-678bea1830c8"
      },
      "execution_count": null,
      "outputs": [
        {
          "output_type": "display_data",
          "data": {
            "text/plain": [
              "Map (num_proc=4):   0%|          | 0/1000 [00:00<?, ? examples/s]"
            ],
            "application/vnd.jupyter.widget-view+json": {
              "version_major": 2,
              "version_minor": 0,
              "model_id": "279f6220f668497e9c2cf3e6f0ad0dd7"
            }
          },
          "metadata": {}
        },
        {
          "output_type": "execute_result",
          "data": {
            "text/plain": [
              "'<bos><start_of_turn>user\\nWhat are the basic skills a good counselor needs to have?<end_of_turn>\\n<start_of_turn>model\\nTo be non-judgemental, know who they themselves are, be able to step forward and ask questions with ease and grace into painful emotional areas.Also to respect human difference in accomplishing basic life tasks and everyday living.<end_of_turn>\\n'"
            ],
            "application/vnd.google.colaboratory.intrinsic+json": {
              "type": "string"
            }
          },
          "metadata": {},
          "execution_count": 22
        }
      ]
    },
    {
      "cell_type": "code",
      "source": [
        "print(dataset)"
      ],
      "metadata": {
        "id": "eqdQjYbwXf_t",
        "outputId": "c67072ca-27b6-4169-a2c8-5bd8e2f5507b",
        "colab": {
          "base_uri": "https://localhost:8080/"
        }
      },
      "execution_count": null,
      "outputs": [
        {
          "output_type": "stream",
          "name": "stdout",
          "text": [
            "Dataset({\n",
            "    features: ['questionTitle', 'questionText', 'answerText', 'text'],\n",
            "    num_rows: 1000\n",
            "})\n"
          ]
        }
      ]
    },
    {
      "cell_type": "code",
      "source": [
        "dataset = dataset.train_test_split(test_size=0.1)"
      ],
      "metadata": {
        "id": "o7OnzAW1XHB6"
      },
      "execution_count": null,
      "outputs": []
    },
    {
      "cell_type": "markdown",
      "source": [
        "## Fine-Tune the Model"
      ],
      "metadata": {
        "id": "eeruVrW-W_N0"
      }
    },
    {
      "cell_type": "code",
      "source": [
        "training_arguments = SFTConfig(\n",
        "    output_dir=\"output\",\n",
        "    per_device_train_batch_size=1,\n",
        "    per_device_eval_batch_size=1,\n",
        "    gradient_accumulation_steps=4,\n",
        "    warmup_steps=10,\n",
        "    optim=\"paged_adamw_8bit\",\n",
        "    num_train_epochs=1,\n",
        "    eval_strategy=\"steps\",\n",
        "    eval_steps=0.2,\n",
        "    logging_steps=1,\n",
        "    learning_rate=2e-4,\n",
        "    fp16=False,\n",
        "    bf16=False,\n",
        "    group_by_length=True,\n",
        "    dataset_text_field=\"text\",\n",
        "    packing=False,\n",
        "    max_seq_length=512,\n",
        "    report_to=\"wandb\"\n",
        ")"
      ],
      "metadata": {
        "id": "BC5YJMBcSV77"
      },
      "execution_count": null,
      "outputs": []
    },
    {
      "cell_type": "code",
      "source": [
        "import time\n",
        "\n",
        "# Mulai waktu pelatihan\n",
        "start_time = time.time()\n",
        "\n",
        "# Proses pelatihan model\n",
        "trainer = SFTTrainer(\n",
        "    model=model,\n",
        "    train_dataset=dataset[\"train\"],\n",
        "    eval_dataset=dataset[\"test\"],\n",
        "    peft_config=peft_config,\n",
        "    args=training_arguments,\n",
        "    processing_class=tokenizer\n",
        ")\n",
        "\n",
        "trainer.train()\n",
        "\n",
        "# Akhir waktu pelatihan\n",
        "end_time = time.time()\n",
        "\n",
        "# Menghitung durasi pelatihan\n",
        "training_duration = end_time - start_time\n",
        "print(f\"Pelatihan selesai dalam waktu {training_duration / 60:.2f} menit\")"
      ],
      "metadata": {
        "id": "Q3k6mq5EX_Ge",
        "outputId": "ec25d7be-812d-48df-c5e5-c7cd846f068d",
        "colab": {
          "base_uri": "https://localhost:8080/",
          "height": 626,
          "referenced_widgets": [
            "307b6b218289437fb13d70613940c587",
            "de77c7a8e0e741f08811f84b268828dc",
            "77266d4af88149ffb3ade596b0853754",
            "7b75e188cd534014a97e4dd69666b3e7",
            "e8f5057bae94491f8ef83f21cd1c81a0",
            "ee05a8b174c945e8a8a7ed5e5246e270",
            "25138ed308164b6da8ce62dcca6ab248",
            "f801c3055c20412ebbd1042f9bcd13f3",
            "617b144014cc40f795b6c9a625131667",
            "e203cbb5648042c2ad652bf3fcc16bec",
            "82b4f704534c48039bb7c407bcbc7277",
            "c21565df7cfd4385b0e4a3554552f6a6",
            "8418a116bfab4c3895699fc55e53d103",
            "912439ea108c4256908f19a65cdc378a",
            "dc7673f8d8814f509725cd43bdea7ba2",
            "084a8e914e5f43ba95e41fb3bf5cff77",
            "f20dda15370e4d5ab073a33162addc11",
            "482a85da8dfc4dc38de2002a8ede06d8",
            "e6983c1ee7754d17b93dc2a07d3e201e",
            "2962f12d915c46bbbe527b36b4b9e73e",
            "849dbfa3a90442ffbc6beb6ba62976bd",
            "0fa2bf371d0d4350b8eb7d5c808a3142"
          ]
        }
      },
      "execution_count": null,
      "outputs": [
        {
          "output_type": "display_data",
          "data": {
            "text/plain": [
              "Map:   0%|          | 0/900 [00:00<?, ? examples/s]"
            ],
            "application/vnd.jupyter.widget-view+json": {
              "version_major": 2,
              "version_minor": 0,
              "model_id": "307b6b218289437fb13d70613940c587"
            }
          },
          "metadata": {}
        },
        {
          "output_type": "display_data",
          "data": {
            "text/plain": [
              "Map:   0%|          | 0/100 [00:00<?, ? examples/s]"
            ],
            "application/vnd.jupyter.widget-view+json": {
              "version_major": 2,
              "version_minor": 0,
              "model_id": "c21565df7cfd4385b0e4a3554552f6a6"
            }
          },
          "metadata": {}
        },
        {
          "output_type": "stream",
          "name": "stderr",
          "text": [
            "/usr/local/lib/python3.10/dist-packages/trl/trainer/sft_trainer.py:403: UserWarning: You passed a processing_class with `padding_side` not equal to `right` to the SFTTrainer. This might lead to some unexpected behaviour due to overflow issues when training a model in half-precision. You might consider adding `processing_class.padding_side = 'right'` to your code.\n",
            "  warnings.warn(\n",
            "\u001b[34m\u001b[1mwandb\u001b[0m: \u001b[33mWARNING\u001b[0m The `run_name` is currently set to the same value as `TrainingArguments.output_dir`. If this was not intended, please specify a different run name by setting the `TrainingArguments.run_name` parameter.\n",
            "`use_cache=True` is incompatible with gradient checkpointing. Setting `use_cache=False`.\n",
            "/usr/local/lib/python3.10/dist-packages/torch/_dynamo/eval_frame.py:632: UserWarning: torch.utils.checkpoint: the use_reentrant parameter should be passed explicitly. In version 2.5 we will raise an exception if use_reentrant is not passed. use_reentrant=False is recommended, but if you need to preserve the current default behavior, you can pass use_reentrant=True. Refer to docs for more details on the differences between the two variants.\n",
            "  return fn(*args, **kwargs)\n"
          ]
        },
        {
          "output_type": "display_data",
          "data": {
            "text/plain": [
              "<IPython.core.display.HTML object>"
            ],
            "text/html": [
              "\n",
              "    <div>\n",
              "      \n",
              "      <progress value='225' max='225' style='width:300px; height:20px; vertical-align: middle;'></progress>\n",
              "      [225/225 38:44, Epoch 1/1]\n",
              "    </div>\n",
              "    <table border=\"1\" class=\"dataframe\">\n",
              "  <thead>\n",
              " <tr style=\"text-align: left;\">\n",
              "      <th>Step</th>\n",
              "      <th>Training Loss</th>\n",
              "      <th>Validation Loss</th>\n",
              "    </tr>\n",
              "  </thead>\n",
              "  <tbody>\n",
              "    <tr>\n",
              "      <td>45</td>\n",
              "      <td>2.154900</td>\n",
              "      <td>2.621868</td>\n",
              "    </tr>\n",
              "    <tr>\n",
              "      <td>90</td>\n",
              "      <td>2.247900</td>\n",
              "      <td>2.479498</td>\n",
              "    </tr>\n",
              "    <tr>\n",
              "      <td>135</td>\n",
              "      <td>2.566600</td>\n",
              "      <td>2.397563</td>\n",
              "    </tr>\n",
              "    <tr>\n",
              "      <td>180</td>\n",
              "      <td>2.592100</td>\n",
              "      <td>2.359118</td>\n",
              "    </tr>\n",
              "    <tr>\n",
              "      <td>225</td>\n",
              "      <td>2.015000</td>\n",
              "      <td>2.340533</td>\n",
              "    </tr>\n",
              "  </tbody>\n",
              "</table><p>"
            ]
          },
          "metadata": {}
        },
        {
          "output_type": "stream",
          "name": "stderr",
          "text": [
            "Trainer.tokenizer is now deprecated. You should use Trainer.processing_class instead.\n",
            "Trainer.tokenizer is now deprecated. You should use Trainer.processing_class instead.\n",
            "Trainer.tokenizer is now deprecated. You should use Trainer.processing_class instead.\n",
            "Trainer.tokenizer is now deprecated. You should use Trainer.processing_class instead.\n",
            "Trainer.tokenizer is now deprecated. You should use Trainer.processing_class instead.\n",
            "Trainer.tokenizer is now deprecated. You should use Trainer.processing_class instead.\n",
            "Trainer.tokenizer is now deprecated. You should use Trainer.processing_class instead.\n",
            "Trainer.tokenizer is now deprecated. You should use Trainer.processing_class instead.\n",
            "Trainer.tokenizer is now deprecated. You should use Trainer.processing_class instead.\n",
            "Trainer.tokenizer is now deprecated. You should use Trainer.processing_class instead.\n"
          ]
        },
        {
          "output_type": "stream",
          "name": "stdout",
          "text": [
            "Pelatihan selesai dalam waktu 39.04 menit\n"
          ]
        }
      ]
    },
    {
      "cell_type": "markdown",
      "source": [
        "### Evaluate the Fine-Tuned Model"
      ],
      "metadata": {
        "id": "Ork3p3X3z0Na"
      }
    },
    {
      "cell_type": "code",
      "source": [
        "messages = [\n",
        "    {\n",
        "        \"role\": \"user\",\n",
        "        \"content\": diary\n",
        "    }\n",
        "]\n",
        "\n",
        "prompt = tokenizer.apply_chat_template(messages, tokenize=False,\n",
        "                                       add_generation_prompt=True)\n",
        "\n",
        "inputs = tokenizer(prompt, return_tensors='pt', padding=True,\n",
        "                   truncation=True,).to(\"cuda\")\n",
        "\n",
        "outputs = model.generate(**inputs, max_length=500,\n",
        "                         num_return_sequences=1)\n",
        "\n",
        "text = tokenizer.decode(outputs[0], skip_special_tokens=True)\n",
        "text"
      ],
      "metadata": {
        "id": "erkscPd0YEu5",
        "outputId": "33639861-ec5f-4a87-9144-acc6dc740628",
        "colab": {
          "base_uri": "https://localhost:8080/",
          "height": 145
        }
      },
      "execution_count": null,
      "outputs": [
        {
          "output_type": "execute_result",
          "data": {
            "text/plain": [
              "\"user\\nThis morning I woke up a little earlier than usual. Usually, I like to procrastinate, but for some reason my body didn't want to stay in bed for long. Maybe it was because I had a good night's sleep. I felt fresh, even though I had a lot of thoughts running through my head last night.\\n\\nAfter waking up, I started with a small routine, brewing coffee while opening the window to feel the cold morning air. It felt like the fresh morning air gave me new energy to face the day. I sat at the dining table, looking at the sky that was starting to brighten, and suddenly many questions appeared in my head. What do I want to achieve today? What do I want to prove to myself? I know I often overthink things, but for some reason this morning the feeling came so strongly.\\n\\nAll day long I tried to stay focused. There was a lot of work to be done, and even though I sometimes felt stuck in a routine, today I tried to enjoy every second of it. One task after another was completed, and even though I felt tired, there was a satisfaction that came after everything was done. I think, maybe I'm starting to learn to be more patient and enjoy the process, rather than just chasing results.\\n\\nIn the afternoon, I had a chance to talk to an old friend. The conversation wasn’t long, but it was quite touching. We discussed many things, from old memories to dreams that were still pending. It felt nice to be able to talk to someone I hadn’t seen for a long time, but still be able to talk comfortably and warmly. The conversation made me feel as if time had never passed, as if we had just met yesterday.\\n\\nHowever, after the conversation, there was a slight emptiness that I felt. Maybe because the more things I heard, the more questions that arose. Have I tried hard enough? Am I on the right track? Sometimes, life feels like a labyrinth with no end in sight, and every time I feel like I’m almost out, another twist appears.\\nmodel\\nIt sounds like you are on the right track.\\xa0 It is normal to feel a sense of emptiness after a conversation.\\xa0 It is a good sign that you are able to talk about your feelings and thoughts with someone you trust.\\xa0 It is also a good sign that you are able to be vulnerable and\""
            ],
            "application/vnd.google.colaboratory.intrinsic+json": {
              "type": "string"
            }
          },
          "metadata": {},
          "execution_count": 27
        }
      ]
    },
    {
      "cell_type": "code",
      "source": [
        "print(text.split(\"model\")[1])"
      ],
      "metadata": {
        "id": "be0w2dyzvgc5",
        "outputId": "62be3908-adab-494b-b0c3-12e09bb66876",
        "colab": {
          "base_uri": "https://localhost:8080/"
        }
      },
      "execution_count": null,
      "outputs": [
        {
          "output_type": "stream",
          "name": "stdout",
          "text": [
            "\n",
            "It sounds like you are on the right track.  It is normal to feel a sense of emptiness after a conversation.  It is a good sign that you are able to talk about your feelings and thoughts with someone you trust.  It is also a good sign that you are able to be vulnerable and\n"
          ]
        }
      ]
    },
    {
      "cell_type": "code",
      "source": [
        "wandb.finish()"
      ],
      "metadata": {
        "colab": {
          "base_uri": "https://localhost:8080/",
          "height": 762
        },
        "id": "77dWH7V1_rGI",
        "outputId": "c8f22790-6edd-4de5-88eb-20276e74ee81"
      },
      "execution_count": null,
      "outputs": [
        {
          "output_type": "display_data",
          "data": {
            "text/plain": [
              "<IPython.core.display.HTML object>"
            ],
            "text/html": []
          },
          "metadata": {}
        },
        {
          "output_type": "display_data",
          "data": {
            "text/plain": [
              "<IPython.core.display.HTML object>"
            ],
            "text/html": [
              "<br>    <style><br>        .wandb-row {<br>            display: flex;<br>            flex-direction: row;<br>            flex-wrap: wrap;<br>            justify-content: flex-start;<br>            width: 100%;<br>        }<br>        .wandb-col {<br>            display: flex;<br>            flex-direction: column;<br>            flex-basis: 100%;<br>            flex: 1;<br>            padding: 10px;<br>        }<br>    </style><br><div class=\"wandb-row\"><div class=\"wandb-col\"><h3>Run history:</h3><br/><table class=\"wandb\"><tr><td>eval/loss</td><td>█▄▂▁▁</td></tr><tr><td>eval/runtime</td><td>▁█▁▃▇</td></tr><tr><td>eval/samples_per_second</td><td>█▁█▆▃</td></tr><tr><td>eval/steps_per_second</td><td>█▁█▆▃</td></tr><tr><td>train/epoch</td><td>▁▁▁▂▂▂▂▂▂▃▃▃▃▃▃▄▄▄▄▄▅▅▅▅▅▅▅▆▆▆▇▇▇▇▇▇████</td></tr><tr><td>train/global_step</td><td>▁▁▁▁▂▃▃▃▃▃▃▃▃▃▄▄▄▄▄▄▅▅▅▅▆▆▆▆▆▆▆▇▇▇▇▇▇███</td></tr><tr><td>train/grad_norm</td><td>▃▂▂▁▂█▂▄▄▁▂▁▁▂▁▂▃▄▃▁▁▁▂▁▁▂▁▂▂▂▃▂▂▃▃▄▂▁▁▂</td></tr><tr><td>train/learning_rate</td><td>▄███▇▇▇▇▇▆▆▆▆▆▆▅▅▅▅▅▄▄▄▄▄▄▄▃▃▃▃▂▂▂▂▂▂▁▁▁</td></tr><tr><td>train/loss</td><td>██▆▄▃▅▅▅▃▅▅▃▂▃▄▂▄▂▁▃▃▃▂▂▃▂▃▃▃▄▃▃▃▃▃▃▂▂▂▁</td></tr></table><br/></div><div class=\"wandb-col\"><h3>Run summary:</h3><br/><table class=\"wandb\"><tr><td>eval/loss</td><td>2.34053</td></tr><tr><td>eval/runtime</td><td>76.864</td></tr><tr><td>eval/samples_per_second</td><td>1.301</td></tr><tr><td>eval/steps_per_second</td><td>1.301</td></tr><tr><td>total_flos</td><td>2872097304489984.0</td></tr><tr><td>train/epoch</td><td>1</td></tr><tr><td>train/global_step</td><td>225</td></tr><tr><td>train/grad_norm</td><td>1.89857</td></tr><tr><td>train/learning_rate</td><td>0</td></tr><tr><td>train/loss</td><td>2.015</td></tr><tr><td>train_loss</td><td>2.52411</td></tr><tr><td>train_runtime</td><td>2338.6582</td></tr><tr><td>train_samples_per_second</td><td>0.385</td></tr><tr><td>train_steps_per_second</td><td>0.096</td></tr></table><br/></div></div>"
            ]
          },
          "metadata": {}
        },
        {
          "output_type": "display_data",
          "data": {
            "text/plain": [
              "<IPython.core.display.HTML object>"
            ],
            "text/html": [
              " View run <strong style=\"color:#cdcd00\">grateful-mountain-3</strong> at: <a href='https://wandb.ai/fadhileq28-universitas-muhammadiyah-surakarta/Fine-tune%20Gemma%202B%20on%20Mental-Console%20Chatbot%20Dataset/runs/mbaoc3r9' target=\"_blank\">https://wandb.ai/fadhileq28-universitas-muhammadiyah-surakarta/Fine-tune%20Gemma%202B%20on%20Mental-Console%20Chatbot%20Dataset/runs/mbaoc3r9</a><br> View project at: <a href='https://wandb.ai/fadhileq28-universitas-muhammadiyah-surakarta/Fine-tune%20Gemma%202B%20on%20Mental-Console%20Chatbot%20Dataset' target=\"_blank\">https://wandb.ai/fadhileq28-universitas-muhammadiyah-surakarta/Fine-tune%20Gemma%202B%20on%20Mental-Console%20Chatbot%20Dataset</a><br>Synced 5 W&B file(s), 0 media file(s), 0 artifact file(s) and 0 other file(s)"
            ]
          },
          "metadata": {}
        },
        {
          "output_type": "display_data",
          "data": {
            "text/plain": [
              "<IPython.core.display.HTML object>"
            ],
            "text/html": [
              "Find logs at: <code>./wandb/run-20241214_105446-mbaoc3r9/logs</code>"
            ]
          },
          "metadata": {}
        }
      ]
    },
    {
      "cell_type": "markdown",
      "source": [
        "### Save the Fine Tuned Model"
      ],
      "metadata": {
        "id": "yWRuZ7na2ljX"
      }
    },
    {
      "cell_type": "code",
      "source": [
        "output_model = \"gemma-2b-diary-consultaton-chatbot\"\n",
        "trainer.model.save_pretrained(output_model)\n",
        "trainer.model.push_to_hub(output_model, use_temp_dir=False)"
      ],
      "metadata": {
        "id": "gJanFtJ0wHWy",
        "colab": {
          "base_uri": "https://localhost:8080/",
          "height": 104,
          "referenced_widgets": [
            "b2c165e2c28a4a0a819d5077894f50c2",
            "b84a9d707fbe4ce387847f93de10c201",
            "acc3bb9cf0ad439db79be357d24ed941",
            "af654f968cef48dcae56df4bd36b4203",
            "4a5052896baa4c7eadd902fbcfa358a6",
            "e603ded6c08943bd90355246720da3d7",
            "457efa0075ff4108a88a8b6635bf861d",
            "2006a344ad30488798ed7530c35535c1",
            "57967c787f8f47fab07c512dce98c886",
            "69a9ace8d6a647f7a1eced5c95460764",
            "66f7418df469476e9116d07e9046190a"
          ]
        },
        "outputId": "9fc70637-fc16-423c-984e-5a9a7cd19c38"
      },
      "execution_count": null,
      "outputs": [
        {
          "output_type": "display_data",
          "data": {
            "text/plain": [
              "adapter_model.safetensors:   0%|          | 0.00/314M [00:00<?, ?B/s]"
            ],
            "application/vnd.jupyter.widget-view+json": {
              "version_major": 2,
              "version_minor": 0,
              "model_id": "b2c165e2c28a4a0a819d5077894f50c2"
            }
          },
          "metadata": {}
        },
        {
          "output_type": "execute_result",
          "data": {
            "text/plain": [
              "CommitInfo(commit_url='https://huggingface.co/FadQ/gemma-2b-diary-consultaton-chatbot/commit/f22143b36b1142673a3fe17ee6eff9aaefd001f5', commit_message='Upload model', commit_description='', oid='f22143b36b1142673a3fe17ee6eff9aaefd001f5', pr_url=None, repo_url=RepoUrl('https://huggingface.co/FadQ/gemma-2b-diary-consultaton-chatbot', endpoint='https://huggingface.co', repo_type='model', repo_id='FadQ/gemma-2b-diary-consultaton-chatbot'), pr_revision=None, pr_num=None)"
            ],
            "application/vnd.google.colaboratory.intrinsic+json": {
              "type": "string"
            }
          },
          "metadata": {},
          "execution_count": 30
        }
      ]
    },
    {
      "cell_type": "markdown",
      "source": [
        "# Combine with trained RoBERTa and Generate Classification and its Response"
      ],
      "metadata": {
        "id": "hH3vbLtY2qnP"
      }
    },
    {
      "cell_type": "code",
      "source": [
        "import torch\n",
        "from transformers import AutoTokenizer, AutoModelForSequenceClassification, AutoModelForCausalLM\n",
        "import json\n",
        "import os"
      ],
      "metadata": {
        "id": "yK2Krc2p-1MT"
      },
      "execution_count": 11,
      "outputs": []
    },
    {
      "cell_type": "code",
      "source": [
        "def process_diary_input(diary_content):\n",
        "    \"\"\"\n",
        "    Processes a diary entry to classify emotion and generate a fine-tuned response.\n",
        "\n",
        "    Args:\n",
        "        diary_content (str): The content of the diary entry.\n",
        "\n",
        "    Returns:\n",
        "        dict: A dictionary containing the diary content, classified emotion, and fine-tuned response.\n",
        "    \"\"\"\n",
        "\n",
        "    GEMMA_MODEL_NAME = \"FadQ/gemma-2b-diary-consultaton-chatbot\"\n",
        "    EMOTION_MODEL_NAME = \"FadQ/roberta-can-read-emotion\"\n",
        "\n",
        "    tokenizer = AutoTokenizer.from_pretrained(EMOTION_MODEL_NAME)\n",
        "    emotion_model = AutoModelForSequenceClassification.from_pretrained(EMOTION_MODEL_NAME).to(\"cuda\")\n",
        "    generation_model = AutoModelForCausalLM.from_pretrained(GEMMA_MODEL_NAME).to(\"cuda\")\n",
        "\n",
        "    diary_entry = f\"Diary Input: {diary_content}\"\n",
        "\n",
        "\n",
        "    inputs = tokenizer(diary_content, return_tensors='pt', truncation=True, padding=True).to(\"cuda\")\n",
        "    emotion_outputs = emotion_model(**inputs)\n",
        "    emotion_logits = emotion_outputs.logits\n",
        "    emotion_label = torch.argmax(emotion_logits, dim=1).item()\n",
        "    emotion_mapping = {\n",
        "        0: \"sadness\",\n",
        "        1: \"surprise\",\n",
        "        2: \"joy\",\n",
        "        3: \"love\",\n",
        "        4: \"anger\",\n",
        "        5: \"fear\"\n",
        "    }\n",
        "    classified_emotion = emotion_mapping.get(emotion_label, \"unknown\")\n",
        "\n",
        "\n",
        "    messages = [\"Diary: \" + diary_content]\n",
        "    gen_inputs = tokenizer(messages, return_tensors=\"pt\", truncation=True, padding=True).to(\"cuda\")\n",
        "    generated_outputs = generation_model.generate(\n",
        "        **gen_inputs,\n",
        "        max_length=200,\n",
        "        num_return_sequences=1\n",
        "    )\n",
        "    fine_tuned_response = tokenizer.decode(generated_outputs[0], skip_special_tokens=True)\n",
        "\n",
        "    result = {\n",
        "        \"content\": diary_content,\n",
        "        \"diary_entry\": diary_entry,\n",
        "        \"classified_emotion\": classified_emotion,\n",
        "        \"fine_tuned_response\": fine_tuned_response\n",
        "    }\n",
        "\n",
        "\n",
        "    output_file = \"output_data.json\"\n",
        "    if os.path.exists(output_file):\n",
        "        with open(output_file, \"r\") as f:\n",
        "            existing_data = json.load(f)\n",
        "    else:\n",
        "        existing_data = []\n",
        "\n",
        "    existing_data.append(result)\n",
        "\n",
        "    with open(output_file, \"w\") as f:\n",
        "        json.dump(existing_data, f, indent=4)\n",
        "\n",
        "    print(f\"Outputs appended to {output_file}.\")\n",
        "    return result"
      ],
      "metadata": {
        "id": "9BoVAbCIac1H"
      },
      "execution_count": 33,
      "outputs": []
    },
    {
      "cell_type": "code",
      "source": [
        "diary = \"20 0ctober 2023, i finallt won an awards for my effort in national competition, im so happy\"\n",
        "output = process_diary_input(diary)"
      ],
      "metadata": {
        "id": "Pwu7R4H1aofQ",
        "outputId": "1542d3b4-2094-4808-cd90-c3739e9fa523",
        "colab": {
          "base_uri": "https://localhost:8080/",
          "height": 508,
          "referenced_widgets": [
            "e5cfb101c87944c7bd9d2621d4afb1fa",
            "87191cd3d5c047cc8c3eb09259d8e719",
            "6cfd6bb5931849449ae967b5b3f0caea",
            "c9edcecde86345618168c24950c99afa",
            "fc9966e0239349469559094b68793634",
            "dbbde3c2d2b84e74ba0d9256b7914084",
            "f10b1e060b5d4e6485f316b36a636f1b",
            "a35fedd2d0ff4fed9b98d74e2cffa7d2",
            "5471afa33fd54678865d640487e8ab9f",
            "13938ee2ba014cecb42d939d740c1642",
            "eb7beed92337401aaca0b5e840965308",
            "fda9f0519dee4e66b731194dee137596",
            "368eb6dafa374a079e769481b07adcd0",
            "0b21782fac2143159611f8a592731d1a",
            "eed90ca0f3b34c92b2e7d28d87e04c03",
            "6fac558079754b82b566a370630f025f",
            "5895b12bbb3b4de6857a8b55eec88dac",
            "19b0289d159c4ee0b19cc58a8fc84c26",
            "4ba76754047a46ee94f357636cb8c2b7",
            "ae9a218b582f4b089aef134f130cee9c",
            "9a4035d29e164f3a9f82e01d955a699f",
            "5c46660667264f78bc0174b64d1ca838",
            "9cd7f9f0e19a4299810ec792c80cea57",
            "e8dc8e27493940d58ae3fa6b87adc119",
            "b6d927c4d5544adeaf885d392eb15be9",
            "4d80c03eb9534f52ab9c7c0bfad6e616",
            "8d056dc542544791a9878bda749c047b",
            "613861bd583743e4bbdddcb705d9fc0d",
            "e41e015c99144d9fb553c76a9a3152bf",
            "8242c452d86841a9aca63c72f62d3921",
            "b0d31ee79f104accaf12a5b98150cac0",
            "f19506eeda7b4b8b8bbe512c3ff1d56c",
            "fb0768b0482544ff917fb6daf61ffef3",
            "addabad7c0964d529369d7a2715f73d7",
            "9d398c30e31b429b9f97ab07e24df6af",
            "8f0ce73fb65940f58ec8d012fdca7de0",
            "c40d5abfdcb8487da81cccbc48190db7",
            "bcad66bb06d048d0bd44b1ba42bf79f0",
            "ba502463e5f644aea3fbcb83e6c6c55d",
            "9b1ad3a8eabb489daed97dbb0f6deaed",
            "0c8c6bace61944759fa9168c03d8d2da",
            "b1c67632186a4c78b93a8d1b6dd0be64",
            "4125783bfc204a30b4d8ed7cbc620e70",
            "a2ab1b7bc9684e28bbf46adf70a5133d",
            "f519d876303249678b2efe3437c9d27d",
            "797dae6e2953443f9e072181efb8373b",
            "e67b7d539d994401b8529a2437a6989d",
            "e262defb70424c41afe1d4550d908358",
            "b7f05692c45144f58d329b80fe94c766",
            "80664872924343c2a3457064cd547a1f",
            "953d4acc672142bc98239836ee8754c4",
            "270e5fbedf7e48b5a0dfffedce680b39",
            "7360493fc352469381fa996b6d0a2719",
            "d9990e8ee4fd4d39adbdf60072f599eb",
            "03f8394e53a745688ac2c7ad2559fc25",
            "996debd93908405caf77e716c41962b9",
            "257f7add5a3340c6a8b083ddd52cd49a",
            "70f500a2ea6f44c49f0bb1fbe06624af",
            "59062829c3b8410499e8f301ec47ae31",
            "98dcb3ab92fe420f8e231c74406a7416",
            "10b2d2912bbc4b8cae50b66e0e80faa6",
            "250fdabd09be4172b36d79e211d1eb7e",
            "1fe00dd5a6f14e57aa1365af8deb41ed",
            "43639f17430249ea9de55bcc40b7f3da",
            "05f75a0e3f424109bbe14d3336a700ee",
            "f710629c9429480aad823fec57af993a"
          ]
        }
      },
      "execution_count": 34,
      "outputs": [
        {
          "output_type": "display_data",
          "data": {
            "text/plain": [
              "tokenizer_config.json:   0%|          | 0.00/1.19k [00:00<?, ?B/s]"
            ],
            "application/vnd.jupyter.widget-view+json": {
              "version_major": 2,
              "version_minor": 0,
              "model_id": "e5cfb101c87944c7bd9d2621d4afb1fa"
            }
          },
          "metadata": {}
        },
        {
          "output_type": "display_data",
          "data": {
            "text/plain": [
              "vocab.json:   0%|          | 0.00/999k [00:00<?, ?B/s]"
            ],
            "application/vnd.jupyter.widget-view+json": {
              "version_major": 2,
              "version_minor": 0,
              "model_id": "fda9f0519dee4e66b731194dee137596"
            }
          },
          "metadata": {}
        },
        {
          "output_type": "display_data",
          "data": {
            "text/plain": [
              "merges.txt:   0%|          | 0.00/456k [00:00<?, ?B/s]"
            ],
            "application/vnd.jupyter.widget-view+json": {
              "version_major": 2,
              "version_minor": 0,
              "model_id": "9cd7f9f0e19a4299810ec792c80cea57"
            }
          },
          "metadata": {}
        },
        {
          "output_type": "display_data",
          "data": {
            "text/plain": [
              "special_tokens_map.json:   0%|          | 0.00/958 [00:00<?, ?B/s]"
            ],
            "application/vnd.jupyter.widget-view+json": {
              "version_major": 2,
              "version_minor": 0,
              "model_id": "addabad7c0964d529369d7a2715f73d7"
            }
          },
          "metadata": {}
        },
        {
          "output_type": "display_data",
          "data": {
            "text/plain": [
              "config.json:   0%|          | 0.00/1.02k [00:00<?, ?B/s]"
            ],
            "application/vnd.jupyter.widget-view+json": {
              "version_major": 2,
              "version_minor": 0,
              "model_id": "f519d876303249678b2efe3437c9d27d"
            }
          },
          "metadata": {}
        },
        {
          "output_type": "display_data",
          "data": {
            "text/plain": [
              "model.safetensors:   0%|          | 0.00/499M [00:00<?, ?B/s]"
            ],
            "application/vnd.jupyter.widget-view+json": {
              "version_major": 2,
              "version_minor": 0,
              "model_id": "996debd93908405caf77e716c41962b9"
            }
          },
          "metadata": {}
        },
        {
          "output_type": "error",
          "ename": "RuntimeError",
          "evalue": "Found no NVIDIA driver on your system. Please check that you have an NVIDIA GPU and installed a driver from http://www.nvidia.com/Download/index.aspx",
          "traceback": [
            "\u001b[0;31m---------------------------------------------------------------------------\u001b[0m",
            "\u001b[0;31mRuntimeError\u001b[0m                              Traceback (most recent call last)",
            "\u001b[0;32m<ipython-input-34-61aa640f171e>\u001b[0m in \u001b[0;36m<cell line: 2>\u001b[0;34m()\u001b[0m\n\u001b[1;32m      1\u001b[0m \u001b[0mdiary\u001b[0m \u001b[0;34m=\u001b[0m \u001b[0;34m\"20 0ctober 2023, i finallt won an awards for my effort in national competition, im so happy\"\u001b[0m\u001b[0;34m\u001b[0m\u001b[0;34m\u001b[0m\u001b[0m\n\u001b[0;32m----> 2\u001b[0;31m \u001b[0moutput\u001b[0m \u001b[0;34m=\u001b[0m \u001b[0mprocess_diary_input\u001b[0m\u001b[0;34m(\u001b[0m\u001b[0mdiary\u001b[0m\u001b[0;34m)\u001b[0m\u001b[0;34m\u001b[0m\u001b[0;34m\u001b[0m\u001b[0m\n\u001b[0m",
            "\u001b[0;32m<ipython-input-33-26724ab9e85f>\u001b[0m in \u001b[0;36mprocess_diary_input\u001b[0;34m(diary_content)\u001b[0m\n\u001b[1;32m     14\u001b[0m \u001b[0;34m\u001b[0m\u001b[0m\n\u001b[1;32m     15\u001b[0m     \u001b[0mtokenizer\u001b[0m \u001b[0;34m=\u001b[0m \u001b[0mAutoTokenizer\u001b[0m\u001b[0;34m.\u001b[0m\u001b[0mfrom_pretrained\u001b[0m\u001b[0;34m(\u001b[0m\u001b[0mEMOTION_MODEL_NAME\u001b[0m\u001b[0;34m)\u001b[0m\u001b[0;34m\u001b[0m\u001b[0;34m\u001b[0m\u001b[0m\n\u001b[0;32m---> 16\u001b[0;31m     \u001b[0memotion_model\u001b[0m \u001b[0;34m=\u001b[0m \u001b[0mAutoModelForSequenceClassification\u001b[0m\u001b[0;34m.\u001b[0m\u001b[0mfrom_pretrained\u001b[0m\u001b[0;34m(\u001b[0m\u001b[0mEMOTION_MODEL_NAME\u001b[0m\u001b[0;34m)\u001b[0m\u001b[0;34m.\u001b[0m\u001b[0mto\u001b[0m\u001b[0;34m(\u001b[0m\u001b[0;34m\"cuda\"\u001b[0m\u001b[0;34m)\u001b[0m\u001b[0;34m\u001b[0m\u001b[0;34m\u001b[0m\u001b[0m\n\u001b[0m\u001b[1;32m     17\u001b[0m     \u001b[0mgeneration_model\u001b[0m \u001b[0;34m=\u001b[0m \u001b[0mAutoModelForCausalLM\u001b[0m\u001b[0;34m.\u001b[0m\u001b[0mfrom_pretrained\u001b[0m\u001b[0;34m(\u001b[0m\u001b[0mGEMMA_MODEL_NAME\u001b[0m\u001b[0;34m)\u001b[0m\u001b[0;34m.\u001b[0m\u001b[0mto\u001b[0m\u001b[0;34m(\u001b[0m\u001b[0;34m\"cuda\"\u001b[0m\u001b[0;34m)\u001b[0m\u001b[0;34m\u001b[0m\u001b[0;34m\u001b[0m\u001b[0m\n\u001b[1;32m     18\u001b[0m \u001b[0;34m\u001b[0m\u001b[0m\n",
            "\u001b[0;32m/usr/local/lib/python3.10/dist-packages/transformers/modeling_utils.py\u001b[0m in \u001b[0;36mto\u001b[0;34m(self, *args, **kwargs)\u001b[0m\n\u001b[1;32m   3155\u001b[0m                     \u001b[0;34m\" `dtype` by passing the correct `torch_dtype` argument.\"\u001b[0m\u001b[0;34m\u001b[0m\u001b[0;34m\u001b[0m\u001b[0m\n\u001b[1;32m   3156\u001b[0m                 )\n\u001b[0;32m-> 3157\u001b[0;31m         \u001b[0;32mreturn\u001b[0m \u001b[0msuper\u001b[0m\u001b[0;34m(\u001b[0m\u001b[0;34m)\u001b[0m\u001b[0;34m.\u001b[0m\u001b[0mto\u001b[0m\u001b[0;34m(\u001b[0m\u001b[0;34m*\u001b[0m\u001b[0margs\u001b[0m\u001b[0;34m,\u001b[0m \u001b[0;34m**\u001b[0m\u001b[0mkwargs\u001b[0m\u001b[0;34m)\u001b[0m\u001b[0;34m\u001b[0m\u001b[0;34m\u001b[0m\u001b[0m\n\u001b[0m\u001b[1;32m   3158\u001b[0m \u001b[0;34m\u001b[0m\u001b[0m\n\u001b[1;32m   3159\u001b[0m     \u001b[0;32mdef\u001b[0m \u001b[0mhalf\u001b[0m\u001b[0;34m(\u001b[0m\u001b[0mself\u001b[0m\u001b[0;34m,\u001b[0m \u001b[0;34m*\u001b[0m\u001b[0margs\u001b[0m\u001b[0;34m)\u001b[0m\u001b[0;34m:\u001b[0m\u001b[0;34m\u001b[0m\u001b[0;34m\u001b[0m\u001b[0m\n",
            "\u001b[0;32m/usr/local/lib/python3.10/dist-packages/torch/nn/modules/module.py\u001b[0m in \u001b[0;36mto\u001b[0;34m(self, *args, **kwargs)\u001b[0m\n\u001b[1;32m   1338\u001b[0m                     \u001b[0;32mraise\u001b[0m\u001b[0;34m\u001b[0m\u001b[0;34m\u001b[0m\u001b[0m\n\u001b[1;32m   1339\u001b[0m \u001b[0;34m\u001b[0m\u001b[0m\n\u001b[0;32m-> 1340\u001b[0;31m         \u001b[0;32mreturn\u001b[0m \u001b[0mself\u001b[0m\u001b[0;34m.\u001b[0m\u001b[0m_apply\u001b[0m\u001b[0;34m(\u001b[0m\u001b[0mconvert\u001b[0m\u001b[0;34m)\u001b[0m\u001b[0;34m\u001b[0m\u001b[0;34m\u001b[0m\u001b[0m\n\u001b[0m\u001b[1;32m   1341\u001b[0m \u001b[0;34m\u001b[0m\u001b[0m\n\u001b[1;32m   1342\u001b[0m     def register_full_backward_pre_hook(\n",
            "\u001b[0;32m/usr/local/lib/python3.10/dist-packages/torch/nn/modules/module.py\u001b[0m in \u001b[0;36m_apply\u001b[0;34m(self, fn, recurse)\u001b[0m\n\u001b[1;32m    898\u001b[0m         \u001b[0;32mif\u001b[0m \u001b[0mrecurse\u001b[0m\u001b[0;34m:\u001b[0m\u001b[0;34m\u001b[0m\u001b[0;34m\u001b[0m\u001b[0m\n\u001b[1;32m    899\u001b[0m             \u001b[0;32mfor\u001b[0m \u001b[0mmodule\u001b[0m \u001b[0;32min\u001b[0m \u001b[0mself\u001b[0m\u001b[0;34m.\u001b[0m\u001b[0mchildren\u001b[0m\u001b[0;34m(\u001b[0m\u001b[0;34m)\u001b[0m\u001b[0;34m:\u001b[0m\u001b[0;34m\u001b[0m\u001b[0;34m\u001b[0m\u001b[0m\n\u001b[0;32m--> 900\u001b[0;31m                 \u001b[0mmodule\u001b[0m\u001b[0;34m.\u001b[0m\u001b[0m_apply\u001b[0m\u001b[0;34m(\u001b[0m\u001b[0mfn\u001b[0m\u001b[0;34m)\u001b[0m\u001b[0;34m\u001b[0m\u001b[0;34m\u001b[0m\u001b[0m\n\u001b[0m\u001b[1;32m    901\u001b[0m \u001b[0;34m\u001b[0m\u001b[0m\n\u001b[1;32m    902\u001b[0m         \u001b[0;32mdef\u001b[0m \u001b[0mcompute_should_use_set_data\u001b[0m\u001b[0;34m(\u001b[0m\u001b[0mtensor\u001b[0m\u001b[0;34m,\u001b[0m \u001b[0mtensor_applied\u001b[0m\u001b[0;34m)\u001b[0m\u001b[0;34m:\u001b[0m\u001b[0;34m\u001b[0m\u001b[0;34m\u001b[0m\u001b[0m\n",
            "\u001b[0;32m/usr/local/lib/python3.10/dist-packages/torch/nn/modules/module.py\u001b[0m in \u001b[0;36m_apply\u001b[0;34m(self, fn, recurse)\u001b[0m\n\u001b[1;32m    898\u001b[0m         \u001b[0;32mif\u001b[0m \u001b[0mrecurse\u001b[0m\u001b[0;34m:\u001b[0m\u001b[0;34m\u001b[0m\u001b[0;34m\u001b[0m\u001b[0m\n\u001b[1;32m    899\u001b[0m             \u001b[0;32mfor\u001b[0m \u001b[0mmodule\u001b[0m \u001b[0;32min\u001b[0m \u001b[0mself\u001b[0m\u001b[0;34m.\u001b[0m\u001b[0mchildren\u001b[0m\u001b[0;34m(\u001b[0m\u001b[0;34m)\u001b[0m\u001b[0;34m:\u001b[0m\u001b[0;34m\u001b[0m\u001b[0;34m\u001b[0m\u001b[0m\n\u001b[0;32m--> 900\u001b[0;31m                 \u001b[0mmodule\u001b[0m\u001b[0;34m.\u001b[0m\u001b[0m_apply\u001b[0m\u001b[0;34m(\u001b[0m\u001b[0mfn\u001b[0m\u001b[0;34m)\u001b[0m\u001b[0;34m\u001b[0m\u001b[0;34m\u001b[0m\u001b[0m\n\u001b[0m\u001b[1;32m    901\u001b[0m \u001b[0;34m\u001b[0m\u001b[0m\n\u001b[1;32m    902\u001b[0m         \u001b[0;32mdef\u001b[0m \u001b[0mcompute_should_use_set_data\u001b[0m\u001b[0;34m(\u001b[0m\u001b[0mtensor\u001b[0m\u001b[0;34m,\u001b[0m \u001b[0mtensor_applied\u001b[0m\u001b[0;34m)\u001b[0m\u001b[0;34m:\u001b[0m\u001b[0;34m\u001b[0m\u001b[0;34m\u001b[0m\u001b[0m\n",
            "\u001b[0;32m/usr/local/lib/python3.10/dist-packages/torch/nn/modules/module.py\u001b[0m in \u001b[0;36m_apply\u001b[0;34m(self, fn, recurse)\u001b[0m\n\u001b[1;32m    898\u001b[0m         \u001b[0;32mif\u001b[0m \u001b[0mrecurse\u001b[0m\u001b[0;34m:\u001b[0m\u001b[0;34m\u001b[0m\u001b[0;34m\u001b[0m\u001b[0m\n\u001b[1;32m    899\u001b[0m             \u001b[0;32mfor\u001b[0m \u001b[0mmodule\u001b[0m \u001b[0;32min\u001b[0m \u001b[0mself\u001b[0m\u001b[0;34m.\u001b[0m\u001b[0mchildren\u001b[0m\u001b[0;34m(\u001b[0m\u001b[0;34m)\u001b[0m\u001b[0;34m:\u001b[0m\u001b[0;34m\u001b[0m\u001b[0;34m\u001b[0m\u001b[0m\n\u001b[0;32m--> 900\u001b[0;31m                 \u001b[0mmodule\u001b[0m\u001b[0;34m.\u001b[0m\u001b[0m_apply\u001b[0m\u001b[0;34m(\u001b[0m\u001b[0mfn\u001b[0m\u001b[0;34m)\u001b[0m\u001b[0;34m\u001b[0m\u001b[0;34m\u001b[0m\u001b[0m\n\u001b[0m\u001b[1;32m    901\u001b[0m \u001b[0;34m\u001b[0m\u001b[0m\n\u001b[1;32m    902\u001b[0m         \u001b[0;32mdef\u001b[0m \u001b[0mcompute_should_use_set_data\u001b[0m\u001b[0;34m(\u001b[0m\u001b[0mtensor\u001b[0m\u001b[0;34m,\u001b[0m \u001b[0mtensor_applied\u001b[0m\u001b[0;34m)\u001b[0m\u001b[0;34m:\u001b[0m\u001b[0;34m\u001b[0m\u001b[0;34m\u001b[0m\u001b[0m\n",
            "\u001b[0;32m/usr/local/lib/python3.10/dist-packages/torch/nn/modules/module.py\u001b[0m in \u001b[0;36m_apply\u001b[0;34m(self, fn, recurse)\u001b[0m\n\u001b[1;32m    925\u001b[0m             \u001b[0;31m# `with torch.no_grad():`\u001b[0m\u001b[0;34m\u001b[0m\u001b[0;34m\u001b[0m\u001b[0m\n\u001b[1;32m    926\u001b[0m             \u001b[0;32mwith\u001b[0m \u001b[0mtorch\u001b[0m\u001b[0;34m.\u001b[0m\u001b[0mno_grad\u001b[0m\u001b[0;34m(\u001b[0m\u001b[0;34m)\u001b[0m\u001b[0;34m:\u001b[0m\u001b[0;34m\u001b[0m\u001b[0;34m\u001b[0m\u001b[0m\n\u001b[0;32m--> 927\u001b[0;31m                 \u001b[0mparam_applied\u001b[0m \u001b[0;34m=\u001b[0m \u001b[0mfn\u001b[0m\u001b[0;34m(\u001b[0m\u001b[0mparam\u001b[0m\u001b[0;34m)\u001b[0m\u001b[0;34m\u001b[0m\u001b[0;34m\u001b[0m\u001b[0m\n\u001b[0m\u001b[1;32m    928\u001b[0m             \u001b[0mp_should_use_set_data\u001b[0m \u001b[0;34m=\u001b[0m \u001b[0mcompute_should_use_set_data\u001b[0m\u001b[0;34m(\u001b[0m\u001b[0mparam\u001b[0m\u001b[0;34m,\u001b[0m \u001b[0mparam_applied\u001b[0m\u001b[0;34m)\u001b[0m\u001b[0;34m\u001b[0m\u001b[0;34m\u001b[0m\u001b[0m\n\u001b[1;32m    929\u001b[0m \u001b[0;34m\u001b[0m\u001b[0m\n",
            "\u001b[0;32m/usr/local/lib/python3.10/dist-packages/torch/nn/modules/module.py\u001b[0m in \u001b[0;36mconvert\u001b[0;34m(t)\u001b[0m\n\u001b[1;32m   1324\u001b[0m                         \u001b[0mmemory_format\u001b[0m\u001b[0;34m=\u001b[0m\u001b[0mconvert_to_format\u001b[0m\u001b[0;34m,\u001b[0m\u001b[0;34m\u001b[0m\u001b[0;34m\u001b[0m\u001b[0m\n\u001b[1;32m   1325\u001b[0m                     )\n\u001b[0;32m-> 1326\u001b[0;31m                 return t.to(\n\u001b[0m\u001b[1;32m   1327\u001b[0m                     \u001b[0mdevice\u001b[0m\u001b[0;34m,\u001b[0m\u001b[0;34m\u001b[0m\u001b[0;34m\u001b[0m\u001b[0m\n\u001b[1;32m   1328\u001b[0m                     \u001b[0mdtype\u001b[0m \u001b[0;32mif\u001b[0m \u001b[0mt\u001b[0m\u001b[0;34m.\u001b[0m\u001b[0mis_floating_point\u001b[0m\u001b[0;34m(\u001b[0m\u001b[0;34m)\u001b[0m \u001b[0;32mor\u001b[0m \u001b[0mt\u001b[0m\u001b[0;34m.\u001b[0m\u001b[0mis_complex\u001b[0m\u001b[0;34m(\u001b[0m\u001b[0;34m)\u001b[0m \u001b[0;32melse\u001b[0m \u001b[0;32mNone\u001b[0m\u001b[0;34m,\u001b[0m\u001b[0;34m\u001b[0m\u001b[0;34m\u001b[0m\u001b[0m\n",
            "\u001b[0;32m/usr/local/lib/python3.10/dist-packages/torch/cuda/__init__.py\u001b[0m in \u001b[0;36m_lazy_init\u001b[0;34m()\u001b[0m\n\u001b[1;32m    317\u001b[0m         \u001b[0;32mif\u001b[0m \u001b[0;34m\"CUDA_MODULE_LOADING\"\u001b[0m \u001b[0;32mnot\u001b[0m \u001b[0;32min\u001b[0m \u001b[0mos\u001b[0m\u001b[0;34m.\u001b[0m\u001b[0menviron\u001b[0m\u001b[0;34m:\u001b[0m\u001b[0;34m\u001b[0m\u001b[0;34m\u001b[0m\u001b[0m\n\u001b[1;32m    318\u001b[0m             \u001b[0mos\u001b[0m\u001b[0;34m.\u001b[0m\u001b[0menviron\u001b[0m\u001b[0;34m[\u001b[0m\u001b[0;34m\"CUDA_MODULE_LOADING\"\u001b[0m\u001b[0;34m]\u001b[0m \u001b[0;34m=\u001b[0m \u001b[0;34m\"LAZY\"\u001b[0m\u001b[0;34m\u001b[0m\u001b[0;34m\u001b[0m\u001b[0m\n\u001b[0;32m--> 319\u001b[0;31m         \u001b[0mtorch\u001b[0m\u001b[0;34m.\u001b[0m\u001b[0m_C\u001b[0m\u001b[0;34m.\u001b[0m\u001b[0m_cuda_init\u001b[0m\u001b[0;34m(\u001b[0m\u001b[0;34m)\u001b[0m\u001b[0;34m\u001b[0m\u001b[0;34m\u001b[0m\u001b[0m\n\u001b[0m\u001b[1;32m    320\u001b[0m         \u001b[0;31m# Some of the queued calls may reentrantly call _lazy_init();\u001b[0m\u001b[0;34m\u001b[0m\u001b[0;34m\u001b[0m\u001b[0m\n\u001b[1;32m    321\u001b[0m         \u001b[0;31m# we need to just return without initializing in that case.\u001b[0m\u001b[0;34m\u001b[0m\u001b[0;34m\u001b[0m\u001b[0m\n",
            "\u001b[0;31mRuntimeError\u001b[0m: Found no NVIDIA driver on your system. Please check that you have an NVIDIA GPU and installed a driver from http://www.nvidia.com/Download/index.aspx"
          ]
        }
      ]
    },
    {
      "cell_type": "markdown",
      "source": [
        " EROR diatas terjadi karena masa sewa gpu gratis di colab habis begini output yang bisa dikeluarkan jika terdapat gpu tersedia\n",
        "\n",
        " ![Screenshot 2024-12-14 224454.png](data:image/png;base64,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)"
      ],
      "metadata": {
        "id": "ksSo-2zVzqVJ"
      }
    }
  ]
}